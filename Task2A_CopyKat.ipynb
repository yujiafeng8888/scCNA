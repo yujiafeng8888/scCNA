{
  "nbformat": 4,
  "nbformat_minor": 0,
  "metadata": {
    "colab": {
      "provenance": [],
      "machine_shape": "hm"
    },
    "kernelspec": {
      "name": "python3",
      "display_name": "Python 3"
    },
    "language_info": {
      "name": "python"
    }
  },
  "cells": [
    {
      "cell_type": "code",
      "execution_count": null,
      "metadata": {
        "colab": {
          "base_uri": "https://localhost:8080/"
        },
        "id": "2F2ng0cooAGb",
        "outputId": "fb25ee04-5aac-4d85-f6f9-840054301511"
      },
      "outputs": [
        {
          "output_type": "stream",
          "name": "stdout",
          "text": [
            "Collecting scanpy\n",
            "  Downloading scanpy-1.11.1-py3-none-any.whl.metadata (9.9 kB)\n",
            "Collecting anndata>=0.8 (from scanpy)\n",
            "  Downloading anndata-0.11.4-py3-none-any.whl.metadata (9.3 kB)\n",
            "Requirement already satisfied: h5py>=3.7 in /usr/local/lib/python3.11/dist-packages (from scanpy) (3.13.0)\n",
            "Requirement already satisfied: joblib in /usr/local/lib/python3.11/dist-packages (from scanpy) (1.4.2)\n",
            "Collecting legacy-api-wrap>=1.4 (from scanpy)\n",
            "  Downloading legacy_api_wrap-1.4.1-py3-none-any.whl.metadata (2.1 kB)\n",
            "Requirement already satisfied: matplotlib>=3.7 in /usr/local/lib/python3.11/dist-packages (from scanpy) (3.10.0)\n",
            "Requirement already satisfied: natsort in /usr/local/lib/python3.11/dist-packages (from scanpy) (8.4.0)\n",
            "Requirement already satisfied: networkx>=2.7 in /usr/local/lib/python3.11/dist-packages (from scanpy) (3.4.2)\n",
            "Requirement already satisfied: numba>=0.57 in /usr/local/lib/python3.11/dist-packages (from scanpy) (0.60.0)\n",
            "Requirement already satisfied: numpy>=1.24 in /usr/local/lib/python3.11/dist-packages (from scanpy) (2.0.2)\n",
            "Requirement already satisfied: packaging>=21.3 in /usr/local/lib/python3.11/dist-packages (from scanpy) (24.2)\n",
            "Requirement already satisfied: pandas>=1.5 in /usr/local/lib/python3.11/dist-packages (from scanpy) (2.2.2)\n",
            "Requirement already satisfied: patsy!=1.0.0 in /usr/local/lib/python3.11/dist-packages (from scanpy) (1.0.1)\n",
            "Requirement already satisfied: pynndescent>=0.5 in /usr/local/lib/python3.11/dist-packages (from scanpy) (0.5.13)\n",
            "Collecting scikit-learn<1.6.0,>=1.1 (from scanpy)\n",
            "  Downloading scikit_learn-1.5.2-cp311-cp311-manylinux_2_17_x86_64.manylinux2014_x86_64.whl.metadata (13 kB)\n",
            "Requirement already satisfied: scipy>=1.8 in /usr/local/lib/python3.11/dist-packages (from scanpy) (1.15.2)\n",
            "Requirement already satisfied: seaborn>=0.13 in /usr/local/lib/python3.11/dist-packages (from scanpy) (0.13.2)\n",
            "Collecting session-info2 (from scanpy)\n",
            "  Downloading session_info2-0.1.2-py3-none-any.whl.metadata (2.5 kB)\n",
            "Requirement already satisfied: statsmodels>=0.13 in /usr/local/lib/python3.11/dist-packages (from scanpy) (0.14.4)\n",
            "Requirement already satisfied: tqdm in /usr/local/lib/python3.11/dist-packages (from scanpy) (4.67.1)\n",
            "Requirement already satisfied: typing-extensions in /usr/local/lib/python3.11/dist-packages (from scanpy) (4.13.2)\n",
            "Requirement already satisfied: umap-learn!=0.5.0,>=0.5 in /usr/local/lib/python3.11/dist-packages (from scanpy) (0.5.7)\n",
            "Collecting array-api-compat!=1.5,>1.4 (from anndata>=0.8->scanpy)\n",
            "  Downloading array_api_compat-1.11.2-py3-none-any.whl.metadata (1.9 kB)\n",
            "Requirement already satisfied: contourpy>=1.0.1 in /usr/local/lib/python3.11/dist-packages (from matplotlib>=3.7->scanpy) (1.3.2)\n",
            "Requirement already satisfied: cycler>=0.10 in /usr/local/lib/python3.11/dist-packages (from matplotlib>=3.7->scanpy) (0.12.1)\n",
            "Requirement already satisfied: fonttools>=4.22.0 in /usr/local/lib/python3.11/dist-packages (from matplotlib>=3.7->scanpy) (4.57.0)\n",
            "Requirement already satisfied: kiwisolver>=1.3.1 in /usr/local/lib/python3.11/dist-packages (from matplotlib>=3.7->scanpy) (1.4.8)\n",
            "Requirement already satisfied: pillow>=8 in /usr/local/lib/python3.11/dist-packages (from matplotlib>=3.7->scanpy) (11.2.1)\n",
            "Requirement already satisfied: pyparsing>=2.3.1 in /usr/local/lib/python3.11/dist-packages (from matplotlib>=3.7->scanpy) (3.2.3)\n",
            "Requirement already satisfied: python-dateutil>=2.7 in /usr/local/lib/python3.11/dist-packages (from matplotlib>=3.7->scanpy) (2.9.0.post0)\n",
            "Requirement already satisfied: llvmlite<0.44,>=0.43.0dev0 in /usr/local/lib/python3.11/dist-packages (from numba>=0.57->scanpy) (0.43.0)\n",
            "Requirement already satisfied: pytz>=2020.1 in /usr/local/lib/python3.11/dist-packages (from pandas>=1.5->scanpy) (2025.2)\n",
            "Requirement already satisfied: tzdata>=2022.7 in /usr/local/lib/python3.11/dist-packages (from pandas>=1.5->scanpy) (2025.2)\n",
            "Requirement already satisfied: threadpoolctl>=3.1.0 in /usr/local/lib/python3.11/dist-packages (from scikit-learn<1.6.0,>=1.1->scanpy) (3.6.0)\n",
            "Requirement already satisfied: six>=1.5 in /usr/local/lib/python3.11/dist-packages (from python-dateutil>=2.7->matplotlib>=3.7->scanpy) (1.17.0)\n",
            "Downloading scanpy-1.11.1-py3-none-any.whl (2.1 MB)\n",
            "\u001b[2K   \u001b[90m━━━━━━━━━━━━━━━━━━━━━━━━━━━━━━━━━━━━━━━━\u001b[0m \u001b[32m2.1/2.1 MB\u001b[0m \u001b[31m22.5 MB/s\u001b[0m eta \u001b[36m0:00:00\u001b[0m\n",
            "\u001b[?25hDownloading anndata-0.11.4-py3-none-any.whl (144 kB)\n",
            "\u001b[2K   \u001b[90m━━━━━━━━━━━━━━━━━━━━━━━━━━━━━━━━━━━━━━━━\u001b[0m \u001b[32m144.5/144.5 kB\u001b[0m \u001b[31m10.6 MB/s\u001b[0m eta \u001b[36m0:00:00\u001b[0m\n",
            "\u001b[?25hDownloading legacy_api_wrap-1.4.1-py3-none-any.whl (10.0 kB)\n",
            "Downloading scikit_learn-1.5.2-cp311-cp311-manylinux_2_17_x86_64.manylinux2014_x86_64.whl (13.3 MB)\n",
            "\u001b[2K   \u001b[90m━━━━━━━━━━━━━━━━━━━━━━━━━━━━━━━━━━━━━━━━\u001b[0m \u001b[32m13.3/13.3 MB\u001b[0m \u001b[31m100.1 MB/s\u001b[0m eta \u001b[36m0:00:00\u001b[0m\n",
            "\u001b[?25hDownloading session_info2-0.1.2-py3-none-any.whl (14 kB)\n",
            "Downloading array_api_compat-1.11.2-py3-none-any.whl (53 kB)\n",
            "\u001b[2K   \u001b[90m━━━━━━━━━━━━━━━━━━━━━━━━━━━━━━━━━━━━━━━━\u001b[0m \u001b[32m53.1/53.1 kB\u001b[0m \u001b[31m3.0 MB/s\u001b[0m eta \u001b[36m0:00:00\u001b[0m\n",
            "\u001b[?25hInstalling collected packages: session-info2, legacy-api-wrap, array-api-compat, scikit-learn, anndata, scanpy\n",
            "  Attempting uninstall: scikit-learn\n",
            "    Found existing installation: scikit-learn 1.6.1\n",
            "    Uninstalling scikit-learn-1.6.1:\n",
            "      Successfully uninstalled scikit-learn-1.6.1\n",
            "Successfully installed anndata-0.11.4 array-api-compat-1.11.2 legacy-api-wrap-1.4.1 scanpy-1.11.1 scikit-learn-1.5.2 session-info2-0.1.2\n",
            "Mounted at /content/drive\n"
          ]
        }
      ],
      "source": [
        "!pip install -q rpy2\n",
        "!pip install scanpy\n",
        "from google.colab import drive\n",
        "drive.mount('/content/drive')\n"
      ]
    },
    {
      "cell_type": "code",
      "source": [
        "import scanpy as sc\n",
        "import pandas as pd\n",
        "\n",
        "# # 读取 .h5ad 文件\n",
        "# adata = sc.read_h5ad(\"/content/drive/MyDrive/PBMC_simulated_cnas_041025.h5ad\")\n",
        "\n",
        "# # 转换为 gene × cell 的表达矩阵，CopyKAT 要求这样格式\n",
        "# expr_matrix = pd.DataFrame(adata.X.T.toarray(), index=adata.var_names, columns=adata.obs_names)\n"
      ],
      "metadata": {
        "id": "ixYzraOVoCQ-"
      },
      "execution_count": null,
      "outputs": []
    },
    {
      "cell_type": "code",
      "source": [
        "\n",
        "adata = sc.read_h5ad(\"/content/drive/MyDrive/PBMC_simulated_cnas_041025.h5ad\")\n",
        "\n",
        "# 转换为 gene × cell 的表达矩阵，CopyKAT 要求这样格式\n",
        "expr_matrix = pd.DataFrame(adata.X.T.toarray(), index=adata.var_names, columns=adata.obs_names)\n"
      ],
      "metadata": {
        "id": "oay0AtItpaHT"
      },
      "execution_count": null,
      "outputs": []
    },
    {
      "cell_type": "code",
      "source": [
        "%load_ext rpy2.ipython\n"
      ],
      "metadata": {
        "id": "dhwtXa_lpgTa"
      },
      "execution_count": null,
      "outputs": []
    },
    {
      "cell_type": "code",
      "source": [
        "%%R\n",
        "# 安装 BiocManager\n",
        "if (!requireNamespace(\"BiocManager\", quietly = TRUE)) {\n",
        "  install.packages(\"BiocManager\")\n",
        "}\n",
        "\n",
        "# 安装 CopyKAT（从 GitHub）\n",
        "BiocManager::install(\"navinlabcode/copykat\", ask = FALSE, update = FALSE)\n",
        "\n",
        "# 加载库\n",
        "library(copykat)\n"
      ],
      "metadata": {
        "colab": {
          "base_uri": "https://localhost:8080/",
          "height": 1000
        },
        "id": "WNXdzGStphYw",
        "outputId": "11df7269-3ff6-45c2-cd8d-7ea1ef425619"
      },
      "execution_count": null,
      "outputs": [
        {
          "output_type": "stream",
          "name": "stdout",
          "text": [
            "── R CMD build ─────────────────────────────────────────────────────────────────\n",
            "* checking for file ‘/tmp/RtmpvrMzlz/remotes21262a0d8ab/navinlabcode-copykat-d7d6569/DESCRIPTION’ ... OK\n",
            "* preparing ‘copykat’:\n",
            "* checking DESCRIPTION meta-information ... OK\n",
            "* checking for LF line-endings in source and make files and shell scripts\n",
            "* checking for empty or unneeded directories\n",
            "  NB: this package now depends on R (>= 3.5.0)\n",
            "  WARNING: Added dependency on R >= 3.5.0 because serialized objects in\n",
            "  serialize/load version 3 cannot be read in older versions of R.\n",
            "  File(s) containing such objects:\n",
            "    ‘copykat/data/sysdata.rda’\n",
            "* building ‘copykat_1.1.0.tar.gz’\n",
            "\n"
          ]
        },
        {
          "output_type": "display_data",
          "data": {
            "text/plain": [
              "Installing package into ‘/usr/local/lib/R/site-library’\n",
              "(as ‘lib’ is unspecified)\n",
              "trying URL 'https://cran.rstudio.com/src/contrib/BiocManager_1.30.25.tar.gz'\n",
              "Content type 'application/x-gzip' length 593414 bytes (579 KB)\n",
              "==================================================\n",
              "downloaded 579 KB\n",
              "\n",
              "\n",
              "The downloaded source packages are in\n",
              "\t‘/tmp/RtmpvrMzlz/downloaded_packages’\n",
              "'getOption(\"repos\")' replaces Bioconductor standard repositories, see\n",
              "'help(\"repositories\", package = \"BiocManager\")' for details.\n",
              "Replacement repositories:\n",
              "    CRAN: https://cran.rstudio.com\n",
              "Bioconductor version 3.21 (BiocManager 1.30.25), R 4.5.0 (2025-04-11)\n",
              "Installing package(s) 'BiocVersion'\n",
              "trying URL 'https://bioconductor.org/packages/3.21/bioc/src/contrib/BiocVersion_3.21.1.tar.gz'\n",
              "Content type 'application/x-gzip' length 991 bytes\n",
              "==================================================\n",
              "downloaded 991 bytes\n",
              "\n",
              "\n",
              "The downloaded source packages are in\n",
              "\t‘/tmp/RtmpvrMzlz/downloaded_packages’\n",
              "Installing github package(s) 'navinlabcode/copykat'\n",
              "Downloading GitHub repo navinlabcode/copykat@HEAD\n",
              "Installing 20 packages: MatrixModels, SparseM, crosstalk, lazyeval, bitops, quantreg, mcmc, coda, segmented, plotly, kernlab, caTools, gtools, RcppArmadillo, RcppParallel, MCMCpack, mixtools, gplots, dlm, parallelDist\n",
              "trying URL 'https://cran.rstudio.com/src/contrib/MatrixModels_0.5-4.tar.gz'\n",
              "trying URL 'https://cran.rstudio.com/src/contrib/SparseM_1.84-2.tar.gz'\n",
              "trying URL 'https://cran.rstudio.com/src/contrib/crosstalk_1.2.1.tar.gz'\n",
              "trying URL 'https://cran.rstudio.com/src/contrib/lazyeval_0.2.2.tar.gz'\n",
              "trying URL 'https://cran.rstudio.com/src/contrib/bitops_1.0-9.tar.gz'\n",
              "trying URL 'https://cran.rstudio.com/src/contrib/quantreg_6.1.tar.gz'\n",
              "trying URL 'https://cran.rstudio.com/src/contrib/mcmc_0.9-8.tar.gz'\n",
              "trying URL 'https://cran.rstudio.com/src/contrib/coda_0.19-4.1.tar.gz'\n",
              "trying URL 'https://cran.rstudio.com/src/contrib/segmented_2.1-4.tar.gz'\n",
              "trying URL 'https://cran.rstudio.com/src/contrib/plotly_4.10.4.tar.gz'\n",
              "trying URL 'https://cran.rstudio.com/src/contrib/kernlab_0.9-33.tar.gz'\n",
              "trying URL 'https://cran.rstudio.com/src/contrib/caTools_1.18.3.tar.gz'\n",
              "trying URL 'https://cran.rstudio.com/src/contrib/gtools_3.9.5.tar.gz'\n",
              "trying URL 'https://cran.rstudio.com/src/contrib/RcppArmadillo_14.4.2-1.tar.gz'\n",
              "trying URL 'https://cran.rstudio.com/src/contrib/RcppParallel_5.1.10.tar.gz'\n",
              "trying URL 'https://cran.rstudio.com/src/contrib/MCMCpack_1.7-1.tar.gz'\n",
              "trying URL 'https://cran.rstudio.com/src/contrib/mixtools_2.0.0.1.tar.gz'\n",
              "trying URL 'https://cran.rstudio.com/src/contrib/gplots_3.2.0.tar.gz'\n",
              "trying URL 'https://cran.rstudio.com/src/contrib/dlm_1.1-6.1.tar.gz'\n",
              "trying URL 'https://cran.rstudio.com/src/contrib/parallelDist_0.2.6.tar.gz'\n",
              "\n",
              "The downloaded source packages are in\n",
              "\t‘/tmp/RtmpvrMzlz/downloaded_packages’\n"
            ]
          },
          "metadata": {}
        }
      ]
    },
    {
      "cell_type": "code",
      "source": [
        "import rpy2.robjects as robjects\n",
        "from rpy2.robjects import pandas2ri\n",
        "pandas2ri.activate()\n",
        "\n",
        "# 传入 R 环境\n",
        "robjects.globalenv['expr_matrix'] = pandas2ri.py2rpy(expr_matrix)\n"
      ],
      "metadata": {
        "id": "e1P3JD0bphNz"
      },
      "execution_count": null,
      "outputs": []
    },
    {
      "cell_type": "code",
      "source": [
        "%%R\n",
        "results <- copykat(\n",
        "  rawmat = expr_matrix,\n",
        "  id.type = \"SYMBOL\",\n",
        "  ngene.chr = 5,\n",
        "  win.size = 250,\n",
        "  norm.cell.names = NULL,\n",
        "  output.seg = \"no\"\n",
        ")\n",
        "\n",
        "# 查看分类结果\n",
        "head(results$prediction)\n"
      ],
      "metadata": {
        "colab": {
          "base_uri": "https://localhost:8080/"
        },
        "id": "O8nYGOzZpnX9",
        "outputId": "ad3d4944-2dc3-4e7f-f552-d89ed55f77a3"
      },
      "execution_count": null,
      "outputs": [
        {
          "output_type": "stream",
          "name": "stdout",
          "text": [
            "[1] \"running copykat v1.1.0\"\n",
            "[1] \"step1: read and filter data ...\"\n",
            "[1] \"20104 genes, 10309 cells in raw data\"\n",
            "[1] \"8612 genes past LOW.DR filtering\"\n",
            "[1] \"step 2: annotations gene coordinates ...\"\n",
            "[1] \"start annotation ...\"\n",
            "[1] \"step 3: smoothing data with dlm ...\"\n",
            "[1] \"step 4: measuring baselines ...\"\n",
            "number of iterations= 127 \n",
            "number of iterations= 352 \n",
            "number of iterations= 167 \n",
            "number of iterations= 105 \n",
            "number of iterations= 161 \n",
            "number of iterations= 256 \n",
            "[1] \"low confidence in classification\"\n",
            "[1] \"cell: 1\"\n",
            "WARNING! NOT CONVERGENT! \n",
            "number of iterations= 500 \n",
            "[1] \"cell: 2\"\n",
            "WARNING! NOT CONVERGENT! \n",
            "number of iterations= 500 \n",
            "[1] \"cell: 3\"\n",
            "WARNING! NOT CONVERGENT! \n",
            "number of iterations= 500 \n",
            "[1] \"cell: 4\"\n",
            "number of iterations= 198 \n",
            "[1] \"cell: 5\"\n",
            "WARNING! NOT CONVERGENT! \n",
            "number of iterations= 500 \n",
            "[1] \"cell: 6\"\n",
            "WARNING! NOT CONVERGENT! \n",
            "number of iterations= 500 \n",
            "[1] \"cell: 7\"\n",
            "WARNING! NOT CONVERGENT! \n",
            "number of iterations= 500 \n",
            "[1] \"cell: 8\"\n",
            "WARNING! NOT CONVERGENT! \n",
            "number of iterations= 500 \n",
            "[1] \"cell: 9\"\n",
            "WARNING! NOT CONVERGENT! \n",
            "number of iterations= 500 \n",
            "[1] \"cell: 10\"\n",
            "number of iterations= 334 \n",
            "[1] \"cell: 11\"\n",
            "WARNING! NOT CONVERGENT! \n",
            "number of iterations= 500 \n",
            "[1] \"cell: 12\"\n",
            "number of iterations= 346 \n",
            "[1] \"cell: 13\"\n",
            "WARNING! NOT CONVERGENT! \n",
            "number of iterations= 500 \n",
            "[1] \"cell: 14\"\n",
            "number of iterations= 432 \n",
            "[1] \"cell: 15\"\n",
            "WARNING! NOT CONVERGENT! \n",
            "number of iterations= 500 \n",
            "[1] \"cell: 16\"\n",
            "WARNING! NOT CONVERGENT! \n",
            "number of iterations= 500 \n",
            "[1] \"cell: 17\"\n",
            "WARNING! NOT CONVERGENT! \n",
            "number of iterations= 500 \n",
            "[1] \"cell: 18\"\n",
            "number of iterations= 361 \n",
            "[1] \"cell: 19\"\n",
            "number of iterations= 402 \n",
            "[1] \"cell: 20\"\n",
            "number of iterations= 260 \n",
            "[1] \"cell: 21\"\n",
            "WARNING! NOT CONVERGENT! \n",
            "number of iterations= 500 \n"
          ]
        }
      ]
    },
    {
      "cell_type": "code",
      "source": [
        "copykat_pred = pandas2ri.rpy2py(robjects.r('results$prediction'))\n",
        "copykat_pred = pd.DataFrame(copykat_pred)\n",
        "copykat_pred.columns = ['copykat_prediction']\n",
        "copykat_pred.index.name = 'cell'\n",
        "\n",
        "# 合并回 AnnData 对象中\n",
        "adata.obs['copykat'] = copykat_pred.loc[adata.obs_names, 'copykat_prediction'].values\n",
        "\n",
        "# 查看统计\n",
        "adata.obs['copykat'].value_counts()\n"
      ],
      "metadata": {
        "id": "RNd8g6-yppnK"
      },
      "execution_count": null,
      "outputs": []
    }
  ]
}