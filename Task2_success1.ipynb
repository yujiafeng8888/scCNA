{
  "cells": [
    {
      "cell_type": "code",
      "execution_count": 1,
      "metadata": {
        "colab": {
          "base_uri": "https://localhost:8080/"
        },
        "id": "A0PWJij5gKjP",
        "outputId": "62198499-7ee8-4485-900a-321cc06a5018"
      },
      "outputs": [
        {
          "output_type": "stream",
          "name": "stdout",
          "text": [
            "Cloning into 'scCNA'...\n",
            "remote: Enumerating objects: 91, done.\u001b[K\n",
            "remote: Counting objects: 100% (25/25), done.\u001b[K\n",
            "remote: Compressing objects: 100% (20/20), done.\u001b[K\n",
            "remote: Total 91 (delta 12), reused 10 (delta 4), pack-reused 66 (from 1)\u001b[K\n",
            "Receiving objects: 100% (91/91), 42.40 MiB | 61.15 MiB/s, done.\n",
            "Resolving deltas: 100% (41/41), done.\n",
            "/content/scCNA\n",
            "Processing /content/scCNA\n",
            "  Preparing metadata (setup.py) ... \u001b[?25l\u001b[?25hdone\n",
            "Requirement already satisfied: pandas in /usr/local/lib/python3.11/dist-packages (from scCNA==0.1) (2.2.2)\n",
            "Requirement already satisfied: numpy in /usr/local/lib/python3.11/dist-packages (from scCNA==0.1) (2.0.2)\n",
            "Collecting scanpy (from scCNA==0.1)\n",
            "  Downloading scanpy-1.11.1-py3-none-any.whl.metadata (9.9 kB)\n",
            "Requirement already satisfied: seaborn in /usr/local/lib/python3.11/dist-packages (from scCNA==0.1) (0.13.2)\n",
            "Requirement already satisfied: matplotlib in /usr/local/lib/python3.11/dist-packages (from scCNA==0.1) (3.10.0)\n",
            "Collecting anndata (from scCNA==0.1)\n",
            "  Downloading anndata-0.11.4-py3-none-any.whl.metadata (9.3 kB)\n",
            "Requirement already satisfied: typing-extensions in /usr/local/lib/python3.11/dist-packages (from scCNA==0.1) (4.13.2)\n",
            "Collecting array-api-compat!=1.5,>1.4 (from anndata->scCNA==0.1)\n",
            "  Downloading array_api_compat-1.11.2-py3-none-any.whl.metadata (1.9 kB)\n",
            "Requirement already satisfied: h5py>=3.7 in /usr/local/lib/python3.11/dist-packages (from anndata->scCNA==0.1) (3.13.0)\n",
            "Requirement already satisfied: natsort in /usr/local/lib/python3.11/dist-packages (from anndata->scCNA==0.1) (8.4.0)\n",
            "Requirement already satisfied: packaging>=24.2 in /usr/local/lib/python3.11/dist-packages (from anndata->scCNA==0.1) (24.2)\n",
            "Requirement already satisfied: scipy>1.8 in /usr/local/lib/python3.11/dist-packages (from anndata->scCNA==0.1) (1.15.2)\n",
            "Requirement already satisfied: python-dateutil>=2.8.2 in /usr/local/lib/python3.11/dist-packages (from pandas->scCNA==0.1) (2.9.0.post0)\n",
            "Requirement already satisfied: pytz>=2020.1 in /usr/local/lib/python3.11/dist-packages (from pandas->scCNA==0.1) (2025.2)\n",
            "Requirement already satisfied: tzdata>=2022.7 in /usr/local/lib/python3.11/dist-packages (from pandas->scCNA==0.1) (2025.2)\n",
            "Requirement already satisfied: contourpy>=1.0.1 in /usr/local/lib/python3.11/dist-packages (from matplotlib->scCNA==0.1) (1.3.2)\n",
            "Requirement already satisfied: cycler>=0.10 in /usr/local/lib/python3.11/dist-packages (from matplotlib->scCNA==0.1) (0.12.1)\n",
            "Requirement already satisfied: fonttools>=4.22.0 in /usr/local/lib/python3.11/dist-packages (from matplotlib->scCNA==0.1) (4.57.0)\n",
            "Requirement already satisfied: kiwisolver>=1.3.1 in /usr/local/lib/python3.11/dist-packages (from matplotlib->scCNA==0.1) (1.4.8)\n",
            "Requirement already satisfied: pillow>=8 in /usr/local/lib/python3.11/dist-packages (from matplotlib->scCNA==0.1) (11.2.1)\n",
            "Requirement already satisfied: pyparsing>=2.3.1 in /usr/local/lib/python3.11/dist-packages (from matplotlib->scCNA==0.1) (3.2.3)\n",
            "Requirement already satisfied: joblib in /usr/local/lib/python3.11/dist-packages (from scanpy->scCNA==0.1) (1.4.2)\n",
            "Collecting legacy-api-wrap>=1.4 (from scanpy->scCNA==0.1)\n",
            "  Downloading legacy_api_wrap-1.4.1-py3-none-any.whl.metadata (2.1 kB)\n",
            "Requirement already satisfied: networkx>=2.7 in /usr/local/lib/python3.11/dist-packages (from scanpy->scCNA==0.1) (3.4.2)\n",
            "Requirement already satisfied: numba>=0.57 in /usr/local/lib/python3.11/dist-packages (from scanpy->scCNA==0.1) (0.60.0)\n",
            "Requirement already satisfied: patsy!=1.0.0 in /usr/local/lib/python3.11/dist-packages (from scanpy->scCNA==0.1) (1.0.1)\n",
            "Requirement already satisfied: pynndescent>=0.5 in /usr/local/lib/python3.11/dist-packages (from scanpy->scCNA==0.1) (0.5.13)\n",
            "Collecting scikit-learn<1.6.0,>=1.1 (from scanpy->scCNA==0.1)\n",
            "  Downloading scikit_learn-1.5.2-cp311-cp311-manylinux_2_17_x86_64.manylinux2014_x86_64.whl.metadata (13 kB)\n",
            "Collecting session-info2 (from scanpy->scCNA==0.1)\n",
            "  Downloading session_info2-0.1.2-py3-none-any.whl.metadata (2.5 kB)\n",
            "Requirement already satisfied: statsmodels>=0.13 in /usr/local/lib/python3.11/dist-packages (from scanpy->scCNA==0.1) (0.14.4)\n",
            "Requirement already satisfied: tqdm in /usr/local/lib/python3.11/dist-packages (from scanpy->scCNA==0.1) (4.67.1)\n",
            "Requirement already satisfied: umap-learn!=0.5.0,>=0.5 in /usr/local/lib/python3.11/dist-packages (from scanpy->scCNA==0.1) (0.5.7)\n",
            "Requirement already satisfied: llvmlite<0.44,>=0.43.0dev0 in /usr/local/lib/python3.11/dist-packages (from numba>=0.57->scanpy->scCNA==0.1) (0.43.0)\n",
            "Requirement already satisfied: six>=1.5 in /usr/local/lib/python3.11/dist-packages (from python-dateutil>=2.8.2->pandas->scCNA==0.1) (1.17.0)\n",
            "Requirement already satisfied: threadpoolctl>=3.1.0 in /usr/local/lib/python3.11/dist-packages (from scikit-learn<1.6.0,>=1.1->scanpy->scCNA==0.1) (3.6.0)\n",
            "Downloading anndata-0.11.4-py3-none-any.whl (144 kB)\n",
            "\u001b[2K   \u001b[90m━━━━━━━━━━━━━━━━━━━━━━━━━━━━━━━━━━━━━━━━\u001b[0m \u001b[32m144.5/144.5 kB\u001b[0m \u001b[31m9.8 MB/s\u001b[0m eta \u001b[36m0:00:00\u001b[0m\n",
            "\u001b[?25hDownloading scanpy-1.11.1-py3-none-any.whl (2.1 MB)\n",
            "\u001b[2K   \u001b[90m━━━━━━━━━━━━━━━━━━━━━━━━━━━━━━━━━━━━━━━━\u001b[0m \u001b[32m2.1/2.1 MB\u001b[0m \u001b[31m72.6 MB/s\u001b[0m eta \u001b[36m0:00:00\u001b[0m\n",
            "\u001b[?25hDownloading array_api_compat-1.11.2-py3-none-any.whl (53 kB)\n",
            "\u001b[2K   \u001b[90m━━━━━━━━━━━━━━━━━━━━━━━━━━━━━━━━━━━━━━━━\u001b[0m \u001b[32m53.1/53.1 kB\u001b[0m \u001b[31m3.9 MB/s\u001b[0m eta \u001b[36m0:00:00\u001b[0m\n",
            "\u001b[?25hDownloading legacy_api_wrap-1.4.1-py3-none-any.whl (10.0 kB)\n",
            "Downloading scikit_learn-1.5.2-cp311-cp311-manylinux_2_17_x86_64.manylinux2014_x86_64.whl (13.3 MB)\n",
            "\u001b[2K   \u001b[90m━━━━━━━━━━━━━━━━━━━━━━━━━━━━━━━━━━━━━━━━\u001b[0m \u001b[32m13.3/13.3 MB\u001b[0m \u001b[31m107.0 MB/s\u001b[0m eta \u001b[36m0:00:00\u001b[0m\n",
            "\u001b[?25hDownloading session_info2-0.1.2-py3-none-any.whl (14 kB)\n",
            "Building wheels for collected packages: scCNA\n",
            "  Building wheel for scCNA (setup.py) ... \u001b[?25l\u001b[?25hdone\n",
            "  Created wheel for scCNA: filename=scCNA-0.1-py3-none-any.whl size=6090 sha256=a266987deb04522535c1d9d86218e89b31edfa83f8351aa41bae7e0f13fc51fe\n",
            "  Stored in directory: /tmp/pip-ephem-wheel-cache-o45n79ez/wheels/25/cc/c5/ae548f3a909d160258148b54a2721305eb2d68474f5650137d\n",
            "Successfully built scCNA\n",
            "Installing collected packages: session-info2, legacy-api-wrap, array-api-compat, scikit-learn, anndata, scanpy, scCNA\n",
            "  Attempting uninstall: scikit-learn\n",
            "    Found existing installation: scikit-learn 1.6.1\n",
            "    Uninstalling scikit-learn-1.6.1:\n",
            "      Successfully uninstalled scikit-learn-1.6.1\n",
            "Successfully installed anndata-0.11.4 array-api-compat-1.11.2 legacy-api-wrap-1.4.1 scCNA-0.1 scanpy-1.11.1 scikit-learn-1.5.2 session-info2-0.1.2\n",
            "Collecting infercnvpy\n",
            "  Downloading infercnvpy-0.6.0-py3-none-any.whl.metadata (6.6 kB)\n",
            "Requirement already satisfied: anndata>=0.7.3 in /usr/local/lib/python3.11/dist-packages (from infercnvpy) (0.11.4)\n",
            "Collecting leidenalg (from infercnvpy)\n",
            "  Downloading leidenalg-0.10.2-cp38-abi3-manylinux_2_17_x86_64.manylinux2014_x86_64.whl.metadata (10 kB)\n",
            "Requirement already satisfied: numpy>=1.20 in /usr/local/lib/python3.11/dist-packages (from infercnvpy) (2.0.2)\n",
            "Requirement already satisfied: pandas>=1 in /usr/local/lib/python3.11/dist-packages (from infercnvpy) (2.2.2)\n",
            "Collecting pybiomart>=0.2.0 (from infercnvpy)\n",
            "  Downloading pybiomart-0.2.0-py3-none-any.whl.metadata (1.1 kB)\n",
            "Collecting pyreadr (from infercnvpy)\n",
            "  Downloading pyreadr-0.5.3-cp311-cp311-manylinux_2_17_x86_64.manylinux2014_x86_64.whl.metadata (1.4 kB)\n",
            "Collecting pytest-benchmark (from infercnvpy)\n",
            "  Downloading pytest_benchmark-5.1.0-py3-none-any.whl.metadata (25 kB)\n",
            "Collecting pytoml (from infercnvpy)\n",
            "  Downloading pytoml-0.1.21-py2.py3-none-any.whl.metadata (2.0 kB)\n",
            "Requirement already satisfied: scanpy>=1.10 in /usr/local/lib/python3.11/dist-packages (from infercnvpy) (1.11.1)\n",
            "Collecting session-info (from infercnvpy)\n",
            "  Downloading session_info-1.0.1-py3-none-any.whl.metadata (5.1 kB)\n",
            "Requirement already satisfied: tqdm>=4.63.0 in /usr/local/lib/python3.11/dist-packages (from infercnvpy) (4.67.1)\n",
            "Requirement already satisfied: array-api-compat!=1.5,>1.4 in /usr/local/lib/python3.11/dist-packages (from anndata>=0.7.3->infercnvpy) (1.11.2)\n",
            "Requirement already satisfied: h5py>=3.7 in /usr/local/lib/python3.11/dist-packages (from anndata>=0.7.3->infercnvpy) (3.13.0)\n",
            "Requirement already satisfied: natsort in /usr/local/lib/python3.11/dist-packages (from anndata>=0.7.3->infercnvpy) (8.4.0)\n",
            "Requirement already satisfied: packaging>=24.2 in /usr/local/lib/python3.11/dist-packages (from anndata>=0.7.3->infercnvpy) (24.2)\n",
            "Requirement already satisfied: scipy>1.8 in /usr/local/lib/python3.11/dist-packages (from anndata>=0.7.3->infercnvpy) (1.15.2)\n",
            "Requirement already satisfied: python-dateutil>=2.8.2 in /usr/local/lib/python3.11/dist-packages (from pandas>=1->infercnvpy) (2.9.0.post0)\n",
            "Requirement already satisfied: pytz>=2020.1 in /usr/local/lib/python3.11/dist-packages (from pandas>=1->infercnvpy) (2025.2)\n",
            "Requirement already satisfied: tzdata>=2022.7 in /usr/local/lib/python3.11/dist-packages (from pandas>=1->infercnvpy) (2025.2)\n",
            "Requirement already satisfied: future in /usr/local/lib/python3.11/dist-packages (from pybiomart>=0.2.0->infercnvpy) (1.0.0)\n",
            "Requirement already satisfied: requests in /usr/local/lib/python3.11/dist-packages (from pybiomart>=0.2.0->infercnvpy) (2.32.3)\n",
            "Collecting requests-cache (from pybiomart>=0.2.0->infercnvpy)\n",
            "  Downloading requests_cache-1.2.1-py3-none-any.whl.metadata (9.9 kB)\n",
            "Requirement already satisfied: joblib in /usr/local/lib/python3.11/dist-packages (from scanpy>=1.10->infercnvpy) (1.4.2)\n",
            "Requirement already satisfied: legacy-api-wrap>=1.4 in /usr/local/lib/python3.11/dist-packages (from scanpy>=1.10->infercnvpy) (1.4.1)\n",
            "Requirement already satisfied: matplotlib>=3.7 in /usr/local/lib/python3.11/dist-packages (from scanpy>=1.10->infercnvpy) (3.10.0)\n",
            "Requirement already satisfied: networkx>=2.7 in /usr/local/lib/python3.11/dist-packages (from scanpy>=1.10->infercnvpy) (3.4.2)\n",
            "Requirement already satisfied: numba>=0.57 in /usr/local/lib/python3.11/dist-packages (from scanpy>=1.10->infercnvpy) (0.60.0)\n",
            "Requirement already satisfied: patsy!=1.0.0 in /usr/local/lib/python3.11/dist-packages (from scanpy>=1.10->infercnvpy) (1.0.1)\n",
            "Requirement already satisfied: pynndescent>=0.5 in /usr/local/lib/python3.11/dist-packages (from scanpy>=1.10->infercnvpy) (0.5.13)\n",
            "Requirement already satisfied: scikit-learn<1.6.0,>=1.1 in /usr/local/lib/python3.11/dist-packages (from scanpy>=1.10->infercnvpy) (1.5.2)\n",
            "Requirement already satisfied: seaborn>=0.13 in /usr/local/lib/python3.11/dist-packages (from scanpy>=1.10->infercnvpy) (0.13.2)\n",
            "Requirement already satisfied: session-info2 in /usr/local/lib/python3.11/dist-packages (from scanpy>=1.10->infercnvpy) (0.1.2)\n",
            "Requirement already satisfied: statsmodels>=0.13 in /usr/local/lib/python3.11/dist-packages (from scanpy>=1.10->infercnvpy) (0.14.4)\n",
            "Requirement already satisfied: typing-extensions in /usr/local/lib/python3.11/dist-packages (from scanpy>=1.10->infercnvpy) (4.13.2)\n",
            "Requirement already satisfied: umap-learn!=0.5.0,>=0.5 in /usr/local/lib/python3.11/dist-packages (from scanpy>=1.10->infercnvpy) (0.5.7)\n",
            "Collecting igraph<0.12,>=0.10.0 (from leidenalg->infercnvpy)\n",
            "  Downloading igraph-0.11.8-cp39-abi3-manylinux_2_17_x86_64.manylinux2014_x86_64.whl.metadata (3.8 kB)\n",
            "Requirement already satisfied: pytest>=8.1 in /usr/local/lib/python3.11/dist-packages (from pytest-benchmark->infercnvpy) (8.3.5)\n",
            "Requirement already satisfied: py-cpuinfo in /usr/local/lib/python3.11/dist-packages (from pytest-benchmark->infercnvpy) (9.0.0)\n",
            "Collecting stdlib_list (from session-info->infercnvpy)\n",
            "  Downloading stdlib_list-0.11.1-py3-none-any.whl.metadata (3.3 kB)\n",
            "Collecting texttable>=1.6.2 (from igraph<0.12,>=0.10.0->leidenalg->infercnvpy)\n",
            "  Downloading texttable-1.7.0-py2.py3-none-any.whl.metadata (9.8 kB)\n",
            "Requirement already satisfied: contourpy>=1.0.1 in /usr/local/lib/python3.11/dist-packages (from matplotlib>=3.7->scanpy>=1.10->infercnvpy) (1.3.2)\n",
            "Requirement already satisfied: cycler>=0.10 in /usr/local/lib/python3.11/dist-packages (from matplotlib>=3.7->scanpy>=1.10->infercnvpy) (0.12.1)\n",
            "Requirement already satisfied: fonttools>=4.22.0 in /usr/local/lib/python3.11/dist-packages (from matplotlib>=3.7->scanpy>=1.10->infercnvpy) (4.57.0)\n",
            "Requirement already satisfied: kiwisolver>=1.3.1 in /usr/local/lib/python3.11/dist-packages (from matplotlib>=3.7->scanpy>=1.10->infercnvpy) (1.4.8)\n",
            "Requirement already satisfied: pillow>=8 in /usr/local/lib/python3.11/dist-packages (from matplotlib>=3.7->scanpy>=1.10->infercnvpy) (11.2.1)\n",
            "Requirement already satisfied: pyparsing>=2.3.1 in /usr/local/lib/python3.11/dist-packages (from matplotlib>=3.7->scanpy>=1.10->infercnvpy) (3.2.3)\n",
            "Requirement already satisfied: llvmlite<0.44,>=0.43.0dev0 in /usr/local/lib/python3.11/dist-packages (from numba>=0.57->scanpy>=1.10->infercnvpy) (0.43.0)\n",
            "Requirement already satisfied: iniconfig in /usr/local/lib/python3.11/dist-packages (from pytest>=8.1->pytest-benchmark->infercnvpy) (2.1.0)\n",
            "Requirement already satisfied: pluggy<2,>=1.5 in /usr/local/lib/python3.11/dist-packages (from pytest>=8.1->pytest-benchmark->infercnvpy) (1.5.0)\n",
            "Requirement already satisfied: six>=1.5 in /usr/local/lib/python3.11/dist-packages (from python-dateutil>=2.8.2->pandas>=1->infercnvpy) (1.17.0)\n",
            "Requirement already satisfied: threadpoolctl>=3.1.0 in /usr/local/lib/python3.11/dist-packages (from scikit-learn<1.6.0,>=1.1->scanpy>=1.10->infercnvpy) (3.6.0)\n",
            "Requirement already satisfied: charset-normalizer<4,>=2 in /usr/local/lib/python3.11/dist-packages (from requests->pybiomart>=0.2.0->infercnvpy) (3.4.1)\n",
            "Requirement already satisfied: idna<4,>=2.5 in /usr/local/lib/python3.11/dist-packages (from requests->pybiomart>=0.2.0->infercnvpy) (3.10)\n",
            "Requirement already satisfied: urllib3<3,>=1.21.1 in /usr/local/lib/python3.11/dist-packages (from requests->pybiomart>=0.2.0->infercnvpy) (2.4.0)\n",
            "Requirement already satisfied: certifi>=2017.4.17 in /usr/local/lib/python3.11/dist-packages (from requests->pybiomart>=0.2.0->infercnvpy) (2025.4.26)\n",
            "Requirement already satisfied: attrs>=21.2 in /usr/local/lib/python3.11/dist-packages (from requests-cache->pybiomart>=0.2.0->infercnvpy) (25.3.0)\n",
            "Collecting cattrs>=22.2 (from requests-cache->pybiomart>=0.2.0->infercnvpy)\n",
            "  Downloading cattrs-24.1.3-py3-none-any.whl.metadata (8.4 kB)\n",
            "Requirement already satisfied: platformdirs>=2.5 in /usr/local/lib/python3.11/dist-packages (from requests-cache->pybiomart>=0.2.0->infercnvpy) (4.3.7)\n",
            "Collecting url-normalize>=1.4 (from requests-cache->pybiomart>=0.2.0->infercnvpy)\n",
            "  Downloading url_normalize-2.2.1-py3-none-any.whl.metadata (5.6 kB)\n",
            "Downloading infercnvpy-0.6.0-py3-none-any.whl (3.8 MB)\n",
            "\u001b[2K   \u001b[90m━━━━━━━━━━━━━━━━━━━━━━━━━━━━━━━━━━━━━━━━\u001b[0m \u001b[32m3.8/3.8 MB\u001b[0m \u001b[31m82.9 MB/s\u001b[0m eta \u001b[36m0:00:00\u001b[0m\n",
            "\u001b[?25hDownloading pybiomart-0.2.0-py3-none-any.whl (10 kB)\n",
            "Downloading leidenalg-0.10.2-cp38-abi3-manylinux_2_17_x86_64.manylinux2014_x86_64.whl (2.0 MB)\n",
            "\u001b[2K   \u001b[90m━━━━━━━━━━━━━━━━━━━━━━━━━━━━━━━━━━━━━━━━\u001b[0m \u001b[32m2.0/2.0 MB\u001b[0m \u001b[31m76.2 MB/s\u001b[0m eta \u001b[36m0:00:00\u001b[0m\n",
            "\u001b[?25hDownloading pyreadr-0.5.3-cp311-cp311-manylinux_2_17_x86_64.manylinux2014_x86_64.whl (411 kB)\n",
            "\u001b[2K   \u001b[90m━━━━━━━━━━━━━━━━━━━━━━━━━━━━━━━━━━━━━━━━\u001b[0m \u001b[32m411.7/411.7 kB\u001b[0m \u001b[31m26.0 MB/s\u001b[0m eta \u001b[36m0:00:00\u001b[0m\n",
            "\u001b[?25hDownloading pytest_benchmark-5.1.0-py3-none-any.whl (44 kB)\n",
            "\u001b[2K   \u001b[90m━━━━━━━━━━━━━━━━━━━━━━━━━━━━━━━━━━━━━━━━\u001b[0m \u001b[32m44.3/44.3 kB\u001b[0m \u001b[31m3.3 MB/s\u001b[0m eta \u001b[36m0:00:00\u001b[0m\n",
            "\u001b[?25hDownloading pytoml-0.1.21-py2.py3-none-any.whl (8.5 kB)\n",
            "Downloading session_info-1.0.1-py3-none-any.whl (9.1 kB)\n",
            "Downloading igraph-0.11.8-cp39-abi3-manylinux_2_17_x86_64.manylinux2014_x86_64.whl (3.1 MB)\n",
            "\u001b[2K   \u001b[90m━━━━━━━━━━━━━━━━━━━━━━━━━━━━━━━━━━━━━━━━\u001b[0m \u001b[32m3.1/3.1 MB\u001b[0m \u001b[31m87.0 MB/s\u001b[0m eta \u001b[36m0:00:00\u001b[0m\n",
            "\u001b[?25hDownloading requests_cache-1.2.1-py3-none-any.whl (61 kB)\n",
            "\u001b[2K   \u001b[90m━━━━━━━━━━━━━━━━━━━━━━━━━━━━━━━━━━━━━━━━\u001b[0m \u001b[32m61.4/61.4 kB\u001b[0m \u001b[31m5.1 MB/s\u001b[0m eta \u001b[36m0:00:00\u001b[0m\n",
            "\u001b[?25hDownloading stdlib_list-0.11.1-py3-none-any.whl (83 kB)\n",
            "\u001b[2K   \u001b[90m━━━━━━━━━━━━━━━━━━━━━━━━━━━━━━━━━━━━━━━━\u001b[0m \u001b[32m83.6/83.6 kB\u001b[0m \u001b[31m6.1 MB/s\u001b[0m eta \u001b[36m0:00:00\u001b[0m\n",
            "\u001b[?25hDownloading cattrs-24.1.3-py3-none-any.whl (66 kB)\n",
            "\u001b[2K   \u001b[90m━━━━━━━━━━━━━━━━━━━━━━━━━━━━━━━━━━━━━━━━\u001b[0m \u001b[32m66.5/66.5 kB\u001b[0m \u001b[31m5.0 MB/s\u001b[0m eta \u001b[36m0:00:00\u001b[0m\n",
            "\u001b[?25hDownloading texttable-1.7.0-py2.py3-none-any.whl (10 kB)\n",
            "Downloading url_normalize-2.2.1-py3-none-any.whl (14 kB)\n",
            "Installing collected packages: texttable, pytoml, url-normalize, stdlib_list, igraph, cattrs, session-info, requests-cache, pytest-benchmark, leidenalg, pyreadr, pybiomart, infercnvpy\n",
            "Successfully installed cattrs-24.1.3 igraph-0.11.8 infercnvpy-0.6.0 leidenalg-0.10.2 pybiomart-0.2.0 pyreadr-0.5.3 pytest-benchmark-5.1.0 pytoml-0.1.21 requests-cache-1.2.1 session-info-1.0.1 stdlib_list-0.11.1 texttable-1.7.0 url-normalize-2.2.1\n"
          ]
        }
      ],
      "source": [
        "!git clone https://github.com/yujiafeng8888/scCNA.git\n",
        "%cd scCNA\n",
        "!pip install .\n",
        "!pip install infercnvpy"
      ]
    },
    {
      "cell_type": "code",
      "execution_count": 3,
      "metadata": {
        "colab": {
          "base_uri": "https://localhost:8080/"
        },
        "id": "Ezm333z2gPSq",
        "outputId": "7ddf9955-6787-4d37-b6a2-259c3c73bbe7"
      },
      "outputs": [
        {
          "output_type": "stream",
          "name": "stdout",
          "text": [
            "Mounted at /content/drive\n"
          ]
        }
      ],
      "source": [
        "import scanpy as sc\n",
        "import scCNA as cna\n",
        "import matplotlib.pyplot as plt\n",
        "import infercnvpy as cnv\n",
        "from sklearn.metrics import accuracy_score, precision_score, recall_score, f1_score, average_precision_score\n",
        "from google.colab import drive\n",
        "\n",
        "drive.mount('/content/drive', force_remount=True)\n",
        "adata = sc.read_h5ad(\"/content/drive/MyDrive/PBMC_simulated_cnas_041025.h5ad\")"
      ]
    },
    {
      "cell_type": "code",
      "execution_count": 4,
      "metadata": {
        "colab": {
          "base_uri": "https://localhost:8080/"
        },
        "id": "-BnYph5Xoe6v",
        "outputId": "f7d29820-202b-48db-8c8a-cfcec3d0f0d6"
      },
      "outputs": [
        {
          "output_type": "stream",
          "name": "stderr",
          "text": [
            "WARNING:root:Skipped 411 genes because they don't have a genomic position annotated. \n",
            "/usr/local/lib/python3.11/dist-packages/scanpy/preprocessing/_normalization.py:216: UserWarning: Received a view of an AnnData. Making a copy.\n",
            "  view_to_actual(adata)\n"
          ]
        }
      ],
      "source": [
        "ad_def = cna.find_cnas(\n",
        "    adata.copy(),\n",
        "    reference_key='cell_type',\n",
        "    reference_cat=[\n",
        "        'CD4 T cell','CD14 monocyte','B cell','CD8 T cell',\n",
        "        'NK cell','FCGR3A monocyte','Dendritic','Megakaryocyte'\n",
        "    ],\n",
        "    threshold=5,\n",
        "    min_cells=20,\n",
        "    window_size=100\n",
        ")"
      ]
    },
    {
      "cell_type": "code",
      "execution_count": 5,
      "metadata": {
        "colab": {
          "base_uri": "https://localhost:8080/"
        },
        "id": "sct0Ivk8qJZr",
        "outputId": "c7635a8c-89e1-4279-b28d-ef05299fa8fd"
      },
      "outputs": [
        {
          "output_type": "stream",
          "name": "stdout",
          "text": [
            "(10309, 19693)\n"
          ]
        }
      ],
      "source": [
        "print(ad_def.shape)"
      ]
    },
    {
      "cell_type": "markdown",
      "source": [
        "**Calculate the**"
      ],
      "metadata": {
        "id": "uL4eLsFJ_hIF"
      }
    },
    {
      "cell_type": "code",
      "execution_count": 6,
      "metadata": {
        "colab": {
          "base_uri": "https://localhost:8080/"
        },
        "id": "-e1VjVIooil8",
        "outputId": "11e24c68-cddf-414f-dbb6-bbbb775c84c1"
      },
      "outputs": [
        {
          "output_type": "stream",
          "name": "stdout",
          "text": [
            "=== Cell-level Binary Classification Metrics ===\n",
            "Accuracy : 0.36793093413522165\n",
            "Precision: 0.351875808538163\n",
            "Recall   : 0.7485614210657994\n",
            "F1 Score : 0.47872\n",
            "PR-AUC   : 0.3608882874440729\n"
          ]
        }
      ],
      "source": [
        "y_true = (ad_def.obs['simulated_cnvs'].notna()) & (ad_def.obs['simulated_cnvs'] != '')\n",
        "#y_pred = (ad_def.obs['detect_CNA'].notna()) & (ad_def.obs['detect_CNA'] != '')\n",
        "y_pred = ad_def.obs['detect_CNA'].apply(lambda x: x != 'none' and isinstance(x, str))\n",
        "\n",
        "print(\"=== Cell-level Binary Classification Metrics ===\")\n",
        "print(\"Accuracy :\", accuracy_score(y_true, y_pred))\n",
        "print(\"Precision:\", precision_score(y_true, y_pred))\n",
        "print(\"Recall   :\", recall_score(y_true, y_pred))\n",
        "print(\"F1 Score :\", f1_score(y_true, y_pred))\n",
        "print(\"PR-AUC   :\", average_precision_score(y_true, y_pred))"
      ]
    },
    {
      "cell_type": "code",
      "source": [
        "print(y_pred.value_counts())\n",
        "print(y_true.value_counts())"
      ],
      "metadata": {
        "colab": {
          "base_uri": "https://localhost:8080/"
        },
        "id": "8nuLymqebw7S",
        "outputId": "5a1acda3-ebc2-4c1b-b75c-baabd4c623c9"
      },
      "execution_count": 7,
      "outputs": [
        {
          "output_type": "stream",
          "name": "stdout",
          "text": [
            "detect_CNA\n",
            "True     8503\n",
            "False    1806\n",
            "Name: count, dtype: int64\n",
            "simulated_cnvs\n",
            "False    6312\n",
            "True     3997\n",
            "Name: count, dtype: int64\n"
          ]
        }
      ]
    },
    {
      "cell_type": "code",
      "source": [
        "thresholds = [1, 3, 10]\n",
        "results = []\n",
        "\n",
        "for threshold in thresholds:\n",
        "    adata_tmp = cna.find_cnas(\n",
        "        adata.copy(),\n",
        "        reference_key='cell_type',\n",
        "        reference_cat=['CD4 T cell', 'CD14 monocyte', 'B cell', 'CD8 T cell',\n",
        "                       'NK cell', 'FCGR3A monocyte', 'Dendritic', 'Megakaryocyte'],\n",
        "        threshold=threshold,\n",
        "        min_cells=20,\n",
        "        window_size=100\n",
        "    )\n",
        "\n",
        "    y_true = (adata_tmp.obs['simulated_cnvs'].notna()) & (adata_tmp.obs['simulated_cnvs'] != '')\n",
        "    y_pred = ad_def.obs['detect_CNA'].apply(lambda x: x != 'none' and isinstance(x, str))\n",
        "\n",
        "\n",
        "    acc = accuracy_score(y_true, y_pred)\n",
        "    prec = precision_score(y_true, y_pred)\n",
        "    rec = recall_score(y_true, y_pred)\n",
        "    f1 = f1_score(y_true, y_pred)\n",
        "    pr_auc = average_precision_score(y_true, y_pred)\n",
        "\n",
        "    results.append((thresholds, acc, prec, rec, f1, pr_auc))\n",
        "\n",
        "\n",
        "results.sort(key=lambda x: -x[4])\n",
        "\n",
        "# print(\"window_size Parameter evaluation result:\")\n",
        "# print(f\"{'Window':<10} {'Acc':<8} {'Prec':<8} {'Recall':<8} {'F1':<8} {'PR-AUC':<8}\")\n",
        "# for r in results:\n",
        "#     print(f\"{r[0]:<10} {r[1]:.3f}    {r[2]:.3f}    {r[3]:.3f}    {r[4]:.3f}    {r[5]:.3f}\")\n",
        "\n",
        "# results.sort(key=lambda x: -x[1])\n",
        "# print(\"Threshold sweep results (F1 score):\")\n",
        "# for r in results:\n",
        "#     print(f\"Threshold={r[0]} → F1 Score={r[1]:.3f}\")\n"
      ],
      "metadata": {
        "colab": {
          "base_uri": "https://localhost:8080/"
        },
        "id": "OK7zmibnbQ3y",
        "outputId": "036deb77-bc4a-42d1-d684-28e3786fab7c"
      },
      "execution_count": 9,
      "outputs": [
        {
          "output_type": "stream",
          "name": "stderr",
          "text": [
            "WARNING:root:Skipped 411 genes because they don't have a genomic position annotated. \n",
            "/usr/local/lib/python3.11/dist-packages/scanpy/preprocessing/_normalization.py:216: UserWarning: Received a view of an AnnData. Making a copy.\n",
            "  view_to_actual(adata)\n",
            "WARNING:root:Skipped 411 genes because they don't have a genomic position annotated. \n",
            "/usr/local/lib/python3.11/dist-packages/scanpy/preprocessing/_normalization.py:216: UserWarning: Received a view of an AnnData. Making a copy.\n",
            "  view_to_actual(adata)\n",
            "WARNING:root:Skipped 411 genes because they don't have a genomic position annotated. \n",
            "/usr/local/lib/python3.11/dist-packages/scanpy/preprocessing/_normalization.py:216: UserWarning: Received a view of an AnnData. Making a copy.\n",
            "  view_to_actual(adata)\n"
          ]
        }
      ]
    },
    {
      "cell_type": "code",
      "source": [
        "print(\"Threshold sweep results:\")\n",
        "print(f\"{'Threshold':<10} {'Acc':<8} {'Prec':<8} {'Recall':<8} {'F1':<8} {'PR-AUC':<8}\")\n",
        "for i, r in enumerate(results):\n",
        "    print(f\"{thresholds[i]:<10} {r[1]:.3f}    {r[2]:.3f}    {r[3]:.3f}    {r[4]:.3f}    {r[5]:.3f}\")\n"
      ],
      "metadata": {
        "colab": {
          "base_uri": "https://localhost:8080/"
        },
        "id": "rGrUzG2FkVN4",
        "outputId": "2049b23b-fa48-414f-c867-c0c27379549d"
      },
      "execution_count": 12,
      "outputs": [
        {
          "output_type": "stream",
          "name": "stdout",
          "text": [
            "Threshold sweep results:\n",
            "Threshold  Acc      Prec     Recall   F1       PR-AUC  \n",
            "1          0.368    0.352    0.749    0.479    0.361\n",
            "3          0.368    0.352    0.749    0.479    0.361\n",
            "10         0.368    0.352    0.749    0.479    0.361\n"
          ]
        }
      ]
    },
    {
      "cell_type": "code",
      "source": [
        "min_cells_list = [5, 10, 25]\n",
        "results = []\n",
        "\n",
        "for min_cells in min_cells_list:\n",
        "    adata_tmp = cna.find_cnas(\n",
        "        adata.copy(),\n",
        "        reference_key='cell_type',\n",
        "        reference_cat=['CD4 T cell', 'CD14 monocyte', 'B cell', 'CD8 T cell',\n",
        "                       'NK cell', 'FCGR3A monocyte', 'Dendritic', 'Megakaryocyte'],\n",
        "        threshold=2,\n",
        "        min_cells=min_cells,\n",
        "        window_size=100\n",
        "    )\n",
        "\n",
        "    y_true = (adata_tmp.obs['simulated_cnvs'].notna()) & (adata_tmp.obs['simulated_cnvs'] != '')\n",
        "    y_pred = adata_tmp.obs['detect_CNA'].apply(lambda x: isinstance(x, str) and x != 'none')\n",
        "\n",
        "    acc = accuracy_score(y_true, y_pred)\n",
        "    prec = precision_score(y_true, y_pred)\n",
        "    rec = recall_score(y_true, y_pred)\n",
        "    f1 = f1_score(y_true, y_pred)\n",
        "    pr_auc = average_precision_score(y_true, y_pred)\n",
        "\n",
        "    results.append((min_cells, acc, prec, rec, f1, pr_auc))\n",
        "\n",
        "\n",
        "# results.sort(key=lambda x: -x[4])\n",
        "# print(\"min_cells Parameter Evaluation:\")\n",
        "# print(f\"{'MinCells':<10} {'Acc':<8} {'Prec':<8} {'Recall':<8} {'F1':<8} {'PR-AUC':<8}\")\n",
        "# for r in results:\n",
        "#     print(f\"{r[0]:<10} {r[1]:.3f}    {r[2]:.3f}    {r[3]:.3f}    {r[4]:.3f}    {r[5]:.3f}\")\n"
      ],
      "metadata": {
        "id": "iBjGMvfyAESS",
        "colab": {
          "base_uri": "https://localhost:8080/"
        },
        "outputId": "18533579-6ed6-461a-ad6e-34985ef0291a"
      },
      "execution_count": 14,
      "outputs": [
        {
          "output_type": "stream",
          "name": "stderr",
          "text": [
            "WARNING:root:Skipped 411 genes because they don't have a genomic position annotated. \n",
            "/usr/local/lib/python3.11/dist-packages/scanpy/preprocessing/_normalization.py:216: UserWarning: Received a view of an AnnData. Making a copy.\n",
            "  view_to_actual(adata)\n",
            "WARNING:root:Skipped 411 genes because they don't have a genomic position annotated. \n",
            "/usr/local/lib/python3.11/dist-packages/scanpy/preprocessing/_normalization.py:216: UserWarning: Received a view of an AnnData. Making a copy.\n",
            "  view_to_actual(adata)\n",
            "WARNING:root:Skipped 411 genes because they don't have a genomic position annotated. \n",
            "/usr/local/lib/python3.11/dist-packages/scanpy/preprocessing/_normalization.py:216: UserWarning: Received a view of an AnnData. Making a copy.\n",
            "  view_to_actual(adata)\n"
          ]
        }
      ]
    },
    {
      "cell_type": "code",
      "source": [
        "print(\"Min_cells sweep results:\")\n",
        "print(f\"{'Min_cells':<10} {'Acc':<8} {'Prec':<8} {'Recall':<8} {'F1':<8} {'PR-AUC':<8}\")\n",
        "for i, r in enumerate(results):\n",
        "    print(f\"{min_cells_list[i]:<10} {r[1]:.3f}    {r[2]:.3f}    {r[3]:.3f}    {r[4]:.3f}    {r[5]:.3f}\")"
      ],
      "metadata": {
        "colab": {
          "base_uri": "https://localhost:8080/"
        },
        "id": "EGSWRtWXtyj2",
        "outputId": "5a53fa21-dd01-4d4b-e0de-e476376e42c2"
      },
      "execution_count": 15,
      "outputs": [
        {
          "output_type": "stream",
          "name": "stdout",
          "text": [
            "Min_cells sweep results:\n",
            "Min_cells  Acc      Prec     Recall   F1       PR-AUC  \n",
            "5          0.388    0.388    1.000    0.559    0.388\n",
            "10         0.388    0.388    1.000    0.559    0.388\n",
            "25         0.388    0.388    1.000    0.559    0.388\n"
          ]
        }
      ]
    },
    {
      "cell_type": "code",
      "source": [
        "window_sizes = [100, 150, 250]\n",
        "min_cells_list = [5, 10, 25]\n",
        "results = []\n",
        "\n",
        "for window_size in window_sizes:\n",
        "    for min_cells in min_cells_list:\n",
        "        adata_tmp = cna.find_cnas(\n",
        "            adata.copy(),\n",
        "            reference_key='cell_type',\n",
        "            reference_cat=['CD4 T cell', 'CD14 monocyte', 'B cell', 'CD8 T cell',\n",
        "                           'NK cell', 'FCGR3A monocyte', 'Dendritic', 'Megakaryocyte'],\n",
        "            threshold=2,\n",
        "            min_cells=min_cells,\n",
        "            window_size=window_size\n",
        "        )\n",
        "\n",
        "        y_true = (adata_tmp.obs['simulated_cnvs'].notna()) & (adata_tmp.obs['simulated_cnvs'] != '')\n",
        "        y_pred = adata_tmp.obs['detect_CNA'].apply(lambda x: isinstance(x, str) and x != 'none')\n",
        "\n",
        "        acc = accuracy_score(y_true, y_pred)\n",
        "        prec = precision_score(y_true, y_pred)\n",
        "        rec = recall_score(y_true, y_pred)\n",
        "        f1 = f1_score(y_true, y_pred)\n",
        "        pr_auc = average_precision_score(y_true, y_pred)\n",
        "\n",
        "        results.append((window_size, min_cells, acc, prec, rec, f1, pr_auc))\n"
      ],
      "metadata": {
        "colab": {
          "base_uri": "https://localhost:8080/"
        },
        "id": "ioMjLAVl1WUg",
        "outputId": "4a5d72d6-dd77-4700-9709-690153bf0bfd"
      },
      "execution_count": 16,
      "outputs": [
        {
          "output_type": "stream",
          "name": "stderr",
          "text": [
            "WARNING:root:Skipped 411 genes because they don't have a genomic position annotated. \n",
            "/usr/local/lib/python3.11/dist-packages/scanpy/preprocessing/_normalization.py:216: UserWarning: Received a view of an AnnData. Making a copy.\n",
            "  view_to_actual(adata)\n",
            "WARNING:root:Skipped 411 genes because they don't have a genomic position annotated. \n",
            "/usr/local/lib/python3.11/dist-packages/scanpy/preprocessing/_normalization.py:216: UserWarning: Received a view of an AnnData. Making a copy.\n",
            "  view_to_actual(adata)\n",
            "WARNING:root:Skipped 411 genes because they don't have a genomic position annotated. \n",
            "/usr/local/lib/python3.11/dist-packages/scanpy/preprocessing/_normalization.py:216: UserWarning: Received a view of an AnnData. Making a copy.\n",
            "  view_to_actual(adata)\n",
            "WARNING:root:Skipped 411 genes because they don't have a genomic position annotated. \n",
            "/usr/local/lib/python3.11/dist-packages/scanpy/preprocessing/_normalization.py:216: UserWarning: Received a view of an AnnData. Making a copy.\n",
            "  view_to_actual(adata)\n",
            "WARNING:root:Skipped 411 genes because they don't have a genomic position annotated. \n",
            "/usr/local/lib/python3.11/dist-packages/scanpy/preprocessing/_normalization.py:216: UserWarning: Received a view of an AnnData. Making a copy.\n",
            "  view_to_actual(adata)\n",
            "WARNING:root:Skipped 411 genes because they don't have a genomic position annotated. \n",
            "/usr/local/lib/python3.11/dist-packages/scanpy/preprocessing/_normalization.py:216: UserWarning: Received a view of an AnnData. Making a copy.\n",
            "  view_to_actual(adata)\n",
            "WARNING:root:Skipped 411 genes because they don't have a genomic position annotated. \n",
            "/usr/local/lib/python3.11/dist-packages/scanpy/preprocessing/_normalization.py:216: UserWarning: Received a view of an AnnData. Making a copy.\n",
            "  view_to_actual(adata)\n",
            "WARNING:root:Skipped 411 genes because they don't have a genomic position annotated. \n",
            "/usr/local/lib/python3.11/dist-packages/scanpy/preprocessing/_normalization.py:216: UserWarning: Received a view of an AnnData. Making a copy.\n",
            "  view_to_actual(adata)\n",
            "WARNING:root:Skipped 411 genes because they don't have a genomic position annotated. \n",
            "/usr/local/lib/python3.11/dist-packages/scanpy/preprocessing/_normalization.py:216: UserWarning: Received a view of an AnnData. Making a copy.\n",
            "  view_to_actual(adata)\n"
          ]
        }
      ]
    },
    {
      "cell_type": "code",
      "source": [
        "print(\"Sweep results for window_size × min_cells:\")\n",
        "print(f\"{'WinSize':<10} {'MinCells':<10} {'Acc':<8} {'Prec':<8} {'Recall':<8} {'F1':<8} {'PR-AUC':<8}\")\n",
        "for r in results:\n",
        "    print(f\"{r[0]:<10} {r[1]:<10} {r[2]:.3f}    {r[3]:.3f}    {r[4]:.3f}    {r[5]:.3f}    {r[6]:.3f}\")\n"
      ],
      "metadata": {
        "colab": {
          "base_uri": "https://localhost:8080/"
        },
        "id": "eRrf06Y11YrE",
        "outputId": "9daaca7c-ae87-469e-b7a6-b4213dacc03c"
      },
      "execution_count": 17,
      "outputs": [
        {
          "output_type": "stream",
          "name": "stdout",
          "text": [
            "Sweep results for window_size × min_cells:\n",
            "WinSize    MinCells   Acc      Prec     Recall   F1       PR-AUC  \n",
            "100        5          0.388    0.388    1.000    0.559    0.388\n",
            "100        10         0.388    0.388    1.000    0.559    0.388\n",
            "100        25         0.388    0.388    1.000    0.559    0.388\n",
            "150        5          0.388    0.388    1.000    0.559    0.388\n",
            "150        10         0.388    0.388    1.000    0.559    0.388\n",
            "150        25         0.388    0.388    1.000    0.559    0.388\n",
            "250        5          0.388    0.388    1.000    0.559    0.388\n",
            "250        10         0.388    0.388    1.000    0.559    0.388\n",
            "250        25         0.388    0.388    1.000    0.559    0.388\n"
          ]
        }
      ]
    },
    {
      "cell_type": "code",
      "source": [
        "print(f\"Window={window_size}, MinCells={min_cells}\")\n",
        "print(\"detect_CNA value counts:\")\n",
        "print(adata_tmp.obs['detect_CNA'].value_counts(dropna=False))\n",
        "print(\"simulated_cnvs value counts:\")\n",
        "print(adata_tmp.obs['simulated_cnvs'].value_counts(dropna=False))\n",
        "print(\"-\" * 50)"
      ],
      "metadata": {
        "colab": {
          "base_uri": "https://localhost:8080/"
        },
        "id": "315LM_okbKvZ",
        "outputId": "9586be31-ff4c-4050-e6a4-64fa6ea238c8"
      },
      "execution_count": 29,
      "outputs": [
        {
          "output_type": "stream",
          "name": "stdout",
          "text": [
            "Window=250, MinCells=25\n",
            "detect_CNA value counts:\n",
            "detect_CNA\n",
            "1:89551.0-19882395.0_gain;1:20111939.0-37474580.0_gain;1:37489993.0-61742477.0_gain;1:62194790.0-111448864.0_gain;1:111473792.0-154220179.0_gain;1:154272355.0-172370189.0_gain;1:172532349.0-212035553.0_gain;1:212285410.0-248906196.0_gain;2:38814.0-41935368.0_gain;2:42048021.0-85605254.0_gain;2:85657314.0-130571659.0_gain;2:130836914.0-196763035.0_gain;2:196833004.0-237421420.0_gain;2:237612977.0-242087351.0_gain;3:196763.0-44729596.0_gain;3:44737661.0-71567863.0_gain;3:71581601.0-133746040.0_gain;3:133784023.0-190322541.0_gain;3:190514051.0-197960200.0_gain;4:53286.0-56467617.0_gain;4:56505209.0-127840198.0_gain;4:127880893.0-189940855.0_gain;5:92168.0-74721206.0_gain;5:74766991.0-134738495.0_gain;5:134758771.0-175796310.0_gain;5:175917873.0-181306502.0_gain;6:31200165.0-63719980.0_gain;6:63805797.0-135991936.0_gain;6:136231024.0-170575295.0_gain;7:76890.0-43875894.0_gain;7:43926436.0-100119634.0_gain;7:100126785.0-141656728.0_gain;7:141704003.0-159028175.0_gain;8:232137.0-52622458.0_gain;8:53715543.0-112222928.0_gain;8:115408496.0-145052465.0_gain;9:14475.0-79505801.0_gain;9:79571773.0-127690098.0_gain;9:127690348.0-138199777.0_gain;10:130088.0-67796669.0_gain;10:67849481.0-100912963.0_gain;10:100967688.0-133520406.0_gain;12:66767.0-25409307.0_gain;12:25936683.0-55549602.0_gain;12:55681736.0-96222797.0_gain;12:96278261.0-122983480.0_gain;12:123152320.0-133181409.0_gain;13:19422876.0-95648711.0_gain;13:95677139.0-114314482.0_gain;14:19341050.0-50326265.0_gain;14:50326526.0-77394021.0_gain;14:77426675.0-106810442.0_gain;15:20128745.0-52010999.0_gain;15:52056675.0-79311112.0_gain;15:79432336.0-101959227.0_gain;16:22845.0-12556353.0_gain;16:12659799.0-30989256.0_gain;16:31032889.0-69706996.0_gain;16:69709874.0-90105095.0_gain;17:64099.0-11598470.0_gain;17:11953889.0-35568050.0_gain;17:35574795.0-47682417.0_gain;17:47694161.0-74213571.0_gain;17:74274234.0-83104255.0_gain;18:158383.0-61905255.0_gain;18:62187255.0-80157232.0_gain;19:248551.0-7830218.0_gain;19:7868719.0-16355225.0_gain;19:16440946.0-35935358.0_gain;19:35995188.0-45212370.0_gain;19:45306413.0-53792139.0_gain;19:53847198.0-58561931.0_gain;20:267186.0-35771974.0_gain;20:35953617.0-63736283.0_gain;21:5022531.0-46635595.0_gain;22:15282557.0-35257452.0_gain;22:35298838.0-50529710.0_gain;X:276322.0-57286706.0_gain;X:57592011.0-140709562.0_gain;X:141111605.0-155997696.0_gain                                                                                                                          41\n",
            "1:89551.0-19882395.0_gain;1:20111939.0-37474580.0_gain;1:37489993.0-61742477.0_gain;1:62194790.0-111448864.0_gain;1:111473792.0-154220179.0_gain;1:154272355.0-172370189.0_gain;1:172532349.0-212035553.0_gain;1:212285410.0-248906196.0_gain;2:38814.0-41935368.0_gain;2:42048021.0-85605254.0_gain;2:85657314.0-130571659.0_gain;2:130836914.0-196763035.0_gain;2:196833004.0-237421420.0_gain;2:237612977.0-242087351.0_gain;3:196763.0-44729596.0_gain;3:44737661.0-71567863.0_gain;3:71581601.0-133746040.0_gain;3:133784023.0-190322541.0_gain;3:190514051.0-197960200.0_gain;4:53286.0-56467617.0_gain;4:56505209.0-127840198.0_gain;4:127880893.0-189940855.0_gain;5:92168.0-74721206.0_gain;5:74766991.0-134738495.0_gain;5:134758771.0-175796310.0_gain;5:175917873.0-181306502.0_gain;6:31200165.0-63719980.0_gain;6:63805797.0-135991936.0_gain;6:136231024.0-170575295.0_gain;7:76890.0-43875894.0_gain;7:43926436.0-100119634.0_gain;7:100126785.0-141656728.0_gain;7:141704003.0-159028175.0_gain;8:232137.0-52622458.0_gain;8:53715543.0-112222928.0_gain;8:115408496.0-145052465.0_gain;9:14475.0-79505801.0_gain;9:79571773.0-127690098.0_gain;9:127690348.0-138199777.0_gain;10:130088.0-67796669.0_gain;10:67849481.0-100912963.0_gain;10:100967688.0-133520406.0_gain;11:64340204.0-77473371.0_gain;12:66767.0-25409307.0_gain;12:25936683.0-55549602.0_gain;12:55681736.0-96222797.0_gain;12:96278261.0-122983480.0_gain;12:123152320.0-133181409.0_gain;13:19422876.0-95648711.0_gain;13:95677139.0-114314482.0_gain;14:19341050.0-50326265.0_gain;14:50326526.0-77394021.0_gain;14:77426675.0-106810442.0_gain;15:20128745.0-52010999.0_gain;15:52056675.0-79311112.0_gain;15:79432336.0-101959227.0_gain;16:22845.0-12556353.0_gain;16:12659799.0-30989256.0_gain;16:31032889.0-69706996.0_gain;16:69709874.0-90105095.0_gain;17:64099.0-11598470.0_gain;17:11953889.0-35568050.0_gain;17:35574795.0-47682417.0_gain;17:47694161.0-74213571.0_gain;17:74274234.0-83104255.0_gain;18:158383.0-61905255.0_gain;18:62187255.0-80157232.0_gain;19:248551.0-7830218.0_gain;19:7868719.0-16355225.0_gain;19:16440946.0-35935358.0_gain;19:35995188.0-45212370.0_gain;19:45306413.0-53792139.0_gain;19:53847198.0-58561931.0_gain;20:267186.0-35771974.0_gain;20:35953617.0-63736283.0_gain;21:5022531.0-46635595.0_gain;22:15282557.0-35257452.0_gain;22:35298838.0-50529710.0_gain;X:276322.0-57286706.0_gain;X:57592011.0-140709562.0_gain;X:141111605.0-155997696.0_gain                                                                                            33\n",
            "1:89551.0-19882395.0_gain;1:20111939.0-37474580.0_gain;1:37489993.0-61742477.0_gain;1:62194790.0-111448864.0_gain;1:111473792.0-154220179.0_gain;1:154272355.0-172370189.0_gain;1:172532349.0-212035553.0_gain;1:212285410.0-248906196.0_gain;2:38814.0-41935368.0_gain;2:42048021.0-85605254.0_gain;2:85657314.0-130571659.0_gain;2:130836914.0-196763035.0_gain;2:196833004.0-237421420.0_gain;2:237612977.0-242087351.0_gain;3:196763.0-44729596.0_gain;3:44737661.0-71567863.0_gain;3:71581601.0-133746040.0_gain;3:133784023.0-190322541.0_gain;3:190514051.0-197960200.0_gain;4:53286.0-56467617.0_gain;4:56505209.0-127840198.0_gain;4:127880893.0-189940855.0_gain;5:92168.0-74721206.0_gain;5:74766991.0-134738495.0_gain;5:134758771.0-175796310.0_gain;5:175917873.0-181306502.0_gain;6:291630.0-31197715.0_gain;6:31200165.0-63719980.0_gain;6:63805797.0-135991936.0_gain;6:136231024.0-170575295.0_gain;7:76890.0-43875894.0_gain;7:43926436.0-100119634.0_gain;7:100126785.0-141656728.0_gain;7:141704003.0-159028175.0_gain;8:232137.0-52622458.0_gain;8:53715543.0-112222928.0_gain;8:115408496.0-145052465.0_gain;9:14475.0-79505801.0_gain;9:79571773.0-127690098.0_gain;9:127690348.0-138199777.0_gain;10:130088.0-67796669.0_gain;10:67849481.0-100912963.0_gain;10:100967688.0-133520406.0_gain;11:64340204.0-77473371.0_gain;12:66767.0-25409307.0_gain;12:25936683.0-55549602.0_gain;12:55681736.0-96222797.0_gain;12:96278261.0-122983480.0_gain;12:123152320.0-133181409.0_gain;13:19422876.0-95648711.0_gain;13:95677139.0-114314482.0_gain;14:19341050.0-50326265.0_gain;14:50326526.0-77394021.0_gain;14:77426675.0-106810442.0_gain;15:20128745.0-52010999.0_gain;15:52056675.0-79311112.0_gain;15:79432336.0-101959227.0_gain;16:22845.0-12556353.0_gain;16:12659799.0-30989256.0_gain;16:31032889.0-69706996.0_gain;16:69709874.0-90105095.0_gain;17:64099.0-11598470.0_gain;17:11953889.0-35568050.0_gain;17:35574795.0-47682417.0_gain;17:47694161.0-74213571.0_gain;17:74274234.0-83104255.0_gain;18:158383.0-61905255.0_gain;18:62187255.0-80157232.0_gain;19:248551.0-7830218.0_gain;19:7868719.0-16355225.0_gain;19:16440946.0-35935358.0_gain;19:35995188.0-45212370.0_gain;19:45306413.0-53792139.0_gain;19:53847198.0-58561931.0_gain;20:267186.0-35771974.0_gain;20:35953617.0-63736283.0_gain;21:5022531.0-46635595.0_gain;22:15282557.0-35257452.0_gain;22:35298838.0-50529710.0_gain;X:276322.0-57286706.0_gain;X:57592011.0-140709562.0_gain;X:141111605.0-155997696.0_gain                                                                 28\n",
            "1:89551.0-19882395.0_gain;1:20111939.0-37474580.0_gain;1:37489993.0-61742477.0_gain;1:62194790.0-111448864.0_gain;1:111473792.0-154220179.0_gain;1:154272355.0-172370189.0_gain;1:172532349.0-212035553.0_gain;1:212285410.0-248906196.0_gain;2:38814.0-41935368.0_gain;2:42048021.0-85605254.0_gain;2:85657314.0-130571659.0_gain;2:130836914.0-196763035.0_gain;2:196833004.0-237421420.0_gain;2:237612977.0-242087351.0_gain;3:196763.0-44729596.0_gain;3:44737661.0-71567863.0_gain;3:71581601.0-133746040.0_gain;3:133784023.0-190322541.0_gain;3:190514051.0-197960200.0_gain;4:53286.0-56467617.0_gain;4:56505209.0-127840198.0_gain;4:127880893.0-189940855.0_gain;5:92168.0-74721206.0_gain;5:74766991.0-134738495.0_gain;5:134758771.0-175796310.0_gain;5:175917873.0-181306502.0_gain;6:291630.0-31197715.0_gain;6:31200165.0-63719980.0_gain;6:63805797.0-135991936.0_gain;6:136231024.0-170575295.0_gain;7:76890.0-43875894.0_gain;7:43926436.0-100119634.0_gain;7:100126785.0-141656728.0_gain;7:141704003.0-159028175.0_gain;8:232137.0-52622458.0_gain;8:53715543.0-112222928.0_gain;8:115408496.0-145052465.0_gain;9:14475.0-79505801.0_gain;9:79571773.0-127690098.0_gain;9:127690348.0-138199777.0_gain;10:130088.0-67796669.0_gain;10:67849481.0-100912963.0_gain;10:100967688.0-133520406.0_gain;11:33039417.0-64325050.0_gain;11:64340204.0-77473371.0_gain;11:77514936.0-124622836.0_gain;12:66767.0-25409307.0_gain;12:25936683.0-55549602.0_gain;12:55681736.0-96222797.0_gain;12:96278261.0-122983480.0_gain;12:123152320.0-133181409.0_gain;13:19422876.0-95648711.0_gain;13:95677139.0-114314482.0_gain;14:19341050.0-50326265.0_gain;14:50326526.0-77394021.0_gain;14:77426675.0-106810442.0_gain;15:20128745.0-52010999.0_gain;15:52056675.0-79311112.0_gain;15:79432336.0-101959227.0_gain;16:22845.0-12556353.0_gain;16:12659799.0-30989256.0_gain;16:31032889.0-69706996.0_gain;16:69709874.0-90105095.0_gain;17:64099.0-11598470.0_gain;17:11953889.0-35568050.0_gain;17:35574795.0-47682417.0_gain;17:47694161.0-74213571.0_gain;17:74274234.0-83104255.0_gain;18:158383.0-61905255.0_gain;18:62187255.0-80157232.0_gain;19:248551.0-7830218.0_gain;19:7868719.0-16355225.0_gain;19:16440946.0-35935358.0_gain;19:35995188.0-45212370.0_gain;19:45306413.0-53792139.0_gain;19:53847198.0-58561931.0_gain;20:267186.0-35771974.0_gain;20:35953617.0-63736283.0_gain;21:5022531.0-46635595.0_gain;22:15282557.0-35257452.0_gain;22:35298838.0-50529710.0_gain;X:276322.0-57286706.0_gain;X:57592011.0-140709562.0_gain;X:141111605.0-155997696.0_gain    28\n",
            "1:89551.0-19882395.0_gain;1:20111939.0-37474580.0_gain;1:37489993.0-61742477.0_gain;1:62194790.0-111448864.0_gain;1:111473792.0-154220179.0_gain;1:154272355.0-172370189.0_gain;1:172532349.0-212035553.0_gain;1:212285410.0-248906196.0_gain;2:38814.0-41935368.0_gain;2:42048021.0-85605254.0_gain;2:85657314.0-130571659.0_gain;2:130836914.0-196763035.0_gain;2:196833004.0-237421420.0_gain;2:237612977.0-242087351.0_gain;3:196763.0-44729596.0_gain;3:44737661.0-71567863.0_gain;3:71581601.0-133746040.0_gain;3:133784023.0-190322541.0_gain;3:190514051.0-197960200.0_gain;4:53286.0-56467617.0_gain;4:56505209.0-127840198.0_gain;4:127880893.0-189940855.0_gain;5:92168.0-74721206.0_gain;5:74766991.0-134738495.0_gain;5:134758771.0-175796310.0_gain;5:175917873.0-181306502.0_gain;6:31200165.0-63719980.0_gain;6:63805797.0-135991936.0_gain;6:136231024.0-170575295.0_gain;7:76890.0-43875894.0_gain;7:43926436.0-100119634.0_gain;7:100126785.0-141656728.0_gain;7:141704003.0-159028175.0_gain;8:232137.0-52622458.0_gain;8:53715543.0-112222928.0_gain;8:115408496.0-145052465.0_gain;9:14475.0-79505801.0_gain;9:79571773.0-127690098.0_gain;9:127690348.0-138199777.0_gain;10:130088.0-67796669.0_gain;10:67849481.0-100912963.0_gain;10:100967688.0-133520406.0_gain;12:66767.0-25409307.0_gain;12:25936683.0-55549602.0_gain;12:55681736.0-96222797.0_gain;12:96278261.0-122983480.0_gain;12:123152320.0-133181409.0_gain;13:19422876.0-95648711.0_gain;13:95677139.0-114314482.0_gain;14:19341050.0-50326265.0_gain;14:50326526.0-77394021.0_gain;14:77426675.0-106810442.0_gain;15:20128745.0-52010999.0_gain;15:52056675.0-79311112.0_gain;15:79432336.0-101959227.0_gain;16:22845.0-12556353.0_gain;16:12659799.0-30989256.0_gain;16:31032889.0-69706996.0_gain;16:69709874.0-90105095.0_gain;17:64099.0-11598470.0_gain;17:11953889.0-35568050.0_gain;17:35574795.0-47682417.0_gain;17:47694161.0-74213571.0_gain;17:74274234.0-83104255.0_gain;18:158383.0-61905255.0_gain;18:62187255.0-80157232.0_gain;19:248551.0-7830218.0_gain;19:7868719.0-16355225.0_gain;19:16440946.0-35935358.0_gain;19:35995188.0-45212370.0_gain;19:45306413.0-53792139.0_gain;20:267186.0-35771974.0_gain;20:35953617.0-63736283.0_gain;21:5022531.0-46635595.0_gain;22:15282557.0-35257452.0_gain;22:35298838.0-50529710.0_gain;X:276322.0-57286706.0_gain;X:57592011.0-140709562.0_gain;X:141111605.0-155997696.0_gain                                                                                                                                                        24\n",
            "                                                                                                                                                                                                                                                                                                                                                                                                                                                                                                                                                                                                                                                                                                                                                                                                                                                                                                                                                                                                                                                                                                                                                                                                                                                                                                                                                                                                                                                                                                                                                                                                                                                                                                                                                                                                                                                                                                                                                                                                                                                                                                                                                                                                                                                                                                                                                                                                                                                                                                                                                                                          ..\n",
            "1:20111939.0-37474580.0_gain;1:37489993.0-61742477.0_gain;1:62194790.0-111448864.0_gain;1:111473792.0-154220179.0_gain;1:154272355.0-172370189.0_gain;1:172532349.0-212035553.0_gain;1:212285410.0-248906196.0_gain;2:38814.0-41935368.0_gain;2:42048021.0-85605254.0_gain;2:85657314.0-130571659.0_gain;2:130836914.0-196763035.0_gain;2:196833004.0-237421420.0_gain;3:196763.0-44729596.0_gain;3:44737661.0-71567863.0_gain;3:71581601.0-133746040.0_gain;3:133784023.0-190322541.0_gain;4:53286.0-56467617.0_gain;4:56505209.0-127840198.0_gain;4:127880893.0-189940855.0_gain;5:92168.0-74721206.0_gain;5:74766991.0-134738495.0_gain;5:134758771.0-175796310.0_gain;5:175917873.0-181306502.0_gain;7:76890.0-43875894.0_gain;7:43926436.0-100119634.0_gain;7:100126785.0-141656728.0_gain;8:232137.0-52622458.0_gain;8:53715543.0-112222928.0_gain;8:115408496.0-145052465.0_gain;9:14475.0-79505801.0_gain;9:79571773.0-127690098.0_gain;9:127690348.0-138199777.0_gain;10:130088.0-67796669.0_gain;10:67849481.0-100912963.0_gain;10:100967688.0-133520406.0_gain;12:66767.0-25409307.0_gain;12:25936683.0-55549602.0_gain;12:55681736.0-96222797.0_gain;12:96278261.0-122983480.0_gain;12:123152320.0-133181409.0_gain;13:19422876.0-95648711.0_gain;14:19341050.0-50326265.0_gain;14:77426675.0-106810442.0_gain;15:20128745.0-52010999.0_gain;15:52056675.0-79311112.0_gain;15:79432336.0-101959227.0_gain;16:31032889.0-69706996.0_gain;16:69709874.0-90105095.0_gain;17:64099.0-11598470.0_gain;17:11953889.0-35568050.0_gain;17:35574795.0-47682417.0_gain;17:47694161.0-74213571.0_gain;18:158383.0-61905255.0_gain;18:62187255.0-80157232.0_loss;19:248551.0-7830218.0_gain;19:7868719.0-16355225.0_gain;19:16440946.0-35935358.0_gain;19:35995188.0-45212370.0_gain;19:45306413.0-53792139.0_gain;19:53847198.0-58561931.0_gain;20:267186.0-35771974.0_gain;20:35953617.0-63736283.0_gain;21:5022531.0-46635595.0_gain;22:35298838.0-50529710.0_gain;X:276322.0-57286706.0_gain;X:57592011.0-140709562.0_gain;X:141111605.0-155997696.0_gain                                                                                                                                                                                                                                                                                                                                                                                                                                                                                                                              1\n",
            "1:89551.0-19882395.0_gain;1:20111939.0-37474580.0_gain;1:37489993.0-61742477.0_gain;1:62194790.0-111448864.0_gain;1:111473792.0-154220179.0_gain;1:154272355.0-172370189.0_gain;1:172532349.0-212035553.0_gain;1:212285410.0-248906196.0_gain;2:38814.0-41935368.0_gain;2:42048021.0-85605254.0_gain;2:130836914.0-196763035.0_gain;2:196833004.0-237421420.0_gain;2:237612977.0-242087351.0_gain;3:196763.0-44729596.0_gain;3:71581601.0-133746040.0_gain;3:133784023.0-190322541.0_gain;4:53286.0-56467617.0_gain;4:56505209.0-127840198.0_gain;4:127880893.0-189940855.0_gain;5:74766991.0-134738495.0_gain;5:134758771.0-175796310.0_gain;5:175917873.0-181306502.0_gain;7:76890.0-43875894.0_gain;7:43926436.0-100119634.0_gain;7:100126785.0-141656728.0_gain;8:232137.0-52622458.0_gain;8:53715543.0-112222928.0_gain;9:79571773.0-127690098.0_gain;9:127690348.0-138199777.0_gain;10:130088.0-67796669.0_gain;10:67849481.0-100912963.0_gain;10:100967688.0-133520406.0_gain;11:124633113.0-134378504.0_loss;12:66767.0-25409307.0_gain;12:25936683.0-55549602.0_gain;12:55681736.0-96222797.0_gain;12:96278261.0-122983480.0_gain;12:123152320.0-133181409.0_gain;13:19422876.0-95648711.0_gain;13:95677139.0-114314482.0_gain;14:19341050.0-50326265.0_gain;14:77426675.0-106810442.0_gain;15:20128745.0-52010999.0_gain;15:52056675.0-79311112.0_gain;15:79432336.0-101959227.0_gain;16:12659799.0-30989256.0_gain;16:69709874.0-90105095.0_gain;17:64099.0-11598470.0_gain;17:11953889.0-35568050.0_gain;17:35574795.0-47682417.0_gain;17:47694161.0-74213571.0_gain;17:74274234.0-83104255.0_gain;18:158383.0-61905255.0_gain;18:62187255.0-80157232.0_loss;19:248551.0-7830218.0_gain;19:7868719.0-16355225.0_gain;19:16440946.0-35935358.0_gain;19:35995188.0-45212370.0_gain;19:45306413.0-53792139.0_gain;19:53847198.0-58561931.0_gain;20:35953617.0-63736283.0_gain;21:5022531.0-46635595.0_gain;22:35298838.0-50529710.0_gain;X:276322.0-57286706.0_gain;X:57592011.0-140709562.0_gain;X:141111605.0-155997696.0_gain                                                                                                                                                                                                                                                                                                                                                                                                                                                                                                                                                  1\n",
            "1:89551.0-19882395.0_gain;1:20111939.0-37474580.0_gain;1:37489993.0-61742477.0_gain;1:62194790.0-111448864.0_gain;1:111473792.0-154220179.0_gain;1:154272355.0-172370189.0_gain;1:172532349.0-212035553.0_gain;1:212285410.0-248906196.0_gain;2:38814.0-41935368.0_gain;2:42048021.0-85605254.0_gain;2:85657314.0-130571659.0_gain;2:130836914.0-196763035.0_gain;2:196833004.0-237421420.0_gain;2:237612977.0-242087351.0_gain;3:196763.0-44729596.0_gain;3:44737661.0-71567863.0_gain;3:71581601.0-133746040.0_gain;3:133784023.0-190322541.0_gain;3:190514051.0-197960200.0_gain;4:53286.0-56467617.0_gain;4:56505209.0-127840198.0_gain;4:127880893.0-189940855.0_gain;5:92168.0-74721206.0_gain;5:74766991.0-134738495.0_gain;5:134758771.0-175796310.0_gain;5:175917873.0-181306502.0_gain;6:31200165.0-63719980.0_gain;6:63805797.0-135991936.0_gain;7:76890.0-43875894.0_gain;7:43926436.0-100119634.0_gain;7:100126785.0-141656728.0_gain;7:141704003.0-159028175.0_gain;8:232137.0-52622458.0_gain;8:53715543.0-112222928.0_gain;8:115408496.0-145052465.0_gain;9:14475.0-79505801.0_gain;9:79571773.0-127690098.0_gain;9:127690348.0-138199777.0_gain;10:130088.0-67796669.0_gain;10:67849481.0-100912963.0_gain;10:100967688.0-133520406.0_gain;12:66767.0-25409307.0_gain;12:25936683.0-55549602.0_gain;12:55681736.0-96222797.0_gain;12:96278261.0-122983480.0_gain;12:123152320.0-133181409.0_gain;13:19422876.0-95648711.0_gain;13:95677139.0-114314482.0_gain;14:19341050.0-50326265.0_gain;14:50326526.0-77394021.0_gain;14:77426675.0-106810442.0_gain;15:20128745.0-52010999.0_gain;15:52056675.0-79311112.0_gain;15:79432336.0-101959227.0_gain;16:22845.0-12556353.0_gain;16:12659799.0-30989256.0_gain;16:69709874.0-90105095.0_gain;17:64099.0-11598470.0_gain;17:11953889.0-35568050.0_gain;17:35574795.0-47682417.0_gain;17:47694161.0-74213571.0_gain;17:74274234.0-83104255.0_gain;18:158383.0-61905255.0_gain;19:248551.0-7830218.0_gain;19:7868719.0-16355225.0_gain;19:16440946.0-35935358.0_gain;19:35995188.0-45212370.0_gain;19:45306413.0-53792139.0_gain;20:267186.0-35771974.0_gain;20:35953617.0-63736283.0_gain;21:5022531.0-46635595.0_gain;22:15282557.0-35257452.0_gain;22:35298838.0-50529710.0_gain;X:276322.0-57286706.0_gain;X:57592011.0-140709562.0_gain;X:141111605.0-155997696.0_gain                                                                                                                                                                                                                                                    1\n",
            "1:111473792.0-154220179.0_gain;2:38814.0-41935368.0_gain;2:42048021.0-85605254.0_gain;2:85657314.0-130571659.0_gain;2:130836914.0-196763035.0_gain;2:196833004.0-237421420.0_gain;2:237612977.0-242087351.0_gain;3:196763.0-44729596.0_gain;3:44737661.0-71567863.0_gain;3:71581601.0-133746040.0_gain;3:133784023.0-190322541.0_gain;3:190514051.0-197960200.0_gain;4:53286.0-56467617.0_gain;4:56505209.0-127840198.0_gain;4:127880893.0-189940855.0_gain;5:74766991.0-134738495.0_gain;5:134758771.0-175796310.0_gain;5:175917873.0-181306502.0_gain;7:76890.0-43875894.0_gain;7:43926436.0-100119634.0_gain;7:100126785.0-141656728.0_gain;7:141704003.0-159028175.0_gain;9:14475.0-79505801.0_gain;9:79571773.0-127690098.0_gain;9:127690348.0-138199777.0_gain;10:130088.0-67796669.0_gain;10:67849481.0-100912963.0_gain;10:100967688.0-133520406.0_gain;12:66767.0-25409307.0_gain;12:25936683.0-55549602.0_gain;12:55681736.0-96222797.0_gain;12:96278261.0-122983480.0_gain;15:52056675.0-79311112.0_gain;16:12659799.0-30989256.0_gain;16:31032889.0-69706996.0_gain;16:69709874.0-90105095.0_gain;17:64099.0-11598470.0_gain;17:11953889.0-35568050.0_gain;17:35574795.0-47682417.0_gain;17:47694161.0-74213571.0_gain;17:74274234.0-83104255.0_gain;18:158383.0-61905255.0_gain;19:248551.0-7830218.0_gain;19:7868719.0-16355225.0_gain;19:16440946.0-35935358.0_gain;19:35995188.0-45212370.0_gain;19:45306413.0-53792139.0_gain;19:53847198.0-58561931.0_gain;20:267186.0-35771974.0_gain;20:35953617.0-63736283.0_gain;22:35298838.0-50529710.0_gain;X:276322.0-57286706.0_gain;X:57592011.0-140709562.0_gain;X:141111605.0-155997696.0_gain                                                                                                                                                                                                                                                                                                                                                                                                                                                                                                                                                                                                                                                                                                                                                                                                                                                                                                                               1\n",
            "1:89551.0-19882395.0_gain;1:20111939.0-37474580.0_gain;1:37489993.0-61742477.0_gain;1:111473792.0-154220179.0_gain;1:154272355.0-172370189.0_gain;1:212285410.0-248906196.0_gain;2:38814.0-41935368.0_gain;2:42048021.0-85605254.0_gain;2:85657314.0-130571659.0_gain;2:130836914.0-196763035.0_gain;2:196833004.0-237421420.0_gain;2:237612977.0-242087351.0_gain;3:196763.0-44729596.0_gain;3:44737661.0-71567863.0_gain;3:71581601.0-133746040.0_gain;3:133784023.0-190322541.0_gain;4:53286.0-56467617.0_gain;4:56505209.0-127840198.0_gain;4:127880893.0-189940855.0_gain;5:92168.0-74721206.0_gain;5:74766991.0-134738495.0_gain;5:134758771.0-175796310.0_gain;5:175917873.0-181306502.0_gain;7:76890.0-43875894.0_gain;7:43926436.0-100119634.0_gain;7:100126785.0-141656728.0_gain;7:141704003.0-159028175.0_gain;8:53715543.0-112222928.0_gain;9:14475.0-79505801.0_gain;9:127690348.0-138199777.0_gain;10:130088.0-67796669.0_gain;10:67849481.0-100912963.0_gain;10:100967688.0-133520406.0_gain;12:66767.0-25409307.0_gain;12:25936683.0-55549602.0_gain;12:55681736.0-96222797.0_gain;12:96278261.0-122983480.0_gain;13:19422876.0-95648711.0_gain;13:95677139.0-114314482.0_loss;15:20128745.0-52010999.0_gain;16:22845.0-12556353.0_gain;17:64099.0-11598470.0_gain;17:35574795.0-47682417.0_gain;17:47694161.0-74213571.0_gain;17:74274234.0-83104255.0_gain;18:158383.0-61905255.0_gain;18:62187255.0-80157232.0_gain;19:248551.0-7830218.0_gain;19:7868719.0-16355225.0_gain;19:16440946.0-35935358.0_gain;19:35995188.0-45212370.0_gain;19:45306413.0-53792139.0_gain;20:35953617.0-63736283.0_gain;21:5022531.0-46635595.0_gain;22:15282557.0-35257452.0_gain;22:35298838.0-50529710.0_gain;X:276322.0-57286706.0_gain;X:57592011.0-140709562.0_gain;X:141111605.0-155997696.0_gain                                                                                                                                                                                                                                                                                                                                                                                                                                                                                                                                                                                                                                                                                                                                                                                   1\n",
            "Name: count, Length: 9648, dtype: int64\n",
            "simulated_cnvs value counts:\n",
            "simulated_cnvs\n",
            "                                                           6312\n",
            "X:106533974-112956833 (CN 4)                               1731\n",
            "6:25435484-35035259 (CN 1)                                  895\n",
            "22:19807132-29743868 (CN 0), 6:25435484-35035259 (CN 1)     700\n",
            "22:19807132-29743868 (CN 0)                                 671\n",
            "Name: count, dtype: int64\n",
            "--------------------------------------------------\n"
          ]
        }
      ]
    },
    {
      "cell_type": "code",
      "source": [
        "print(f\"Window={window_size}, MinCells={min_cells}\")\n",
        "print(\"Mean of first 10 cells' X:\", adata_tmp.X[:10].mean())\n",
        "print(\"-\" * 50)"
      ],
      "metadata": {
        "colab": {
          "base_uri": "https://localhost:8080/"
        },
        "id": "YaQ2HYk5a_CE",
        "outputId": "4a5506a2-6d3f-4239-c6a2-0761af74a78c"
      },
      "execution_count": 28,
      "outputs": [
        {
          "output_type": "stream",
          "name": "stdout",
          "text": [
            "Window=250, MinCells=25\n",
            "Mean of first 10 cells' X: 0.5636879\n",
            "--------------------------------------------------\n"
          ]
        }
      ]
    },
    {
      "cell_type": "code",
      "source": [
        "window_sizes = [100, 150, 250]\n",
        "results = []\n",
        "\n",
        "for window_size in window_sizes:\n",
        "    adata_tmp = cna.find_cnas(\n",
        "        adata.copy(),\n",
        "        reference_key='cell_type',\n",
        "        reference_cat=['CD4 T cell', 'CD14 monocyte', 'B cell', 'CD8 T cell',\n",
        "                       'NK cell', 'FCGR3A monocyte', 'Dendritic', 'Megakaryocyte'],\n",
        "        threshold=2,\n",
        "        min_cells=10,\n",
        "        window_size=window_size\n",
        "    )\n",
        "\n",
        "    y_true = (adata_tmp.obs['simulated_cnvs'].notna()) & (adata_tmp.obs['simulated_cnvs'] != '')\n",
        "    y_pred = adata_tmp.obs['detect_CNA'].apply(lambda x: isinstance(x, str) and x != 'none')\n",
        "\n",
        "    acc = accuracy_score(y_true, y_pred)\n",
        "    prec = precision_score(y_true, y_pred)\n",
        "    rec = recall_score(y_true, y_pred)\n",
        "    f1 = f1_score(y_true, y_pred)\n",
        "    pr_auc = average_precision_score(y_true, y_pred)\n",
        "\n",
        "    results.append((window_size, acc, prec, rec, f1, pr_auc))\n",
        "\n",
        "\n",
        "# results.sort(key=lambda x: -x[4])\n",
        "# print(\"window_size Parameter Evaluation:\")\n",
        "# print(f\"{'Window':<10} {'Acc':<8} {'Prec':<8} {'Recall':<8} {'F1':<8} {'PR-AUC':<8}\")\n",
        "# for r in results:\n",
        "#     print(f\"{r[0]:<10} {r[1]:.3f}    {r[2]:.3f}    {r[3]:.3f}    {r[4]:.3f}    {r[5]:.3f}\")\n"
      ],
      "metadata": {
        "id": "T7hYPXS0AY4k"
      },
      "execution_count": null,
      "outputs": []
    },
    {
      "cell_type": "code",
      "source": [
        "print(\"Window size sweep results:\")\n",
        "print(f\"{'Window':<10} {'Acc':<8} {'Prec':<8} {'Recall':<8} {'F1':<8} {'PR-AUC':<8}\")\n",
        "for i, r in enumerate(results):\n",
        "    print(f\"{window_sizes[i]:<10} {r[1]:.3f}    {r[2]:.3f}    {r[3]:.3f}    {r[4]:.3f}    {r[5]:.3f}\")\n"
      ],
      "metadata": {
        "id": "zWvwOFDwuPR8"
      },
      "execution_count": null,
      "outputs": []
    },
    {
      "cell_type": "code",
      "source": [
        "depths = [500,1000, 2000, 3000,4000,5000]\n",
        "results = []\n",
        "\n",
        "for d in depths:\n",
        "    ad_sub = sc.pp.subsample(adata, n_obs=d, copy=True)\n",
        "    ad_sub = cna.find_cnas(\n",
        "        ad_sub,\n",
        "        reference_key='cell_type',\n",
        "        reference_cat=[\n",
        "            'CD4 T cell', 'CD14 monocyte', 'B cell', 'CD8 T cell',\n",
        "            'NK cell', 'FCGR3A monocyte', 'Dendritic', 'Megakaryocyte'\n",
        "        ],\n",
        "        threshold=5,\n",
        "        min_cells=20,\n",
        "        window_size=100\n",
        "    )\n",
        "\n",
        "    y_true = (ad_sub.obs['simulated_cnvs'].notna()) & (ad_sub.obs['simulated_cnvs'] != '')\n",
        "    y_pred = ad_sub.obs['detect_CNA'].apply(lambda x: isinstance(x, str) and x != 'none')\n",
        "\n",
        "    acc = accuracy_score(y_true, y_pred)\n",
        "    prec = precision_score(y_true, y_pred)\n",
        "    rec = recall_score(y_true, y_pred)\n",
        "    f1 = f1_score(y_true, y_pred)\n",
        "    pr_auc = average_precision_score(y_true, y_pred)\n",
        "\n",
        "    results.append((d, acc, prec, rec, f1, pr_auc))\n",
        "    #print(f\"Read Depth={d} → Acc={acc:.3f}, Prec={prec:.3f}, Recall={rec:.3f}, F1={f1:.3f}, PR-AUC={pr_auc:.3f}\")\n",
        "\n",
        "# print(\"\\nSummary of performance at different read depths:\")\n",
        "# print(f\"{'Depth':<8} {'Acc':<8} {'Prec':<8} {'Recall':<8} {'F1':<8} {'PR-AUC':<8}\")\n",
        "# for r in results:\n",
        "#     print(f\"{r[0]:<8} {r[1]:.3f}    {r[2]:.3f}    {r[3]:.3f}    {r[4]:.3f}    {r[5]:.3f}\")\n",
        "\n",
        "# depths = [r[0] for r in results]\n",
        "# f1_scores = [r[4] for r in results]\n",
        "# plt.plot(depths, f1_scores, marker='o')\n",
        "# plt.xlabel(\"Read Depth (Number of Cells)\")\n",
        "# plt.ylabel(\"F1 Score\")\n",
        "# plt.title(\"F1 Score vs Read Depth\")\n",
        "# plt.grid(True)\n",
        "# plt.show()\n"
      ],
      "metadata": {
        "id": "fNjOJ2Rttf-s",
        "colab": {
          "base_uri": "https://localhost:8080/"
        },
        "outputId": "36cde234-4bf1-43e6-d422-7b6e8791ab06"
      },
      "execution_count": 24,
      "outputs": [
        {
          "output_type": "stream",
          "name": "stderr",
          "text": [
            "WARNING:root:Skipped 411 genes because they don't have a genomic position annotated. \n",
            "/usr/local/lib/python3.11/dist-packages/scanpy/preprocessing/_normalization.py:216: UserWarning: Received a view of an AnnData. Making a copy.\n",
            "  view_to_actual(adata)\n",
            "WARNING:root:Skipped 411 genes because they don't have a genomic position annotated. \n",
            "/usr/local/lib/python3.11/dist-packages/scanpy/preprocessing/_normalization.py:216: UserWarning: Received a view of an AnnData. Making a copy.\n",
            "  view_to_actual(adata)\n",
            "WARNING:root:Skipped 411 genes because they don't have a genomic position annotated. \n",
            "/usr/local/lib/python3.11/dist-packages/scanpy/preprocessing/_normalization.py:216: UserWarning: Received a view of an AnnData. Making a copy.\n",
            "  view_to_actual(adata)\n",
            "WARNING:root:Skipped 411 genes because they don't have a genomic position annotated. \n",
            "/usr/local/lib/python3.11/dist-packages/scanpy/preprocessing/_normalization.py:216: UserWarning: Received a view of an AnnData. Making a copy.\n",
            "  view_to_actual(adata)\n",
            "WARNING:root:Skipped 411 genes because they don't have a genomic position annotated. \n",
            "/usr/local/lib/python3.11/dist-packages/scanpy/preprocessing/_normalization.py:216: UserWarning: Received a view of an AnnData. Making a copy.\n",
            "  view_to_actual(adata)\n",
            "WARNING:root:Skipped 411 genes because they don't have a genomic position annotated. \n",
            "/usr/local/lib/python3.11/dist-packages/scanpy/preprocessing/_normalization.py:216: UserWarning: Received a view of an AnnData. Making a copy.\n",
            "  view_to_actual(adata)\n"
          ]
        }
      ]
    },
    {
      "cell_type": "code",
      "source": [
        "print(\"\\nSummary of performance at different read depths:\")\n",
        "print(f\"{'Depth':<8} {'Acc':<7} {'Prec':<7} {'Recall':<7} {'F1':<7} {'PR-AUC':<7}\")\n",
        "print(\"-\" * 50)\n",
        "for r in results:\n",
        "    print(f\"{r[0]:<8} {r[1]:<7.3f} {r[2]:<7.3f} {r[3]:<7.3f} {r[4]:<7.3f} {r[5]:<7.3f}\")\n",
        "\n",
        "depths = [r[0] for r in results]\n",
        "acc = [r[1] for r in results]\n",
        "prec = [r[2] for r in results]\n",
        "recall = [r[3] for r in results]\n",
        "f1 = [r[4] for r in results]\n",
        "pr_auc = [r[5] for r in results]\n",
        "\n",
        "plt.figure(figsize=(10, 6))\n",
        "plt.plot(depths, acc, marker='o', label='Accuracy')\n",
        "plt.plot(depths, prec, marker='o', label='Precision')\n",
        "plt.plot(depths, recall, marker='o', label='Recall')\n",
        "plt.plot(depths, f1, marker='o', label='F1 Score')\n",
        "plt.plot(depths, pr_auc, marker='o', label='PR-AUC')\n",
        "\n",
        "plt.xlabel(\"Read Depth (Number of Cells)\")\n",
        "plt.ylabel(\"Score\")\n",
        "plt.title(\"Model Performance vs Read Depth\")\n",
        "plt.legend()\n",
        "plt.grid(True)\n",
        "plt.tight_layout()\n",
        "plt.show()\n"
      ],
      "metadata": {
        "colab": {
          "base_uri": "https://localhost:8080/",
          "height": 781
        },
        "id": "4KvKvMHWxoW4",
        "outputId": "6ab6e8c0-d391-4ab2-ac8c-964147170ebb"
      },
      "execution_count": 26,
      "outputs": [
        {
          "output_type": "stream",
          "name": "stdout",
          "text": [
            "\n",
            "Summary of performance at different read depths:\n",
            "Depth    Acc     Prec    Recall  F1      PR-AUC \n",
            "--------------------------------------------------\n",
            "500      0.356   0.322   0.618   0.423   0.345  \n",
            "1000     0.380   0.354   0.722   0.475   0.364  \n",
            "2000     0.368   0.348   0.682   0.460   0.363  \n",
            "3000     0.371   0.345   0.711   0.465   0.357  \n",
            "4000     0.368   0.346   0.726   0.468   0.356  \n",
            "5000     0.369   0.349   0.725   0.471   0.360  \n"
          ]
        },
        {
          "output_type": "display_data",
          "data": {
            "text/plain": [
              "<Figure size 1000x600 with 1 Axes>"
            ],
            "image/png": "[encoded data removed]"
          },
          "metadata": {}
        }
      ]
    }
  ],
  "metadata": {
    "colab": {
      "provenance": [],
      "machine_shape": "hm",
      "toc_visible": true
    },
    "kernelspec": {
      "display_name": "Python 3",
      "name": "python3"
    },
    "language_info": {
      "name": "python"
    }
  },
  "nbformat": 4,
  "nbformat_minor": 0
}