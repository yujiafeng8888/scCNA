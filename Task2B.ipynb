{
 "cells": [
  {
   "cell_type": "code",
   "execution_count": 10,
   "id": "b7f210ad-ca45-41d5-9ea6-45ed3bbeb567",
   "metadata": {},
   "outputs": [
    {
     "name": "stdout",
     "output_type": "stream",
     "text": [
      "致命错误：目标路径 'scCNA' 已经存在，并且不是一个空目录。\n",
      "/Users/luoyilin/scCNA\n",
      "Processing /Users/luoyilin/scCNA\n",
      "  Preparing metadata (setup.py) ... \u001b[?25ldone\n",
      "\u001b[?25hRequirement already satisfied: pandas in /opt/anaconda3/lib/python3.12/site-packages (from scCNA==0.1) (2.2.3)\n",
      "Requirement already satisfied: numpy in /opt/anaconda3/lib/python3.12/site-packages (from scCNA==0.1) (1.26.4)\n",
      "Requirement already satisfied: scanpy in /opt/anaconda3/lib/python3.12/site-packages (from scCNA==0.1) (1.11.0)\n",
      "Requirement already satisfied: seaborn in /opt/anaconda3/lib/python3.12/site-packages (from scCNA==0.1) (0.13.2)\n",
      "Requirement already satisfied: matplotlib in /opt/anaconda3/lib/python3.12/site-packages (from scCNA==0.1) (3.8.4)\n",
      "Requirement already satisfied: anndata in /opt/anaconda3/lib/python3.12/site-packages (from scCNA==0.1) (0.11.3)\n",
      "Requirement already satisfied: typing-extensions in /opt/anaconda3/lib/python3.12/site-packages (from scCNA==0.1) (4.12.2)\n",
      "Requirement already satisfied: array-api-compat!=1.5,>1.4 in /opt/anaconda3/lib/python3.12/site-packages (from anndata->scCNA==0.1) (1.11)\n",
      "Requirement already satisfied: h5py>=3.7 in /opt/anaconda3/lib/python3.12/site-packages (from anndata->scCNA==0.1) (3.13.0)\n",
      "Requirement already satisfied: natsort in /opt/anaconda3/lib/python3.12/site-packages (from anndata->scCNA==0.1) (8.4.0)\n",
      "Requirement already satisfied: packaging>=20.0 in /opt/anaconda3/lib/python3.12/site-packages (from anndata->scCNA==0.1) (24.2)\n",
      "Requirement already satisfied: scipy>1.8 in /opt/anaconda3/lib/python3.12/site-packages (from anndata->scCNA==0.1) (1.11.4)\n",
      "Requirement already satisfied: python-dateutil>=2.8.2 in /opt/anaconda3/lib/python3.12/site-packages (from pandas->scCNA==0.1) (2.9.0.post0)\n",
      "Requirement already satisfied: pytz>=2020.1 in /opt/anaconda3/lib/python3.12/site-packages (from pandas->scCNA==0.1) (2025.1)\n",
      "Requirement already satisfied: tzdata>=2022.7 in /opt/anaconda3/lib/python3.12/site-packages (from pandas->scCNA==0.1) (2025.1)\n",
      "Requirement already satisfied: contourpy>=1.0.1 in /opt/anaconda3/lib/python3.12/site-packages (from matplotlib->scCNA==0.1) (1.3.1)\n",
      "Requirement already satisfied: cycler>=0.10 in /opt/anaconda3/lib/python3.12/site-packages (from matplotlib->scCNA==0.1) (0.12.1)\n",
      "Requirement already satisfied: fonttools>=4.22.0 in /opt/anaconda3/lib/python3.12/site-packages (from matplotlib->scCNA==0.1) (4.56.0)\n",
      "Requirement already satisfied: kiwisolver>=1.3.1 in /opt/anaconda3/lib/python3.12/site-packages (from matplotlib->scCNA==0.1) (1.4.8)\n",
      "Requirement already satisfied: pillow>=8 in /opt/anaconda3/lib/python3.12/site-packages (from matplotlib->scCNA==0.1) (11.1.0)\n",
      "Requirement already satisfied: pyparsing>=2.3.1 in /opt/anaconda3/lib/python3.12/site-packages (from matplotlib->scCNA==0.1) (3.2.1)\n",
      "Requirement already satisfied: joblib in /opt/anaconda3/lib/python3.12/site-packages (from scanpy->scCNA==0.1) (1.4.2)\n",
      "Requirement already satisfied: legacy-api-wrap>=1.4 in /opt/anaconda3/lib/python3.12/site-packages (from scanpy->scCNA==0.1) (1.4.1)\n",
      "Requirement already satisfied: networkx>=2.7 in /opt/anaconda3/lib/python3.12/site-packages (from scanpy->scCNA==0.1) (2.8.8)\n",
      "Requirement already satisfied: numba>=0.57 in /opt/anaconda3/lib/python3.12/site-packages (from scanpy->scCNA==0.1) (0.61.0)\n",
      "Requirement already satisfied: patsy!=1.0.0 in /opt/anaconda3/lib/python3.12/site-packages (from scanpy->scCNA==0.1) (1.0.1)\n",
      "Requirement already satisfied: pynndescent>=0.5 in /opt/anaconda3/lib/python3.12/site-packages (from scanpy->scCNA==0.1) (0.5.13)\n",
      "Requirement already satisfied: scikit-learn<1.6.0,>=1.1 in /opt/anaconda3/lib/python3.12/site-packages (from scanpy->scCNA==0.1) (1.5.2)\n",
      "Requirement already satisfied: session-info2 in /opt/anaconda3/lib/python3.12/site-packages (from scanpy->scCNA==0.1) (0.1.2)\n",
      "Requirement already satisfied: statsmodels>=0.13 in /opt/anaconda3/lib/python3.12/site-packages (from scanpy->scCNA==0.1) (0.14.4)\n",
      "Requirement already satisfied: tqdm in /opt/anaconda3/lib/python3.12/site-packages (from scanpy->scCNA==0.1) (4.67.1)\n",
      "Requirement already satisfied: umap-learn!=0.5.0,>=0.5 in /opt/anaconda3/lib/python3.12/site-packages (from scanpy->scCNA==0.1) (0.5.7)\n",
      "Requirement already satisfied: llvmlite<0.45,>=0.44.0dev0 in /opt/anaconda3/lib/python3.12/site-packages (from numba>=0.57->scanpy->scCNA==0.1) (0.44.0)\n",
      "Requirement already satisfied: six>=1.5 in /opt/anaconda3/lib/python3.12/site-packages (from python-dateutil>=2.8.2->pandas->scCNA==0.1) (1.17.0)\n",
      "Requirement already satisfied: threadpoolctl>=3.1.0 in /opt/anaconda3/lib/python3.12/site-packages (from scikit-learn<1.6.0,>=1.1->scanpy->scCNA==0.1) (3.5.0)\n",
      "Building wheels for collected packages: scCNA\n",
      "  Building wheel for scCNA (setup.py) ... \u001b[?25ldone\n",
      "\u001b[?25h  Created wheel for scCNA: filename=scCNA-0.1-py3-none-any.whl size=6090 sha256=d6ff727fd63e457952f6c4d4d2292dd59746a206f42a3373056d5f032e5437bd\n",
      "  Stored in directory: /private/var/folders/rr/th9tmxcd7j37vgtqc9s41kch0000gn/T/pip-ephem-wheel-cache-bog5vh42/wheels/ed/74/bd/f65cf665b60ae248776493cf35d589094df200c6852942b544\n",
      "Successfully built scCNA\n",
      "Installing collected packages: scCNA\n",
      "  Attempting uninstall: scCNA\n",
      "    Found existing installation: scCNA 0.1\n",
      "    Uninstalling scCNA-0.1:\n",
      "      Successfully uninstalled scCNA-0.1\n",
      "Successfully installed scCNA-0.1\n"
     ]
    }
   ],
   "source": [
    "!git clone https://github.com/yujiafeng8888/scCNA.git\n",
    "%cd scCNA\n",
    "!pip install ."
   ]
  },
  {
   "cell_type": "code",
   "execution_count": 1,
   "id": "31d03af6-3001-4338-a999-535cdc1d32ea",
   "metadata": {},
   "outputs": [
    {
     "name": "stdout",
     "output_type": "stream",
     "text": [
      "Requirement already satisfied: scanpy in /opt/anaconda3/lib/python3.12/site-packages (1.11.0)\n",
      "Requirement already satisfied: anndata>=0.8 in /opt/anaconda3/lib/python3.12/site-packages (from scanpy) (0.11.3)\n",
      "Requirement already satisfied: h5py>=3.7 in /opt/anaconda3/lib/python3.12/site-packages (from scanpy) (3.13.0)\n",
      "Requirement already satisfied: joblib in /opt/anaconda3/lib/python3.12/site-packages (from scanpy) (1.4.2)\n",
      "Requirement already satisfied: legacy-api-wrap>=1.4 in /opt/anaconda3/lib/python3.12/site-packages (from scanpy) (1.4.1)\n",
      "Requirement already satisfied: matplotlib>=3.6 in /opt/anaconda3/lib/python3.12/site-packages (from scanpy) (3.8.4)\n",
      "Requirement already satisfied: natsort in /opt/anaconda3/lib/python3.12/site-packages (from scanpy) (8.4.0)\n",
      "Requirement already satisfied: networkx>=2.7 in /opt/anaconda3/lib/python3.12/site-packages (from scanpy) (2.8.8)\n",
      "Requirement already satisfied: numba>=0.57 in /opt/anaconda3/lib/python3.12/site-packages (from scanpy) (0.61.0)\n",
      "Requirement already satisfied: numpy>=1.24 in /opt/anaconda3/lib/python3.12/site-packages (from scanpy) (1.26.4)\n",
      "Requirement already satisfied: packaging>=21.3 in /opt/anaconda3/lib/python3.12/site-packages (from scanpy) (24.2)\n",
      "Requirement already satisfied: pandas>=1.5 in /opt/anaconda3/lib/python3.12/site-packages (from scanpy) (2.2.3)\n",
      "Requirement already satisfied: patsy!=1.0.0 in /opt/anaconda3/lib/python3.12/site-packages (from scanpy) (1.0.1)\n",
      "Requirement already satisfied: pynndescent>=0.5 in /opt/anaconda3/lib/python3.12/site-packages (from scanpy) (0.5.13)\n",
      "Requirement already satisfied: scikit-learn<1.6.0,>=1.1 in /opt/anaconda3/lib/python3.12/site-packages (from scanpy) (1.5.2)\n",
      "Requirement already satisfied: scipy>=1.8 in /opt/anaconda3/lib/python3.12/site-packages (from scanpy) (1.11.4)\n",
      "Requirement already satisfied: seaborn>=0.13 in /opt/anaconda3/lib/python3.12/site-packages (from scanpy) (0.13.2)\n",
      "Requirement already satisfied: session-info2 in /opt/anaconda3/lib/python3.12/site-packages (from scanpy) (0.1.2)\n",
      "Requirement already satisfied: statsmodels>=0.13 in /opt/anaconda3/lib/python3.12/site-packages (from scanpy) (0.14.4)\n",
      "Requirement already satisfied: tqdm in /opt/anaconda3/lib/python3.12/site-packages (from scanpy) (4.67.1)\n",
      "Requirement already satisfied: typing-extensions in /opt/anaconda3/lib/python3.12/site-packages (from scanpy) (4.12.2)\n",
      "Requirement already satisfied: umap-learn!=0.5.0,>=0.5 in /opt/anaconda3/lib/python3.12/site-packages (from scanpy) (0.5.7)\n",
      "Requirement already satisfied: array-api-compat!=1.5,>1.4 in /opt/anaconda3/lib/python3.12/site-packages (from anndata>=0.8->scanpy) (1.11)\n",
      "Requirement already satisfied: contourpy>=1.0.1 in /opt/anaconda3/lib/python3.12/site-packages (from matplotlib>=3.6->scanpy) (1.3.1)\n",
      "Requirement already satisfied: cycler>=0.10 in /opt/anaconda3/lib/python3.12/site-packages (from matplotlib>=3.6->scanpy) (0.12.1)\n",
      "Requirement already satisfied: fonttools>=4.22.0 in /opt/anaconda3/lib/python3.12/site-packages (from matplotlib>=3.6->scanpy) (4.56.0)\n",
      "Requirement already satisfied: kiwisolver>=1.3.1 in /opt/anaconda3/lib/python3.12/site-packages (from matplotlib>=3.6->scanpy) (1.4.8)\n",
      "Requirement already satisfied: pillow>=8 in /opt/anaconda3/lib/python3.12/site-packages (from matplotlib>=3.6->scanpy) (11.1.0)\n",
      "Requirement already satisfied: pyparsing>=2.3.1 in /opt/anaconda3/lib/python3.12/site-packages (from matplotlib>=3.6->scanpy) (3.2.1)\n",
      "Requirement already satisfied: python-dateutil>=2.7 in /opt/anaconda3/lib/python3.12/site-packages (from matplotlib>=3.6->scanpy) (2.9.0.post0)\n",
      "Requirement already satisfied: llvmlite<0.45,>=0.44.0dev0 in /opt/anaconda3/lib/python3.12/site-packages (from numba>=0.57->scanpy) (0.44.0)\n",
      "Requirement already satisfied: pytz>=2020.1 in /opt/anaconda3/lib/python3.12/site-packages (from pandas>=1.5->scanpy) (2025.1)\n",
      "Requirement already satisfied: tzdata>=2022.7 in /opt/anaconda3/lib/python3.12/site-packages (from pandas>=1.5->scanpy) (2025.1)\n",
      "Requirement already satisfied: threadpoolctl>=3.1.0 in /opt/anaconda3/lib/python3.12/site-packages (from scikit-learn<1.6.0,>=1.1->scanpy) (3.5.0)\n",
      "Requirement already satisfied: six>=1.5 in /opt/anaconda3/lib/python3.12/site-packages (from python-dateutil>=2.7->matplotlib>=3.6->scanpy) (1.17.0)\n"
     ]
    }
   ],
   "source": [
    "!pip install scanpy"
   ]
  },
  {
   "cell_type": "code",
   "execution_count": 1,
   "id": "4794d7ac-6a2e-4926-952c-efdab8ee388a",
   "metadata": {},
   "outputs": [],
   "source": [
    "import numpy as np\n",
    "import random\n",
    "import scanpy as sc"
   ]
  },
  {
   "cell_type": "code",
   "execution_count": 2,
   "id": "f1a12fd4-3142-4f6e-aa1f-1de83ff761f9",
   "metadata": {},
   "outputs": [],
   "source": [
    "import scanpy as sc\n",
    "import scCNA as cna\n",
    "import matplotlib.pyplot as plt\n",
    "import infercnvpy as cnv\n",
    "from sklearn.metrics import accuracy_score, precision_score, recall_score, f1_score, average_precision_score"
   ]
  },
  {
   "cell_type": "code",
   "execution_count": 3,
   "id": "657d3eb3-1360-4c55-bb39-e8794d73f0f0",
   "metadata": {},
   "outputs": [],
   "source": [
    "adata = sc.read_h5ad(\"PBMC_simulated_cnas_041025.h5ad\")"
   ]
  },
  {
   "cell_type": "code",
   "execution_count": 4,
   "id": "c74aa9cf-dc03-4255-a750-fc223bfc8750",
   "metadata": {},
   "outputs": [],
   "source": [
    "\n",
    "def simulate_cnas_windowed(\n",
    "    adata,\n",
    "    window_size=100,\n",
    "    cna_types=(\"gain\", \"loss\", \"homo_del\"),\n",
    "    frequencies=(0.2, 0.5, 0.9),\n",
    "    chroms=(\"1\", \"2\", \"3\"),\n",
    "    cell_key=\"cell_type\"\n",
    "):\n",
    "    \"\"\"\n",
    "    Simulate CNAs in expression matrix by modifying expression of genomic windows.\n",
    "    Writes `simulated_cnvs` to adata.obs (overwrites if exists).\n",
    "\n",
    "    Parameters:\n",
    "    - adata: AnnData object\n",
    "    - window_size: number of genes per simulated CNA window\n",
    "    - cna_types: list of CNA types to simulate\n",
    "    - frequencies: list of cell-level frequencies for each simulated CNA\n",
    "    - chroms: chromosomes to simulate CNAs on\n",
    "    \"\"\"\n",
    "    if \"simulated_cnvs\" not in adata.obs.columns:\n",
    "        adata.obs[\"simulated_cnvs\"] = \"\"\n",
    "    else:\n",
    "        adata.obs[\"simulated_cnvs\"] = \"\"\n",
    "\n",
    "    if not isinstance(adata.X, np.ndarray):\n",
    "        X = adata.X.toarray()\n",
    "    else:\n",
    "        X = adata.X\n",
    "\n",
    "    var = adata.var\n",
    "    simulated_log = []\n",
    "\n",
    "    for chrom in chroms:\n",
    "        genes_chr = var[var[\"chromosome\"] == chrom]\n",
    "        gene_indices = genes_chr.index.to_numpy()\n",
    "\n",
    "        if len(gene_indices) < window_size:\n",
    "            continue\n",
    "\n",
    "        start_idx = random.randint(0, len(gene_indices) - window_size)\n",
    "        window_genes = gene_indices[start_idx:start_idx + window_size]\n",
    "        window_starts = var.loc[window_genes, \"start\"]\n",
    "        region_start = window_starts.min()\n",
    "        region_end = window_starts.max()\n",
    "\n",
    "        # Choose CNA type and frequency\n",
    "        cna_type = random.choice(cna_types)\n",
    "        freq = random.choice(frequencies)\n",
    "        n_cells = int(len(adata) * freq)\n",
    "        selected_cells = np.random.choice(adata.obs_names, n_cells, replace=False)\n",
    "\n",
    "        # Apply effect\n",
    "        for cell in selected_cells:\n",
    "            idx = adata.obs_names.get_loc(cell)\n",
    "            if cna_type == \"gain\":\n",
    "                X[idx, adata.var_names.isin(window_genes)] *= 1.5\n",
    "            elif cna_type == \"loss\":\n",
    "                X[idx, adata.var_names.isin(window_genes)] *= 0.5\n",
    "            elif cna_type == \"homo_del\":\n",
    "                X[idx, adata.var_names.isin(window_genes)] = 0\n",
    "\n",
    "            region_str = f\"{chrom}:{region_start}-{region_end} (CN {0 if cna_type == 'homo_del' else ('+' if cna_type == 'gain' else '-')})\"\n",
    "            if adata.obs.at[cell, \"simulated_cnvs\"] == \"\":\n",
    "                adata.obs.at[cell, \"simulated_cnvs\"] = region_str\n",
    "            else:\n",
    "                adata.obs.at[cell, \"simulated_cnvs\"] += f\";{region_str}\"\n",
    "\n",
    "        simulated_log.append((chrom, region_start, region_end, cna_type, freq))\n",
    "\n",
    "    adata.X = X\n",
    "    return adata, simulated_log\n"
   ]
  },
  {
   "cell_type": "code",
   "execution_count": 5,
   "id": "fb9f7dcb-61ca-43d5-b6bb-c1d08e392b86",
   "metadata": {},
   "outputs": [],
   "source": [
    "adata_sim, log = simulate_cnas_windowed(\n",
    "    adata.copy(),\n",
    "    window_size=100,\n",
    "    cna_types=[\"gain\", \"loss\", \"homo_del\"],\n",
    "    frequencies=[0.2, 0.5, 0.9],\n",
    "    chroms=[\"1\", \"2\", \"3\"]\n",
    ")\n"
   ]
  },
  {
   "cell_type": "code",
   "execution_count": 6,
   "id": "3a54db29-d5de-4d93-a929-9bb9d4a3db70",
   "metadata": {},
   "outputs": [
    {
     "data": {
      "text/html": [
       "<div>\n",
       "<style scoped>\n",
       "    .dataframe tbody tr th:only-of-type {\n",
       "        vertical-align: middle;\n",
       "    }\n",
       "\n",
       "    .dataframe tbody tr th {\n",
       "        vertical-align: top;\n",
       "    }\n",
       "\n",
       "    .dataframe thead th {\n",
       "        text-align: right;\n",
       "    }\n",
       "</style>\n",
       "<table border=\"1\" class=\"dataframe\">\n",
       "  <thead>\n",
       "    <tr style=\"text-align: right;\">\n",
       "      <th></th>\n",
       "      <th>n_genes_by_counts</th>\n",
       "      <th>total_counts</th>\n",
       "      <th>total_counts_ribo</th>\n",
       "      <th>pct_counts_ribo</th>\n",
       "      <th>total_counts_mt</th>\n",
       "      <th>pct_counts_mt</th>\n",
       "      <th>n_genes</th>\n",
       "      <th>n_counts</th>\n",
       "      <th>cell_type</th>\n",
       "      <th>simulated_cnvs</th>\n",
       "    </tr>\n",
       "  </thead>\n",
       "  <tbody>\n",
       "    <tr>\n",
       "      <th>AAACCCAAGCGCCCAT-1</th>\n",
       "      <td>1005</td>\n",
       "      <td>1760.0</td>\n",
       "      <td>392.0</td>\n",
       "      <td>17.785845</td>\n",
       "      <td>52.0</td>\n",
       "      <td>2.359347</td>\n",
       "      <td>1005</td>\n",
       "      <td>1760.0</td>\n",
       "      <td>CD4 T cell</td>\n",
       "      <td>1:183472216.0-203626832.0 (CN 0)</td>\n",
       "    </tr>\n",
       "    <tr>\n",
       "      <th>AAACCCAAGGTTCCGC-1</th>\n",
       "      <td>4101</td>\n",
       "      <td>14240.0</td>\n",
       "      <td>4526.0</td>\n",
       "      <td>22.528622</td>\n",
       "      <td>1324.0</td>\n",
       "      <td>6.590343</td>\n",
       "      <td>4101</td>\n",
       "      <td>14240.0</td>\n",
       "      <td>Dendritic</td>\n",
       "      <td>1:183472216.0-203626832.0 (CN 0);2:85394753.0-...</td>\n",
       "    </tr>\n",
       "    <tr>\n",
       "      <th>AAACCCACAGAGTTGG-1</th>\n",
       "      <td>1742</td>\n",
       "      <td>4208.0</td>\n",
       "      <td>1043.0</td>\n",
       "      <td>17.726036</td>\n",
       "      <td>633.0</td>\n",
       "      <td>10.757988</td>\n",
       "      <td>1742</td>\n",
       "      <td>4208.0</td>\n",
       "      <td>CD14 monocyte</td>\n",
       "      <td>1:183472216.0-203626832.0 (CN 0);2:85394753.0-...</td>\n",
       "    </tr>\n",
       "    <tr>\n",
       "      <th>AAACCCACAGGTATGG-1</th>\n",
       "      <td>2122</td>\n",
       "      <td>4354.0</td>\n",
       "      <td>742.0</td>\n",
       "      <td>13.417721</td>\n",
       "      <td>434.0</td>\n",
       "      <td>7.848101</td>\n",
       "      <td>2122</td>\n",
       "      <td>4354.0</td>\n",
       "      <td>NK cell</td>\n",
       "      <td>2:85394753.0-98619106.0 (CN +)</td>\n",
       "    </tr>\n",
       "    <tr>\n",
       "      <th>AAACCCACATAGTCAC-1</th>\n",
       "      <td>1521</td>\n",
       "      <td>2819.0</td>\n",
       "      <td>1734.0</td>\n",
       "      <td>33.960049</td>\n",
       "      <td>553.0</td>\n",
       "      <td>10.830396</td>\n",
       "      <td>1521</td>\n",
       "      <td>2819.0</td>\n",
       "      <td>B cell</td>\n",
       "      <td>1:183472216.0-203626832.0 (CN 0);2:85394753.0-...</td>\n",
       "    </tr>\n",
       "  </tbody>\n",
       "</table>\n",
       "</div>"
      ],
      "text/plain": [
       "                    n_genes_by_counts  total_counts  total_counts_ribo  \\\n",
       "AAACCCAAGCGCCCAT-1               1005        1760.0              392.0   \n",
       "AAACCCAAGGTTCCGC-1               4101       14240.0             4526.0   \n",
       "AAACCCACAGAGTTGG-1               1742        4208.0             1043.0   \n",
       "AAACCCACAGGTATGG-1               2122        4354.0              742.0   \n",
       "AAACCCACATAGTCAC-1               1521        2819.0             1734.0   \n",
       "\n",
       "                    pct_counts_ribo  total_counts_mt  pct_counts_mt  n_genes  \\\n",
       "AAACCCAAGCGCCCAT-1        17.785845             52.0       2.359347     1005   \n",
       "AAACCCAAGGTTCCGC-1        22.528622           1324.0       6.590343     4101   \n",
       "AAACCCACAGAGTTGG-1        17.726036            633.0      10.757988     1742   \n",
       "AAACCCACAGGTATGG-1        13.417721            434.0       7.848101     2122   \n",
       "AAACCCACATAGTCAC-1        33.960049            553.0      10.830396     1521   \n",
       "\n",
       "                    n_counts      cell_type  \\\n",
       "AAACCCAAGCGCCCAT-1    1760.0     CD4 T cell   \n",
       "AAACCCAAGGTTCCGC-1   14240.0      Dendritic   \n",
       "AAACCCACAGAGTTGG-1    4208.0  CD14 monocyte   \n",
       "AAACCCACAGGTATGG-1    4354.0        NK cell   \n",
       "AAACCCACATAGTCAC-1    2819.0         B cell   \n",
       "\n",
       "                                                       simulated_cnvs  \n",
       "AAACCCAAGCGCCCAT-1                   1:183472216.0-203626832.0 (CN 0)  \n",
       "AAACCCAAGGTTCCGC-1  1:183472216.0-203626832.0 (CN 0);2:85394753.0-...  \n",
       "AAACCCACAGAGTTGG-1  1:183472216.0-203626832.0 (CN 0);2:85394753.0-...  \n",
       "AAACCCACAGGTATGG-1                     2:85394753.0-98619106.0 (CN +)  \n",
       "AAACCCACATAGTCAC-1  1:183472216.0-203626832.0 (CN 0);2:85394753.0-...  "
      ]
     },
     "metadata": {},
     "output_type": "display_data"
    }
   ],
   "source": [
    "display(adata_sim.obs.head())"
   ]
  },
  {
   "cell_type": "code",
   "execution_count": 7,
   "id": "2c2e2bf5-a90f-40bc-b304-7dd2cb572863",
   "metadata": {},
   "outputs": [],
   "source": [
    "y_true = (adata_sim.obs['simulated_cnvs'].notna()) & (adata_sim.obs['simulated_cnvs'] != '')"
   ]
  },
  {
   "cell_type": "code",
   "execution_count": 8,
   "id": "fb749fa2-426f-4777-80e1-b2afe95c236a",
   "metadata": {},
   "outputs": [
    {
     "name": "stdout",
     "output_type": "stream",
     "text": [
      "simulated_cnvs\n",
      "True     10038\n",
      "False      271\n",
      "Name: count, dtype: int64\n"
     ]
    }
   ],
   "source": [
    "print(y_true.value_counts())"
   ]
  },
  {
   "cell_type": "code",
   "execution_count": 9,
   "id": "637086d5-a9df-4c67-9e02-74a8f57fca35",
   "metadata": {},
   "outputs": [
    {
     "name": "stderr",
     "output_type": "stream",
     "text": [
      "WARNING:root:Skipped 411 genes because they don't have a genomic position annotated. \n",
      "/opt/anaconda3/lib/python3.12/site-packages/scanpy/preprocessing/_normalization.py:208: UserWarning: Received a view of an AnnData. Making a copy.\n",
      "  view_to_actual(adata)\n"
     ]
    },
    {
     "ename": "AxisError",
     "evalue": "axis 1 is out of bounds for array of dimension 1",
     "output_type": "error",
     "traceback": [
      "\u001b[0;31m---------------------------------------------------------------------------\u001b[0m",
      "\u001b[0;31mAxisError\u001b[0m                                 Traceback (most recent call last)",
      "Cell \u001b[0;32mIn[9], line 1\u001b[0m\n\u001b[0;32m----> 1\u001b[0m ad_def0 \u001b[38;5;241m=\u001b[39m cna\u001b[38;5;241m.\u001b[39mfind_cnas(\n\u001b[1;32m      2\u001b[0m     adata_sim\u001b[38;5;241m.\u001b[39mcopy(),\n\u001b[1;32m      3\u001b[0m     reference_key\u001b[38;5;241m=\u001b[39m\u001b[38;5;124m'\u001b[39m\u001b[38;5;124mcell_type\u001b[39m\u001b[38;5;124m'\u001b[39m,\n\u001b[1;32m      4\u001b[0m     reference_cat\u001b[38;5;241m=\u001b[39m[\n\u001b[1;32m      5\u001b[0m         \u001b[38;5;124m'\u001b[39m\u001b[38;5;124mCD4 T cell\u001b[39m\u001b[38;5;124m'\u001b[39m,\u001b[38;5;124m'\u001b[39m\u001b[38;5;124mCD14 monocyte\u001b[39m\u001b[38;5;124m'\u001b[39m,\u001b[38;5;124m'\u001b[39m\u001b[38;5;124mB cell\u001b[39m\u001b[38;5;124m'\u001b[39m,\u001b[38;5;124m'\u001b[39m\u001b[38;5;124mCD8 T cell\u001b[39m\u001b[38;5;124m'\u001b[39m,\n\u001b[1;32m      6\u001b[0m         \u001b[38;5;124m'\u001b[39m\u001b[38;5;124mNK cell\u001b[39m\u001b[38;5;124m'\u001b[39m,\u001b[38;5;124m'\u001b[39m\u001b[38;5;124mFCGR3A monocyte\u001b[39m\u001b[38;5;124m'\u001b[39m,\u001b[38;5;124m'\u001b[39m\u001b[38;5;124mDendritic\u001b[39m\u001b[38;5;124m'\u001b[39m,\u001b[38;5;124m'\u001b[39m\u001b[38;5;124mMegakaryocyte\u001b[39m\u001b[38;5;124m'\u001b[39m\n\u001b[1;32m      7\u001b[0m     ],\n\u001b[1;32m      8\u001b[0m     threshold\u001b[38;5;241m=\u001b[39m\u001b[38;5;241m5\u001b[39m,\n\u001b[1;32m      9\u001b[0m     min_cells\u001b[38;5;241m=\u001b[39m\u001b[38;5;241m20\u001b[39m,\n\u001b[1;32m     10\u001b[0m     window_size\u001b[38;5;241m=\u001b[39m\u001b[38;5;241m100\u001b[39m\n\u001b[1;32m     11\u001b[0m )\n",
      "File \u001b[0;32m/opt/anaconda3/lib/python3.12/site-packages/scCNA/CNAfinder.py:89\u001b[0m, in \u001b[0;36mfind_cnas\u001b[0;34m(adata, min_cells, threshold, window_size, exclude_chromosomes, reference_key, reference_cat, reference)\u001b[0m\n\u001b[1;32m     86\u001b[0m     \u001b[38;5;28;01mcontinue\u001b[39;00m\n\u001b[1;32m     88\u001b[0m window_expr \u001b[38;5;241m=\u001b[39m np\u001b[38;5;241m.\u001b[39mmean(expr_subset[:, start:end], axis\u001b[38;5;241m=\u001b[39m\u001b[38;5;241m1\u001b[39m)\n\u001b[0;32m---> 89\u001b[0m reference_window_expr \u001b[38;5;241m=\u001b[39m np\u001b[38;5;241m.\u001b[39mmean(reference[i, idx\u001b[38;5;241m.\u001b[39mvalues], axis\u001b[38;5;241m=\u001b[39m\u001b[38;5;241m1\u001b[39m)\n\u001b[1;32m     91\u001b[0m \u001b[38;5;66;03m# Step 2: Compute fold-change relative to reference (this will identify relative expression levels)\u001b[39;00m\n\u001b[1;32m     92\u001b[0m fold_change \u001b[38;5;241m=\u001b[39m window_expr \u001b[38;5;241m/\u001b[39m reference_window_expr  \u001b[38;5;66;03m# Calculate fold change against reference\u001b[39;00m\n",
      "File \u001b[0;32m/opt/anaconda3/lib/python3.12/site-packages/numpy/core/fromnumeric.py:3504\u001b[0m, in \u001b[0;36mmean\u001b[0;34m(a, axis, dtype, out, keepdims, where)\u001b[0m\n\u001b[1;32m   3501\u001b[0m     \u001b[38;5;28;01melse\u001b[39;00m:\n\u001b[1;32m   3502\u001b[0m         \u001b[38;5;28;01mreturn\u001b[39;00m mean(axis\u001b[38;5;241m=\u001b[39maxis, dtype\u001b[38;5;241m=\u001b[39mdtype, out\u001b[38;5;241m=\u001b[39mout, \u001b[38;5;241m*\u001b[39m\u001b[38;5;241m*\u001b[39mkwargs)\n\u001b[0;32m-> 3504\u001b[0m \u001b[38;5;28;01mreturn\u001b[39;00m _methods\u001b[38;5;241m.\u001b[39m_mean(a, axis\u001b[38;5;241m=\u001b[39maxis, dtype\u001b[38;5;241m=\u001b[39mdtype,\n\u001b[1;32m   3505\u001b[0m                       out\u001b[38;5;241m=\u001b[39mout, \u001b[38;5;241m*\u001b[39m\u001b[38;5;241m*\u001b[39mkwargs)\n",
      "File \u001b[0;32m/opt/anaconda3/lib/python3.12/site-packages/numpy/core/_methods.py:106\u001b[0m, in \u001b[0;36m_mean\u001b[0;34m(a, axis, dtype, out, keepdims, where)\u001b[0m\n\u001b[1;32m    102\u001b[0m arr \u001b[38;5;241m=\u001b[39m asanyarray(a)\n\u001b[1;32m    104\u001b[0m is_float16_result \u001b[38;5;241m=\u001b[39m \u001b[38;5;28;01mFalse\u001b[39;00m\n\u001b[0;32m--> 106\u001b[0m rcount \u001b[38;5;241m=\u001b[39m _count_reduce_items(arr, axis, keepdims\u001b[38;5;241m=\u001b[39mkeepdims, where\u001b[38;5;241m=\u001b[39mwhere)\n\u001b[1;32m    107\u001b[0m \u001b[38;5;28;01mif\u001b[39;00m rcount \u001b[38;5;241m==\u001b[39m \u001b[38;5;241m0\u001b[39m \u001b[38;5;28;01mif\u001b[39;00m where \u001b[38;5;129;01mis\u001b[39;00m \u001b[38;5;28;01mTrue\u001b[39;00m \u001b[38;5;28;01melse\u001b[39;00m umr_any(rcount \u001b[38;5;241m==\u001b[39m \u001b[38;5;241m0\u001b[39m, axis\u001b[38;5;241m=\u001b[39m\u001b[38;5;28;01mNone\u001b[39;00m):\n\u001b[1;32m    108\u001b[0m     warnings\u001b[38;5;241m.\u001b[39mwarn(\u001b[38;5;124m\"\u001b[39m\u001b[38;5;124mMean of empty slice.\u001b[39m\u001b[38;5;124m\"\u001b[39m, \u001b[38;5;167;01mRuntimeWarning\u001b[39;00m, stacklevel\u001b[38;5;241m=\u001b[39m\u001b[38;5;241m2\u001b[39m)\n",
      "File \u001b[0;32m/opt/anaconda3/lib/python3.12/site-packages/numpy/core/_methods.py:77\u001b[0m, in \u001b[0;36m_count_reduce_items\u001b[0;34m(arr, axis, keepdims, where)\u001b[0m\n\u001b[1;32m     75\u001b[0m     items \u001b[38;5;241m=\u001b[39m \u001b[38;5;241m1\u001b[39m\n\u001b[1;32m     76\u001b[0m     \u001b[38;5;28;01mfor\u001b[39;00m ax \u001b[38;5;129;01min\u001b[39;00m axis:\n\u001b[0;32m---> 77\u001b[0m         items \u001b[38;5;241m*\u001b[39m\u001b[38;5;241m=\u001b[39m arr\u001b[38;5;241m.\u001b[39mshape[mu\u001b[38;5;241m.\u001b[39mnormalize_axis_index(ax, arr\u001b[38;5;241m.\u001b[39mndim)]\n\u001b[1;32m     78\u001b[0m     items \u001b[38;5;241m=\u001b[39m nt\u001b[38;5;241m.\u001b[39mintp(items)\n\u001b[1;32m     79\u001b[0m \u001b[38;5;28;01melse\u001b[39;00m:\n\u001b[1;32m     80\u001b[0m     \u001b[38;5;66;03m# TODO: Optimize case when `where` is broadcast along a non-reduction\u001b[39;00m\n\u001b[1;32m     81\u001b[0m     \u001b[38;5;66;03m# axis and full sum is more excessive than needed.\u001b[39;00m\n\u001b[1;32m     82\u001b[0m \n\u001b[1;32m     83\u001b[0m     \u001b[38;5;66;03m# guarded to protect circular imports\u001b[39;00m\n",
      "\u001b[0;31mAxisError\u001b[0m: axis 1 is out of bounds for array of dimension 1"
     ]
    }
   ],
   "source": [
    "ad_def0 = cna.find_cnas(\n",
    "    adata_sim.copy(),\n",
    "    reference_key='cell_type',\n",
    "    reference_cat=[\n",
    "        'CD4 T cell','CD14 monocyte','B cell','CD8 T cell',\n",
    "        'NK cell','FCGR3A monocyte','Dendritic','Megakaryocyte'\n",
    "    ],\n",
    "    threshold=5,\n",
    "    min_cells=20,\n",
    "    window_size=100\n",
    ")"
   ]
  },
  {
   "cell_type": "code",
   "execution_count": 13,
   "id": "16d7029f-0920-47a8-a3f9-9808f5177851",
   "metadata": {},
   "outputs": [
    {
     "name": "stderr",
     "output_type": "stream",
     "text": [
      "WARNING:root:Skipped 411 genes because they don't have a genomic position annotated. \n",
      "/opt/anaconda3/lib/python3.12/site-packages/scanpy/preprocessing/_normalization.py:208: UserWarning: Received a view of an AnnData. Making a copy.\n",
      "  view_to_actual(adata)\n"
     ]
    }
   ],
   "source": [
    "ad_def = cna.find_cnas(\n",
    "    adata.copy(),\n",
    "    reference_key='cell_type',\n",
    "    reference_cat=[\n",
    "        'CD4 T cell','CD14 monocyte','B cell','CD8 T cell',\n",
    "        'NK cell','FCGR3A monocyte','Dendritic','Megakaryocyte'\n",
    "    ],\n",
    "    threshold=5,\n",
    "    min_cells=20,\n",
    "    window_size=100\n",
    ")"
   ]
  },
  {
   "cell_type": "code",
   "execution_count": 14,
   "id": "58cde001-0c5a-4218-806e-51c2ab98abe2",
   "metadata": {},
   "outputs": [
    {
     "ename": "NameError",
     "evalue": "name 'ad_sim' is not defined",
     "output_type": "error",
     "traceback": [
      "\u001b[0;31m---------------------------------------------------------------------------\u001b[0m",
      "\u001b[0;31mNameError\u001b[0m                                 Traceback (most recent call last)",
      "Cell \u001b[0;32mIn[14], line 1\u001b[0m\n\u001b[0;32m----> 1\u001b[0m y_true \u001b[38;5;241m=\u001b[39m (ad_sim\u001b[38;5;241m.\u001b[39mobs[\u001b[38;5;124m'\u001b[39m\u001b[38;5;124msimulated_cnvs\u001b[39m\u001b[38;5;124m'\u001b[39m]\u001b[38;5;241m.\u001b[39mnotna()) \u001b[38;5;241m&\u001b[39m (ad_sim\u001b[38;5;241m.\u001b[39mobs[\u001b[38;5;124m'\u001b[39m\u001b[38;5;124msimulated_cnvs\u001b[39m\u001b[38;5;124m'\u001b[39m] \u001b[38;5;241m!=\u001b[39m \u001b[38;5;124m'\u001b[39m\u001b[38;5;124m'\u001b[39m)\n\u001b[1;32m      2\u001b[0m \u001b[38;5;66;03m#y_pred = (ad_def.obs['detect_CNA'].notna()) & (ad_def.obs['detect_CNA'] != '')\u001b[39;00m\n\u001b[1;32m      3\u001b[0m y_pred \u001b[38;5;241m=\u001b[39m ad_def\u001b[38;5;241m.\u001b[39mobs[\u001b[38;5;124m'\u001b[39m\u001b[38;5;124mdetect_CNA\u001b[39m\u001b[38;5;124m'\u001b[39m]\u001b[38;5;241m.\u001b[39mapply(\u001b[38;5;28;01mlambda\u001b[39;00m x: x \u001b[38;5;241m!=\u001b[39m \u001b[38;5;124m'\u001b[39m\u001b[38;5;124mnone\u001b[39m\u001b[38;5;124m'\u001b[39m \u001b[38;5;129;01mand\u001b[39;00m \u001b[38;5;28misinstance\u001b[39m(x, \u001b[38;5;28mstr\u001b[39m))\n",
      "\u001b[0;31mNameError\u001b[0m: name 'ad_sim' is not defined"
     ]
    }
   ],
   "source": [
    "y_true = (ad_sim.obs['simulated_cnvs'].notna()) & (ad_sim.obs['simulated_cnvs'] != '')\n",
    "#y_pred = (ad_def.obs['detect_CNA'].notna()) & (ad_def.obs['detect_CNA'] != '')\n",
    "y_pred = ad_def.obs['detect_CNA'].apply(lambda x: x != 'none' and isinstance(x, str))\n",
    "\n",
    "print(\"=== Cell-level Binary Classification Metrics ===\")\n",
    "print(\"Accuracy :\", accuracy_score(y_true, y_pred))\n",
    "print(\"Precision:\", precision_score(y_true, y_pred))\n",
    "print(\"Recall   :\", recall_score(y_true, y_pred))\n",
    "print(\"F1 Score :\", f1_score(y_true, y_pred))\n",
    "print(\"PR-AUC   :\", average_precision_score(y_true, y_pred))"
   ]
  },
  {
   "cell_type": "code",
   "execution_count": null,
   "id": "2dcfec10-2784-49ad-a196-371427c3567f",
   "metadata": {},
   "outputs": [],
   "source": []
  }
 ],
 "metadata": {
  "kernelspec": {
   "display_name": "Python 3 (ipykernel)",
   "language": "python",
   "name": "python3"
  },
  "language_info": {
   "codemirror_mode": {
    "name": "ipython",
    "version": 3
   },
   "file_extension": ".py",
   "mimetype": "text/x-python",
   "name": "python",
   "nbconvert_exporter": "python",
   "pygments_lexer": "ipython3",
   "version": "3.12.2"
  }
 },
 "nbformat": 4,
 "nbformat_minor": 5
}
