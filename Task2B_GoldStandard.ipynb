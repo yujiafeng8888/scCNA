{
  "cells": [
    {
      "cell_type": "code",
      "execution_count": 1,
      "id": "b7f210ad-ca45-41d5-9ea6-45ed3bbeb567",
      "metadata": {
        "colab": {
          "base_uri": "https://localhost:8080/"
        },
        "id": "b7f210ad-ca45-41d5-9ea6-45ed3bbeb567",
        "outputId": "e948d455-4dc4-43fa-da14-2531e9c3f33d"
      },
      "outputs": [
        {
          "output_type": "stream",
          "name": "stdout",
          "text": [
            "fatal: destination path 'scCNA' already exists and is not an empty directory.\n",
            "/content/scCNA\n",
            "Processing /content/scCNA\n",
            "  Preparing metadata (setup.py) ... \u001b[?25l\u001b[?25hdone\n",
            "Requirement already satisfied: pandas in /usr/local/lib/python3.11/dist-packages (from scCNA==0.1) (2.2.2)\n",
            "Requirement already satisfied: numpy in /usr/local/lib/python3.11/dist-packages (from scCNA==0.1) (2.0.2)\n",
            "Requirement already satisfied: scanpy in /usr/local/lib/python3.11/dist-packages (from scCNA==0.1) (1.11.1)\n",
            "Requirement already satisfied: seaborn in /usr/local/lib/python3.11/dist-packages (from scCNA==0.1) (0.13.2)\n",
            "Requirement already satisfied: matplotlib in /usr/local/lib/python3.11/dist-packages (from scCNA==0.1) (3.10.0)\n",
            "Requirement already satisfied: anndata in /usr/local/lib/python3.11/dist-packages (from scCNA==0.1) (0.11.4)\n",
            "Requirement already satisfied: typing-extensions in /usr/local/lib/python3.11/dist-packages (from scCNA==0.1) (4.13.2)\n",
            "Requirement already satisfied: array-api-compat!=1.5,>1.4 in /usr/local/lib/python3.11/dist-packages (from anndata->scCNA==0.1) (1.11.2)\n",
            "Requirement already satisfied: h5py>=3.7 in /usr/local/lib/python3.11/dist-packages (from anndata->scCNA==0.1) (3.13.0)\n",
            "Requirement already satisfied: natsort in /usr/local/lib/python3.11/dist-packages (from anndata->scCNA==0.1) (8.4.0)\n",
            "Requirement already satisfied: packaging>=24.2 in /usr/local/lib/python3.11/dist-packages (from anndata->scCNA==0.1) (24.2)\n",
            "Requirement already satisfied: scipy>1.8 in /usr/local/lib/python3.11/dist-packages (from anndata->scCNA==0.1) (1.15.2)\n",
            "Requirement already satisfied: python-dateutil>=2.8.2 in /usr/local/lib/python3.11/dist-packages (from pandas->scCNA==0.1) (2.9.0.post0)\n",
            "Requirement already satisfied: pytz>=2020.1 in /usr/local/lib/python3.11/dist-packages (from pandas->scCNA==0.1) (2025.2)\n",
            "Requirement already satisfied: tzdata>=2022.7 in /usr/local/lib/python3.11/dist-packages (from pandas->scCNA==0.1) (2025.2)\n",
            "Requirement already satisfied: contourpy>=1.0.1 in /usr/local/lib/python3.11/dist-packages (from matplotlib->scCNA==0.1) (1.3.2)\n",
            "Requirement already satisfied: cycler>=0.10 in /usr/local/lib/python3.11/dist-packages (from matplotlib->scCNA==0.1) (0.12.1)\n",
            "Requirement already satisfied: fonttools>=4.22.0 in /usr/local/lib/python3.11/dist-packages (from matplotlib->scCNA==0.1) (4.57.0)\n",
            "Requirement already satisfied: kiwisolver>=1.3.1 in /usr/local/lib/python3.11/dist-packages (from matplotlib->scCNA==0.1) (1.4.8)\n",
            "Requirement already satisfied: pillow>=8 in /usr/local/lib/python3.11/dist-packages (from matplotlib->scCNA==0.1) (11.2.1)\n",
            "Requirement already satisfied: pyparsing>=2.3.1 in /usr/local/lib/python3.11/dist-packages (from matplotlib->scCNA==0.1) (3.2.3)\n",
            "Requirement already satisfied: joblib in /usr/local/lib/python3.11/dist-packages (from scanpy->scCNA==0.1) (1.4.2)\n",
            "Requirement already satisfied: legacy-api-wrap>=1.4 in /usr/local/lib/python3.11/dist-packages (from scanpy->scCNA==0.1) (1.4.1)\n",
            "Requirement already satisfied: networkx>=2.7 in /usr/local/lib/python3.11/dist-packages (from scanpy->scCNA==0.1) (3.4.2)\n",
            "Requirement already satisfied: numba>=0.57 in /usr/local/lib/python3.11/dist-packages (from scanpy->scCNA==0.1) (0.60.0)\n",
            "Requirement already satisfied: patsy!=1.0.0 in /usr/local/lib/python3.11/dist-packages (from scanpy->scCNA==0.1) (1.0.1)\n",
            "Requirement already satisfied: pynndescent>=0.5 in /usr/local/lib/python3.11/dist-packages (from scanpy->scCNA==0.1) (0.5.13)\n",
            "Requirement already satisfied: scikit-learn<1.6.0,>=1.1 in /usr/local/lib/python3.11/dist-packages (from scanpy->scCNA==0.1) (1.5.2)\n",
            "Requirement already satisfied: session-info2 in /usr/local/lib/python3.11/dist-packages (from scanpy->scCNA==0.1) (0.1.2)\n",
            "Requirement already satisfied: statsmodels>=0.13 in /usr/local/lib/python3.11/dist-packages (from scanpy->scCNA==0.1) (0.14.4)\n",
            "Requirement already satisfied: tqdm in /usr/local/lib/python3.11/dist-packages (from scanpy->scCNA==0.1) (4.67.1)\n",
            "Requirement already satisfied: umap-learn!=0.5.0,>=0.5 in /usr/local/lib/python3.11/dist-packages (from scanpy->scCNA==0.1) (0.5.7)\n",
            "Requirement already satisfied: llvmlite<0.44,>=0.43.0dev0 in /usr/local/lib/python3.11/dist-packages (from numba>=0.57->scanpy->scCNA==0.1) (0.43.0)\n",
            "Requirement already satisfied: six>=1.5 in /usr/local/lib/python3.11/dist-packages (from python-dateutil>=2.8.2->pandas->scCNA==0.1) (1.17.0)\n",
            "Requirement already satisfied: threadpoolctl>=3.1.0 in /usr/local/lib/python3.11/dist-packages (from scikit-learn<1.6.0,>=1.1->scanpy->scCNA==0.1) (3.6.0)\n",
            "Building wheels for collected packages: scCNA\n",
            "  Building wheel for scCNA (setup.py) ... \u001b[?25l\u001b[?25hdone\n",
            "  Created wheel for scCNA: filename=scCNA-0.1-py3-none-any.whl size=5948 sha256=b9607474bc4552e4ebecb0c258c4d70c029b815c18c4ed9e063f4b40df3af278\n",
            "  Stored in directory: /tmp/pip-ephem-wheel-cache-960nsau_/wheels/25/cc/c5/ae548f3a909d160258148b54a2721305eb2d68474f5650137d\n",
            "Successfully built scCNA\n",
            "Installing collected packages: scCNA\n",
            "  Attempting uninstall: scCNA\n",
            "    Found existing installation: scCNA 0.1\n",
            "    Uninstalling scCNA-0.1:\n",
            "      Successfully uninstalled scCNA-0.1\n",
            "Successfully installed scCNA-0.1\n"
          ]
        }
      ],
      "source": [
        "!git clone https://github.com/yujiafeng8888/scCNA.git\n",
        "%cd scCNA\n",
        "!pip install ."
      ]
    },
    {
      "cell_type": "code",
      "execution_count": 2,
      "id": "31d03af6-3001-4338-a999-535cdc1d32ea",
      "metadata": {
        "colab": {
          "base_uri": "https://localhost:8080/"
        },
        "id": "31d03af6-3001-4338-a999-535cdc1d32ea",
        "outputId": "915a13b0-972f-4529-999a-964b9ce27839"
      },
      "outputs": [
        {
          "output_type": "stream",
          "name": "stdout",
          "text": [
            "Requirement already satisfied: scanpy in /usr/local/lib/python3.11/dist-packages (1.11.1)\n",
            "Requirement already satisfied: anndata>=0.8 in /usr/local/lib/python3.11/dist-packages (from scanpy) (0.11.4)\n",
            "Requirement already satisfied: h5py>=3.7 in /usr/local/lib/python3.11/dist-packages (from scanpy) (3.13.0)\n",
            "Requirement already satisfied: joblib in /usr/local/lib/python3.11/dist-packages (from scanpy) (1.4.2)\n",
            "Requirement already satisfied: legacy-api-wrap>=1.4 in /usr/local/lib/python3.11/dist-packages (from scanpy) (1.4.1)\n",
            "Requirement already satisfied: matplotlib>=3.7 in /usr/local/lib/python3.11/dist-packages (from scanpy) (3.10.0)\n",
            "Requirement already satisfied: natsort in /usr/local/lib/python3.11/dist-packages (from scanpy) (8.4.0)\n",
            "Requirement already satisfied: networkx>=2.7 in /usr/local/lib/python3.11/dist-packages (from scanpy) (3.4.2)\n",
            "Requirement already satisfied: numba>=0.57 in /usr/local/lib/python3.11/dist-packages (from scanpy) (0.60.0)\n",
            "Requirement already satisfied: numpy>=1.24 in /usr/local/lib/python3.11/dist-packages (from scanpy) (2.0.2)\n",
            "Requirement already satisfied: packaging>=21.3 in /usr/local/lib/python3.11/dist-packages (from scanpy) (24.2)\n",
            "Requirement already satisfied: pandas>=1.5 in /usr/local/lib/python3.11/dist-packages (from scanpy) (2.2.2)\n",
            "Requirement already satisfied: patsy!=1.0.0 in /usr/local/lib/python3.11/dist-packages (from scanpy) (1.0.1)\n",
            "Requirement already satisfied: pynndescent>=0.5 in /usr/local/lib/python3.11/dist-packages (from scanpy) (0.5.13)\n",
            "Requirement already satisfied: scikit-learn<1.6.0,>=1.1 in /usr/local/lib/python3.11/dist-packages (from scanpy) (1.5.2)\n",
            "Requirement already satisfied: scipy>=1.8 in /usr/local/lib/python3.11/dist-packages (from scanpy) (1.15.2)\n",
            "Requirement already satisfied: seaborn>=0.13 in /usr/local/lib/python3.11/dist-packages (from scanpy) (0.13.2)\n",
            "Requirement already satisfied: session-info2 in /usr/local/lib/python3.11/dist-packages (from scanpy) (0.1.2)\n",
            "Requirement already satisfied: statsmodels>=0.13 in /usr/local/lib/python3.11/dist-packages (from scanpy) (0.14.4)\n",
            "Requirement already satisfied: tqdm in /usr/local/lib/python3.11/dist-packages (from scanpy) (4.67.1)\n",
            "Requirement already satisfied: typing-extensions in /usr/local/lib/python3.11/dist-packages (from scanpy) (4.13.2)\n",
            "Requirement already satisfied: umap-learn!=0.5.0,>=0.5 in /usr/local/lib/python3.11/dist-packages (from scanpy) (0.5.7)\n",
            "Requirement already satisfied: array-api-compat!=1.5,>1.4 in /usr/local/lib/python3.11/dist-packages (from anndata>=0.8->scanpy) (1.11.2)\n",
            "Requirement already satisfied: contourpy>=1.0.1 in /usr/local/lib/python3.11/dist-packages (from matplotlib>=3.7->scanpy) (1.3.2)\n",
            "Requirement already satisfied: cycler>=0.10 in /usr/local/lib/python3.11/dist-packages (from matplotlib>=3.7->scanpy) (0.12.1)\n",
            "Requirement already satisfied: fonttools>=4.22.0 in /usr/local/lib/python3.11/dist-packages (from matplotlib>=3.7->scanpy) (4.57.0)\n",
            "Requirement already satisfied: kiwisolver>=1.3.1 in /usr/local/lib/python3.11/dist-packages (from matplotlib>=3.7->scanpy) (1.4.8)\n",
            "Requirement already satisfied: pillow>=8 in /usr/local/lib/python3.11/dist-packages (from matplotlib>=3.7->scanpy) (11.2.1)\n",
            "Requirement already satisfied: pyparsing>=2.3.1 in /usr/local/lib/python3.11/dist-packages (from matplotlib>=3.7->scanpy) (3.2.3)\n",
            "Requirement already satisfied: python-dateutil>=2.7 in /usr/local/lib/python3.11/dist-packages (from matplotlib>=3.7->scanpy) (2.9.0.post0)\n",
            "Requirement already satisfied: llvmlite<0.44,>=0.43.0dev0 in /usr/local/lib/python3.11/dist-packages (from numba>=0.57->scanpy) (0.43.0)\n",
            "Requirement already satisfied: pytz>=2020.1 in /usr/local/lib/python3.11/dist-packages (from pandas>=1.5->scanpy) (2025.2)\n",
            "Requirement already satisfied: tzdata>=2022.7 in /usr/local/lib/python3.11/dist-packages (from pandas>=1.5->scanpy) (2025.2)\n",
            "Requirement already satisfied: threadpoolctl>=3.1.0 in /usr/local/lib/python3.11/dist-packages (from scikit-learn<1.6.0,>=1.1->scanpy) (3.6.0)\n",
            "Requirement already satisfied: six>=1.5 in /usr/local/lib/python3.11/dist-packages (from python-dateutil>=2.7->matplotlib>=3.7->scanpy) (1.17.0)\n"
          ]
        }
      ],
      "source": [
        "!pip install scanpy"
      ]
    },
    {
      "cell_type": "code",
      "execution_count": 3,
      "id": "f1a12fd4-3142-4f6e-aa1f-1de83ff761f9",
      "metadata": {
        "id": "f1a12fd4-3142-4f6e-aa1f-1de83ff761f9"
      },
      "outputs": [],
      "source": [
        "import scanpy as sc\n",
        "import scCNA as cna\n",
        "import numpy as np\n",
        "import random\n",
        "import matplotlib.pyplot as plt\n",
        "from sklearn.metrics import accuracy_score, precision_score, recall_score, f1_score, average_precision_score"
      ]
    },
    {
      "cell_type": "code",
      "execution_count": 4,
      "id": "657d3eb3-1360-4c55-bb39-e8794d73f0f0",
      "metadata": {
        "colab": {
          "base_uri": "https://localhost:8080/"
        },
        "id": "657d3eb3-1360-4c55-bb39-e8794d73f0f0",
        "outputId": "2ed847cd-d83d-4781-8483-915371acd37b"
      },
      "outputs": [
        {
          "output_type": "stream",
          "name": "stdout",
          "text": [
            "Mounted at /content/drive\n"
          ]
        }
      ],
      "source": [
        "from google.colab import drive\n",
        "\n",
        "drive.mount('/content/drive', force_remount=True)\n",
        "adata = sc.read_h5ad(\"/content/drive/MyDrive/PBMC_simulated_cnas_041025.h5ad\")"
      ]
    },
    {
      "cell_type": "code",
      "execution_count": 9,
      "id": "c74aa9cf-dc03-4255-a750-fc223bfc8750",
      "metadata": {
        "id": "c74aa9cf-dc03-4255-a750-fc223bfc8750"
      },
      "outputs": [],
      "source": [
        "def simulate_cnas_windowed(\n",
        "    adata,\n",
        "    window_size=100,\n",
        "    cna_types=(\"gain\", \"loss\", \"homo_del\"),\n",
        "    frequencies=(0.2, 0.5, 0.9),\n",
        "    chroms=(\"1\", \"2\", \"3\"),\n",
        "    cell_key=\"cell_type\"\n",
        "):\n",
        "    \"\"\"\n",
        "    Simulate CNAs in expression matrix by modifying expression of genomic windows.\n",
        "    Writes `simulated_cnvs` to adata.obs (overwrites if exists).\n",
        "\n",
        "    Parameters:\n",
        "    - adata: AnnData object\n",
        "    - window_size: number of genes per simulated CNA window\n",
        "    - cna_types: list of CNA types to simulate\n",
        "    - frequencies: list of cell-level frequencies for each simulated CNA\n",
        "    - chroms: chromosomes to simulate CNAs on\n",
        "    \"\"\"\n",
        "    if \"simulated_cnvs\" not in adata.obs.columns:\n",
        "        adata.obs[\"simulated_cnvs\"] = \"\"\n",
        "    else:\n",
        "        adata.obs[\"simulated_cnvs\"] = \"\"\n",
        "\n",
        "    if not isinstance(adata.X, np.ndarray):\n",
        "        X = adata.X.toarray()\n",
        "    else:\n",
        "        X = adata.X\n",
        "\n",
        "    var = adata.var\n",
        "    simulated_log = []\n",
        "\n",
        "    for chrom in chroms:\n",
        "        genes_chr = var[var[\"chromosome\"] == chrom]\n",
        "        gene_indices = genes_chr.index.to_numpy()\n",
        "\n",
        "        if len(gene_indices) < window_size:\n",
        "            continue\n",
        "\n",
        "        start_idx = random.randint(0, len(gene_indices) - window_size)\n",
        "        window_genes = gene_indices[start_idx:start_idx + window_size]\n",
        "        window_starts = var.loc[window_genes, \"start\"]\n",
        "        region_start = window_starts.min()\n",
        "        region_end = window_starts.max()\n",
        "\n",
        "        # Choose CNA type and frequency\n",
        "        cna_type = random.choice(cna_types)\n",
        "        freq = random.choice(frequencies)\n",
        "        n_cells = int(len(adata) * freq)\n",
        "        selected_cells = np.random.choice(adata.obs_names, n_cells, replace=False)\n",
        "\n",
        "        # Apply effect\n",
        "        for cell in selected_cells:\n",
        "            idx = adata.obs_names.get_loc(cell)\n",
        "            if cna_type == \"gain\":\n",
        "                X[idx, adata.var_names.isin(window_genes)] *= 1.5\n",
        "            elif cna_type == \"loss\":\n",
        "                X[idx, adata.var_names.isin(window_genes)] *= 0.5\n",
        "            elif cna_type == \"homo_del\":\n",
        "                X[idx, adata.var_names.isin(window_genes)] = 0\n",
        "\n",
        "            region_str = f\"{chrom}:{region_start}-{region_end} (CN {0 if cna_type == 'homo_del' else ('+' if cna_type == 'gain' else '-')})\"\n",
        "            if adata.obs.at[cell, \"simulated_cnvs\"] == \"\":\n",
        "                adata.obs.at[cell, \"simulated_cnvs\"] = region_str\n",
        "            else:\n",
        "                adata.obs.at[cell, \"simulated_cnvs\"] += f\";{region_str}\"\n",
        "\n",
        "        simulated_log.append((chrom, region_start, region_end, cna_type, freq))\n",
        "\n",
        "    adata.X = X\n",
        "    return adata, simulated_log\n"
      ]
    },
    {
      "cell_type": "code",
      "source": [
        "print(dir(cna))"
      ],
      "metadata": {
        "colab": {
          "base_uri": "https://localhost:8080/"
        },
        "id": "iK6Xme3BDP-3",
        "outputId": "d01786e7-8af7-4c4f-8465-7ae3d7ab5487"
      },
      "id": "iK6Xme3BDP-3",
      "execution_count": 5,
      "outputs": [
        {
          "output_type": "stream",
          "name": "stdout",
          "text": [
            "['CNAfinder', '__builtins__', '__cached__', '__doc__', '__file__', '__loader__', '__name__', '__package__', '__path__', '__spec__', '__version__', 'annotate_gene_position', 'find_cnas', 'utils']\n"
          ]
        }
      ]
    },
    {
      "cell_type": "code",
      "source": [
        "adata_sim = cna.simulate_cnas_windowed(\n",
        "    adata.copy(),\n",
        "    window_size=100,\n",
        "    cna_types=[\"gain\", \"loss\", \"homo_del\"],\n",
        "    frequencies=[0.2, 0.5, 0.9],\n",
        "    chroms=[\"1\", \"2\", \"3\"]\n",
        ")"
      ],
      "metadata": {
        "colab": {
          "base_uri": "https://localhost:8080/",
          "height": 211
        },
        "id": "juOHRR-7NY9V",
        "outputId": "f6bc546b-6454-4cb3-f85d-53a3b5ead0e5"
      },
      "id": "juOHRR-7NY9V",
      "execution_count": 6,
      "outputs": [
        {
          "output_type": "error",
          "ename": "AttributeError",
          "evalue": "module 'scCNA' has no attribute 'simulate_cnas_windowed'",
          "traceback": [
            "\u001b[0;31m---------------------------------------------------------------------------\u001b[0m",
            "\u001b[0;31mAttributeError\u001b[0m                            Traceback (most recent call last)",
            "\u001b[0;32m<ipython-input-6-059f21b9ec68>\u001b[0m in \u001b[0;36m<cell line: 0>\u001b[0;34m()\u001b[0m\n\u001b[0;32m----> 1\u001b[0;31m adata_sim = cna.simulate_cnas_windowed(\n\u001b[0m\u001b[1;32m      2\u001b[0m     \u001b[0madata\u001b[0m\u001b[0;34m.\u001b[0m\u001b[0mcopy\u001b[0m\u001b[0;34m(\u001b[0m\u001b[0;34m)\u001b[0m\u001b[0;34m,\u001b[0m\u001b[0;34m\u001b[0m\u001b[0;34m\u001b[0m\u001b[0m\n\u001b[1;32m      3\u001b[0m     \u001b[0mwindow_size\u001b[0m\u001b[0;34m=\u001b[0m\u001b[0;36m100\u001b[0m\u001b[0;34m,\u001b[0m\u001b[0;34m\u001b[0m\u001b[0;34m\u001b[0m\u001b[0m\n\u001b[1;32m      4\u001b[0m     \u001b[0mcna_types\u001b[0m\u001b[0;34m=\u001b[0m\u001b[0;34m[\u001b[0m\u001b[0;34m\"gain\"\u001b[0m\u001b[0;34m,\u001b[0m \u001b[0;34m\"loss\"\u001b[0m\u001b[0;34m,\u001b[0m \u001b[0;34m\"homo_del\"\u001b[0m\u001b[0;34m]\u001b[0m\u001b[0;34m,\u001b[0m\u001b[0;34m\u001b[0m\u001b[0;34m\u001b[0m\u001b[0m\n\u001b[1;32m      5\u001b[0m     \u001b[0mfrequencies\u001b[0m\u001b[0;34m=\u001b[0m\u001b[0;34m[\u001b[0m\u001b[0;36m0.2\u001b[0m\u001b[0;34m,\u001b[0m \u001b[0;36m0.5\u001b[0m\u001b[0;34m,\u001b[0m \u001b[0;36m0.9\u001b[0m\u001b[0;34m]\u001b[0m\u001b[0;34m,\u001b[0m\u001b[0;34m\u001b[0m\u001b[0;34m\u001b[0m\u001b[0m\n",
            "\u001b[0;31mAttributeError\u001b[0m: module 'scCNA' has no attribute 'simulate_cnas_windowed'"
          ]
        }
      ]
    },
    {
      "cell_type": "code",
      "execution_count": 10,
      "id": "fb9f7dcb-61ca-43d5-b6bb-c1d08e392b86",
      "metadata": {
        "id": "fb9f7dcb-61ca-43d5-b6bb-c1d08e392b86"
      },
      "outputs": [],
      "source": [
        "adata_sim, log = simulate_cnas_windowed(\n",
        "    adata.copy(),\n",
        "    window_size=100,\n",
        "    cna_types=[\"gain\", \"loss\", \"homo_del\"],\n",
        "    frequencies=[0.2, 0.5, 0.9],\n",
        "    chroms=[\"1\", \"2\", \"3\"]\n",
        ")"
      ]
    },
    {
      "cell_type": "code",
      "execution_count": 11,
      "id": "3a54db29-d5de-4d93-a929-9bb9d4a3db70",
      "metadata": {
        "colab": {
          "base_uri": "https://localhost:8080/",
          "height": 399
        },
        "id": "3a54db29-d5de-4d93-a929-9bb9d4a3db70",
        "outputId": "1029d75a-a86a-4caf-ced0-64a2509f695e"
      },
      "outputs": [
        {
          "output_type": "display_data",
          "data": {
            "text/plain": [
              "                    n_genes_by_counts  total_counts  total_counts_ribo  \\\n",
              "AAACCCAAGCGCCCAT-1               1005        1760.0              392.0   \n",
              "AAACCCAAGGTTCCGC-1               4101       14240.0             4526.0   \n",
              "AAACCCACAGAGTTGG-1               1742        4208.0             1043.0   \n",
              "AAACCCACAGGTATGG-1               2122        4354.0              742.0   \n",
              "AAACCCACATAGTCAC-1               1521        2819.0             1734.0   \n",
              "\n",
              "                    pct_counts_ribo  total_counts_mt  pct_counts_mt  n_genes  \\\n",
              "AAACCCAAGCGCCCAT-1        17.785845             52.0       2.359347     1005   \n",
              "AAACCCAAGGTTCCGC-1        22.528622           1324.0       6.590343     4101   \n",
              "AAACCCACAGAGTTGG-1        17.726036            633.0      10.757988     1742   \n",
              "AAACCCACAGGTATGG-1        13.417721            434.0       7.848101     2122   \n",
              "AAACCCACATAGTCAC-1        33.960049            553.0      10.830396     1521   \n",
              "\n",
              "                    n_counts      cell_type  \\\n",
              "AAACCCAAGCGCCCAT-1    1760.0     CD4 T cell   \n",
              "AAACCCAAGGTTCCGC-1   14240.0      Dendritic   \n",
              "AAACCCACAGAGTTGG-1    4208.0  CD14 monocyte   \n",
              "AAACCCACAGGTATGG-1    4354.0        NK cell   \n",
              "AAACCCACATAGTCAC-1    2819.0         B cell   \n",
              "\n",
              "                                                       simulated_cnvs  \n",
              "AAACCCAAGCGCCCAT-1  1:214603185.0-229440259.0 (CN +);2:196151263.0...  \n",
              "AAACCCAAGGTTCCGC-1  1:214603185.0-229440259.0 (CN +);2:196151263.0...  \n",
              "AAACCCACAGAGTTGG-1  2:196151263.0-210030572.0 (CN -);3:99817837.0-...  \n",
              "AAACCCACAGGTATGG-1  1:214603185.0-229440259.0 (CN +);2:196151263.0...  \n",
              "AAACCCACATAGTCAC-1  1:214603185.0-229440259.0 (CN +);2:196151263.0...  "
            ],
            "text/html": [
              "\n",
              "  <div id=\"df-65e08a0a-41bd-4f40-9f54-c70d00cd05db\" class=\"colab-df-container\">\n",
              "    <div>\n",
              "<style scoped>\n",
              "    .dataframe tbody tr th:only-of-type {\n",
              "        vertical-align: middle;\n",
              "    }\n",
              "\n",
              "    .dataframe tbody tr th {\n",
              "        vertical-align: top;\n",
              "    }\n",
              "\n",
              "    .dataframe thead th {\n",
              "        text-align: right;\n",
              "    }\n",
              "</style>\n",
              "<table border=\"1\" class=\"dataframe\">\n",
              "  <thead>\n",
              "    <tr style=\"text-align: right;\">\n",
              "      <th></th>\n",
              "      <th>n_genes_by_counts</th>\n",
              "      <th>total_counts</th>\n",
              "      <th>total_counts_ribo</th>\n",
              "      <th>pct_counts_ribo</th>\n",
              "      <th>total_counts_mt</th>\n",
              "      <th>pct_counts_mt</th>\n",
              "      <th>n_genes</th>\n",
              "      <th>n_counts</th>\n",
              "      <th>cell_type</th>\n",
              "      <th>simulated_cnvs</th>\n",
              "    </tr>\n",
              "  </thead>\n",
              "  <tbody>\n",
              "    <tr>\n",
              "      <th>AAACCCAAGCGCCCAT-1</th>\n",
              "      <td>1005</td>\n",
              "      <td>1760.0</td>\n",
              "      <td>392.0</td>\n",
              "      <td>17.785845</td>\n",
              "      <td>52.0</td>\n",
              "      <td>2.359347</td>\n",
              "      <td>1005</td>\n",
              "      <td>1760.0</td>\n",
              "      <td>CD4 T cell</td>\n",
              "      <td>1:214603185.0-229440259.0 (CN +);2:196151263.0...</td>\n",
              "    </tr>\n",
              "    <tr>\n",
              "      <th>AAACCCAAGGTTCCGC-1</th>\n",
              "      <td>4101</td>\n",
              "      <td>14240.0</td>\n",
              "      <td>4526.0</td>\n",
              "      <td>22.528622</td>\n",
              "      <td>1324.0</td>\n",
              "      <td>6.590343</td>\n",
              "      <td>4101</td>\n",
              "      <td>14240.0</td>\n",
              "      <td>Dendritic</td>\n",
              "      <td>1:214603185.0-229440259.0 (CN +);2:196151263.0...</td>\n",
              "    </tr>\n",
              "    <tr>\n",
              "      <th>AAACCCACAGAGTTGG-1</th>\n",
              "      <td>1742</td>\n",
              "      <td>4208.0</td>\n",
              "      <td>1043.0</td>\n",
              "      <td>17.726036</td>\n",
              "      <td>633.0</td>\n",
              "      <td>10.757988</td>\n",
              "      <td>1742</td>\n",
              "      <td>4208.0</td>\n",
              "      <td>CD14 monocyte</td>\n",
              "      <td>2:196151263.0-210030572.0 (CN -);3:99817837.0-...</td>\n",
              "    </tr>\n",
              "    <tr>\n",
              "      <th>AAACCCACAGGTATGG-1</th>\n",
              "      <td>2122</td>\n",
              "      <td>4354.0</td>\n",
              "      <td>742.0</td>\n",
              "      <td>13.417721</td>\n",
              "      <td>434.0</td>\n",
              "      <td>7.848101</td>\n",
              "      <td>2122</td>\n",
              "      <td>4354.0</td>\n",
              "      <td>NK cell</td>\n",
              "      <td>1:214603185.0-229440259.0 (CN +);2:196151263.0...</td>\n",
              "    </tr>\n",
              "    <tr>\n",
              "      <th>AAACCCACATAGTCAC-1</th>\n",
              "      <td>1521</td>\n",
              "      <td>2819.0</td>\n",
              "      <td>1734.0</td>\n",
              "      <td>33.960049</td>\n",
              "      <td>553.0</td>\n",
              "      <td>10.830396</td>\n",
              "      <td>1521</td>\n",
              "      <td>2819.0</td>\n",
              "      <td>B cell</td>\n",
              "      <td>1:214603185.0-229440259.0 (CN +);2:196151263.0...</td>\n",
              "    </tr>\n",
              "  </tbody>\n",
              "</table>\n",
              "</div>\n",
              "    <div class=\"colab-df-buttons\">\n",
              "\n",
              "  <div class=\"colab-df-container\">\n",
              "    <button class=\"colab-df-convert\" onclick=\"convertToInteractive('df-65e08a0a-41bd-4f40-9f54-c70d00cd05db')\"\n",
              "            title=\"Convert this dataframe to an interactive table.\"\n",
              "            style=\"display:none;\">\n",
              "\n",
              "  <svg xmlns=\"http://www.w3.org/2000/svg\" height=\"24px\" viewBox=\"0 -960 960 960\">\n",
              "    <path d=\"M120-120v-720h720v720H120Zm60-500h600v-160H180v160Zm220 220h160v-160H400v160Zm0 220h160v-160H400v160ZM180-400h160v-160H180v160Zm440 0h160v-160H620v160ZM180-180h160v-160H180v160Zm440 0h160v-160H620v160Z\"/>\n",
              "  </svg>\n",
              "    </button>\n",
              "\n",
              "  <style>\n",
              "    .colab-df-container {\n",
              "      display:flex;\n",
              "      gap: 12px;\n",
              "    }\n",
              "\n",
              "    .colab-df-convert {\n",
              "      background-color: #E8F0FE;\n",
              "      border: none;\n",
              "      border-radius: 50%;\n",
              "      cursor: pointer;\n",
              "      display: none;\n",
              "      fill: #1967D2;\n",
              "      height: 32px;\n",
              "      padding: 0 0 0 0;\n",
              "      width: 32px;\n",
              "    }\n",
              "\n",
              "    .colab-df-convert:hover {\n",
              "      background-color: #E2EBFA;\n",
              "      box-shadow: 0px 1px 2px rgba(60, 64, 67, 0.3), 0px 1px 3px 1px rgba(60, 64, 67, 0.15);\n",
              "      fill: #174EA6;\n",
              "    }\n",
              "\n",
              "    .colab-df-buttons div {\n",
              "      margin-bottom: 4px;\n",
              "    }\n",
              "\n",
              "    [theme=dark] .colab-df-convert {\n",
              "      background-color: #3B4455;\n",
              "      fill: #D2E3FC;\n",
              "    }\n",
              "\n",
              "    [theme=dark] .colab-df-convert:hover {\n",
              "      background-color: #434B5C;\n",
              "      box-shadow: 0px 1px 3px 1px rgba(0, 0, 0, 0.15);\n",
              "      filter: drop-shadow(0px 1px 2px rgba(0, 0, 0, 0.3));\n",
              "      fill: #FFFFFF;\n",
              "    }\n",
              "  </style>\n",
              "\n",
              "    <script>\n",
              "      const buttonEl =\n",
              "        document.querySelector('#df-65e08a0a-41bd-4f40-9f54-c70d00cd05db button.colab-df-convert');\n",
              "      buttonEl.style.display =\n",
              "        google.colab.kernel.accessAllowed ? 'block' : 'none';\n",
              "\n",
              "      async function convertToInteractive(key) {\n",
              "        const element = document.querySelector('#df-65e08a0a-41bd-4f40-9f54-c70d00cd05db');\n",
              "        const dataTable =\n",
              "          await google.colab.kernel.invokeFunction('convertToInteractive',\n",
              "                                                    [key], {});\n",
              "        if (!dataTable) return;\n",
              "\n",
              "        const docLinkHtml = 'Like what you see? Visit the ' +\n",
              "          '<a target=\"_blank\" href=https://colab.research.google.com/notebooks/data_table.ipynb>data table notebook</a>'\n",
              "          + ' to learn more about interactive tables.';\n",
              "        element.innerHTML = '';\n",
              "        dataTable['output_type'] = 'display_data';\n",
              "        await google.colab.output.renderOutput(dataTable, element);\n",
              "        const docLink = document.createElement('div');\n",
              "        docLink.innerHTML = docLinkHtml;\n",
              "        element.appendChild(docLink);\n",
              "      }\n",
              "    </script>\n",
              "  </div>\n",
              "\n",
              "\n",
              "    <div id=\"df-41f1d882-1a5b-4e97-95cf-2411639db8b8\">\n",
              "      <button class=\"colab-df-quickchart\" onclick=\"quickchart('df-41f1d882-1a5b-4e97-95cf-2411639db8b8')\"\n",
              "                title=\"Suggest charts\"\n",
              "                style=\"display:none;\">\n",
              "\n",
              "<svg xmlns=\"http://www.w3.org/2000/svg\" height=\"24px\"viewBox=\"0 0 24 24\"\n",
              "     width=\"24px\">\n",
              "    <g>\n",
              "        <path d=\"M19 3H5c-1.1 0-2 .9-2 2v14c0 1.1.9 2 2 2h14c1.1 0 2-.9 2-2V5c0-1.1-.9-2-2-2zM9 17H7v-7h2v7zm4 0h-2V7h2v10zm4 0h-2v-4h2v4z\"/>\n",
              "    </g>\n",
              "</svg>\n",
              "      </button>\n",
              "\n",
              "<style>\n",
              "  .colab-df-quickchart {\n",
              "      --bg-color: #E8F0FE;\n",
              "      --fill-color: #1967D2;\n",
              "      --hover-bg-color: #E2EBFA;\n",
              "      --hover-fill-color: #174EA6;\n",
              "      --disabled-fill-color: #AAA;\n",
              "      --disabled-bg-color: #DDD;\n",
              "  }\n",
              "\n",
              "  [theme=dark] .colab-df-quickchart {\n",
              "      --bg-color: #3B4455;\n",
              "      --fill-color: #D2E3FC;\n",
              "      --hover-bg-color: #434B5C;\n",
              "      --hover-fill-color: #FFFFFF;\n",
              "      --disabled-bg-color: #3B4455;\n",
              "      --disabled-fill-color: #666;\n",
              "  }\n",
              "\n",
              "  .colab-df-quickchart {\n",
              "    background-color: var(--bg-color);\n",
              "    border: none;\n",
              "    border-radius: 50%;\n",
              "    cursor: pointer;\n",
              "    display: none;\n",
              "    fill: var(--fill-color);\n",
              "    height: 32px;\n",
              "    padding: 0;\n",
              "    width: 32px;\n",
              "  }\n",
              "\n",
              "  .colab-df-quickchart:hover {\n",
              "    background-color: var(--hover-bg-color);\n",
              "    box-shadow: 0 1px 2px rgba(60, 64, 67, 0.3), 0 1px 3px 1px rgba(60, 64, 67, 0.15);\n",
              "    fill: var(--button-hover-fill-color);\n",
              "  }\n",
              "\n",
              "  .colab-df-quickchart-complete:disabled,\n",
              "  .colab-df-quickchart-complete:disabled:hover {\n",
              "    background-color: var(--disabled-bg-color);\n",
              "    fill: var(--disabled-fill-color);\n",
              "    box-shadow: none;\n",
              "  }\n",
              "\n",
              "  .colab-df-spinner {\n",
              "    border: 2px solid var(--fill-color);\n",
              "    border-color: transparent;\n",
              "    border-bottom-color: var(--fill-color);\n",
              "    animation:\n",
              "      spin 1s steps(1) infinite;\n",
              "  }\n",
              "\n",
              "  @keyframes spin {\n",
              "    0% {\n",
              "      border-color: transparent;\n",
              "      border-bottom-color: var(--fill-color);\n",
              "      border-left-color: var(--fill-color);\n",
              "    }\n",
              "    20% {\n",
              "      border-color: transparent;\n",
              "      border-left-color: var(--fill-color);\n",
              "      border-top-color: var(--fill-color);\n",
              "    }\n",
              "    30% {\n",
              "      border-color: transparent;\n",
              "      border-left-color: var(--fill-color);\n",
              "      border-top-color: var(--fill-color);\n",
              "      border-right-color: var(--fill-color);\n",
              "    }\n",
              "    40% {\n",
              "      border-color: transparent;\n",
              "      border-right-color: var(--fill-color);\n",
              "      border-top-color: var(--fill-color);\n",
              "    }\n",
              "    60% {\n",
              "      border-color: transparent;\n",
              "      border-right-color: var(--fill-color);\n",
              "    }\n",
              "    80% {\n",
              "      border-color: transparent;\n",
              "      border-right-color: var(--fill-color);\n",
              "      border-bottom-color: var(--fill-color);\n",
              "    }\n",
              "    90% {\n",
              "      border-color: transparent;\n",
              "      border-bottom-color: var(--fill-color);\n",
              "    }\n",
              "  }\n",
              "</style>\n",
              "\n",
              "      <script>\n",
              "        async function quickchart(key) {\n",
              "          const quickchartButtonEl =\n",
              "            document.querySelector('#' + key + ' button');\n",
              "          quickchartButtonEl.disabled = true;  // To prevent multiple clicks.\n",
              "          quickchartButtonEl.classList.add('colab-df-spinner');\n",
              "          try {\n",
              "            const charts = await google.colab.kernel.invokeFunction(\n",
              "                'suggestCharts', [key], {});\n",
              "          } catch (error) {\n",
              "            console.error('Error during call to suggestCharts:', error);\n",
              "          }\n",
              "          quickchartButtonEl.classList.remove('colab-df-spinner');\n",
              "          quickchartButtonEl.classList.add('colab-df-quickchart-complete');\n",
              "        }\n",
              "        (() => {\n",
              "          let quickchartButtonEl =\n",
              "            document.querySelector('#df-41f1d882-1a5b-4e97-95cf-2411639db8b8 button');\n",
              "          quickchartButtonEl.style.display =\n",
              "            google.colab.kernel.accessAllowed ? 'block' : 'none';\n",
              "        })();\n",
              "      </script>\n",
              "    </div>\n",
              "\n",
              "    </div>\n",
              "  </div>\n"
            ],
            "application/vnd.google.colaboratory.intrinsic+json": {
              "type": "dataframe",
              "summary": "{\n  \"name\": \"display(adata_sim\",\n  \"rows\": 5,\n  \"fields\": [\n    {\n      \"column\": \"n_genes_by_counts\",\n      \"properties\": {\n        \"dtype\": \"int32\",\n        \"num_unique_values\": 5,\n        \"samples\": [\n          4101,\n          1521,\n          1742\n        ],\n        \"semantic_type\": \"\",\n        \"description\": \"\"\n      }\n    },\n    {\n      \"column\": \"total_counts\",\n      \"properties\": {\n        \"dtype\": \"float32\",\n        \"num_unique_values\": 5,\n        \"samples\": [\n          14240.0,\n          2819.0,\n          4208.0\n        ],\n        \"semantic_type\": \"\",\n        \"description\": \"\"\n      }\n    },\n    {\n      \"column\": \"total_counts_ribo\",\n      \"properties\": {\n        \"dtype\": \"float32\",\n        \"num_unique_values\": 5,\n        \"samples\": [\n          4526.0,\n          1734.0,\n          1043.0\n        ],\n        \"semantic_type\": \"\",\n        \"description\": \"\"\n      }\n    },\n    {\n      \"column\": \"pct_counts_ribo\",\n      \"properties\": {\n        \"dtype\": \"float32\",\n        \"num_unique_values\": 5,\n        \"samples\": [\n          22.528621673583984,\n          33.96004867553711,\n          17.726036071777344\n        ],\n        \"semantic_type\": \"\",\n        \"description\": \"\"\n      }\n    },\n    {\n      \"column\": \"total_counts_mt\",\n      \"properties\": {\n        \"dtype\": \"float32\",\n        \"num_unique_values\": 5,\n        \"samples\": [\n          1324.0,\n          553.0,\n          633.0\n        ],\n        \"semantic_type\": \"\",\n        \"description\": \"\"\n      }\n    },\n    {\n      \"column\": \"pct_counts_mt\",\n      \"properties\": {\n        \"dtype\": \"float32\",\n        \"num_unique_values\": 5,\n        \"samples\": [\n          6.590343475341797,\n          10.830395698547363,\n          10.757987976074219\n        ],\n        \"semantic_type\": \"\",\n        \"description\": \"\"\n      }\n    },\n    {\n      \"column\": \"n_genes\",\n      \"properties\": {\n        \"dtype\": \"number\",\n        \"std\": 1190,\n        \"min\": 1005,\n        \"max\": 4101,\n        \"num_unique_values\": 5,\n        \"samples\": [\n          4101,\n          1521,\n          1742\n        ],\n        \"semantic_type\": \"\",\n        \"description\": \"\"\n      }\n    },\n    {\n      \"column\": \"n_counts\",\n      \"properties\": {\n        \"dtype\": \"float32\",\n        \"num_unique_values\": 5,\n        \"samples\": [\n          14240.0,\n          2819.0,\n          4208.0\n        ],\n        \"semantic_type\": \"\",\n        \"description\": \"\"\n      }\n    },\n    {\n      \"column\": \"cell_type\",\n      \"properties\": {\n        \"dtype\": \"category\",\n        \"num_unique_values\": 5,\n        \"samples\": [\n          \"Dendritic\",\n          \"B cell\",\n          \"CD14 monocyte\"\n        ],\n        \"semantic_type\": \"\",\n        \"description\": \"\"\n      }\n    },\n    {\n      \"column\": \"simulated_cnvs\",\n      \"properties\": {\n        \"dtype\": \"string\",\n        \"num_unique_values\": 3,\n        \"samples\": [\n          \"1:214603185.0-229440259.0 (CN +);2:196151263.0-210030572.0 (CN -);3:99817837.0-120324509.0 (CN 0)\",\n          \"1:214603185.0-229440259.0 (CN +);2:196151263.0-210030572.0 (CN -)\",\n          \"2:196151263.0-210030572.0 (CN -);3:99817837.0-120324509.0 (CN 0)\"\n        ],\n        \"semantic_type\": \"\",\n        \"description\": \"\"\n      }\n    }\n  ]\n}"
            }
          },
          "metadata": {}
        }
      ],
      "source": [
        "display(adata_sim.obs.head())"
      ]
    },
    {
      "cell_type": "code",
      "execution_count": 12,
      "id": "2c2e2bf5-a90f-40bc-b304-7dd2cb572863",
      "metadata": {
        "id": "2c2e2bf5-a90f-40bc-b304-7dd2cb572863"
      },
      "outputs": [],
      "source": [
        "y_true = (adata_sim.obs['simulated_cnvs'].notna()) & (adata_sim.obs['simulated_cnvs'] != '')"
      ]
    },
    {
      "cell_type": "code",
      "execution_count": 13,
      "id": "fb749fa2-426f-4777-80e1-b2afe95c236a",
      "metadata": {
        "colab": {
          "base_uri": "https://localhost:8080/"
        },
        "id": "fb749fa2-426f-4777-80e1-b2afe95c236a",
        "outputId": "507fe95a-f536-42da-e029-3e4a4aec0b78"
      },
      "outputs": [
        {
          "output_type": "stream",
          "name": "stdout",
          "text": [
            "simulated_cnvs\n",
            "True     10047\n",
            "False      262\n",
            "Name: count, dtype: int64\n"
          ]
        }
      ],
      "source": [
        "print(y_true.value_counts())"
      ]
    },
    {
      "cell_type": "code",
      "execution_count": 7,
      "id": "16d7029f-0920-47a8-a3f9-9808f5177851",
      "metadata": {
        "colab": {
          "base_uri": "https://localhost:8080/",
          "height": 428
        },
        "id": "16d7029f-0920-47a8-a3f9-9808f5177851",
        "outputId": "2072851a-db38-477d-c717-ac7d78f5d1d6"
      },
      "outputs": [
        {
          "output_type": "stream",
          "name": "stderr",
          "text": [
            "WARNING:root:Skipped 411 genes because they don't have a genomic position annotated. \n",
            "/usr/local/lib/python3.11/dist-packages/scanpy/preprocessing/_normalization.py:216: UserWarning: Received a view of an AnnData. Making a copy.\n",
            "  view_to_actual(adata)\n"
          ]
        },
        {
          "output_type": "error",
          "ename": "KeyboardInterrupt",
          "evalue": "",
          "traceback": [
            "\u001b[0;31m---------------------------------------------------------------------------\u001b[0m",
            "\u001b[0;31mKeyboardInterrupt\u001b[0m                         Traceback (most recent call last)",
            "\u001b[0;32m<ipython-input-7-e5b81c8f0df7>\u001b[0m in \u001b[0;36m<cell line: 0>\u001b[0;34m()\u001b[0m\n\u001b[0;32m----> 1\u001b[0;31m ad_def = cna.find_cnas(\n\u001b[0m\u001b[1;32m      2\u001b[0m     \u001b[0madata\u001b[0m\u001b[0;34m.\u001b[0m\u001b[0mcopy\u001b[0m\u001b[0;34m(\u001b[0m\u001b[0;34m)\u001b[0m\u001b[0;34m,\u001b[0m\u001b[0;34m\u001b[0m\u001b[0;34m\u001b[0m\u001b[0m\n\u001b[1;32m      3\u001b[0m     \u001b[0mreference_key\u001b[0m\u001b[0;34m=\u001b[0m\u001b[0;34m'cell_type'\u001b[0m\u001b[0;34m,\u001b[0m\u001b[0;34m\u001b[0m\u001b[0;34m\u001b[0m\u001b[0m\n\u001b[1;32m      4\u001b[0m     reference_cat=[\n\u001b[1;32m      5\u001b[0m         \u001b[0;34m'CD4 T cell'\u001b[0m\u001b[0;34m,\u001b[0m\u001b[0;34m'CD14 monocyte'\u001b[0m\u001b[0;34m,\u001b[0m\u001b[0;34m'B cell'\u001b[0m\u001b[0;34m,\u001b[0m\u001b[0;34m'CD8 T cell'\u001b[0m\u001b[0;34m,\u001b[0m\u001b[0;34m\u001b[0m\u001b[0;34m\u001b[0m\u001b[0m\n",
            "\u001b[0;32m/usr/local/lib/python3.11/dist-packages/scCNA/CNAfinder.py\u001b[0m in \u001b[0;36mfind_cnas\u001b[0;34m(adata, min_cells, threshold, window_size, exclude_chromosomes, reference_key, reference_cat, reference)\u001b[0m\n\u001b[1;32m     73\u001b[0m             \u001b[0mgene_subset\u001b[0m \u001b[0;34m=\u001b[0m \u001b[0mgenes\u001b[0m\u001b[0;34m[\u001b[0m\u001b[0midx\u001b[0m\u001b[0;34m]\u001b[0m\u001b[0;34m\u001b[0m\u001b[0;34m\u001b[0m\u001b[0m\n\u001b[1;32m     74\u001b[0m             \u001b[0;31m# get selected_cells interger index\u001b[0m\u001b[0;34m\u001b[0m\u001b[0;34m\u001b[0m\u001b[0m\n\u001b[0;32m---> 75\u001b[0;31m             \u001b[0mselected_cell_indices\u001b[0m \u001b[0;34m=\u001b[0m \u001b[0mnp\u001b[0m\u001b[0;34m.\u001b[0m\u001b[0marray\u001b[0m\u001b[0;34m(\u001b[0m\u001b[0;34m[\u001b[0m\u001b[0mnp\u001b[0m\u001b[0;34m.\u001b[0m\u001b[0mwhere\u001b[0m\u001b[0;34m(\u001b[0m\u001b[0madata\u001b[0m\u001b[0;34m.\u001b[0m\u001b[0mobs_names\u001b[0m \u001b[0;34m==\u001b[0m \u001b[0mcell\u001b[0m\u001b[0;34m)\u001b[0m\u001b[0;34m[\u001b[0m\u001b[0;36m0\u001b[0m\u001b[0;34m]\u001b[0m\u001b[0;34m[\u001b[0m\u001b[0;36m0\u001b[0m\u001b[0;34m]\u001b[0m \u001b[0;32mfor\u001b[0m \u001b[0mcell\u001b[0m \u001b[0;32min\u001b[0m \u001b[0mselected_cells\u001b[0m\u001b[0;34m]\u001b[0m\u001b[0;34m)\u001b[0m\u001b[0;34m\u001b[0m\u001b[0;34m\u001b[0m\u001b[0m\n\u001b[0m\u001b[1;32m     76\u001b[0m \u001b[0;34m\u001b[0m\u001b[0m\n\u001b[1;32m     77\u001b[0m             \u001b[0;31m# Select gene expression data related to the current chromosome.\u001b[0m\u001b[0;34m\u001b[0m\u001b[0;34m\u001b[0m\u001b[0m\n",
            "\u001b[0;32m/usr/local/lib/python3.11/dist-packages/scCNA/CNAfinder.py\u001b[0m in \u001b[0;36m<listcomp>\u001b[0;34m(.0)\u001b[0m\n\u001b[1;32m     73\u001b[0m             \u001b[0mgene_subset\u001b[0m \u001b[0;34m=\u001b[0m \u001b[0mgenes\u001b[0m\u001b[0;34m[\u001b[0m\u001b[0midx\u001b[0m\u001b[0;34m]\u001b[0m\u001b[0;34m\u001b[0m\u001b[0;34m\u001b[0m\u001b[0m\n\u001b[1;32m     74\u001b[0m             \u001b[0;31m# get selected_cells interger index\u001b[0m\u001b[0;34m\u001b[0m\u001b[0;34m\u001b[0m\u001b[0m\n\u001b[0;32m---> 75\u001b[0;31m             \u001b[0mselected_cell_indices\u001b[0m \u001b[0;34m=\u001b[0m \u001b[0mnp\u001b[0m\u001b[0;34m.\u001b[0m\u001b[0marray\u001b[0m\u001b[0;34m(\u001b[0m\u001b[0;34m[\u001b[0m\u001b[0mnp\u001b[0m\u001b[0;34m.\u001b[0m\u001b[0mwhere\u001b[0m\u001b[0;34m(\u001b[0m\u001b[0madata\u001b[0m\u001b[0;34m.\u001b[0m\u001b[0mobs_names\u001b[0m \u001b[0;34m==\u001b[0m \u001b[0mcell\u001b[0m\u001b[0;34m)\u001b[0m\u001b[0;34m[\u001b[0m\u001b[0;36m0\u001b[0m\u001b[0;34m]\u001b[0m\u001b[0;34m[\u001b[0m\u001b[0;36m0\u001b[0m\u001b[0;34m]\u001b[0m \u001b[0;32mfor\u001b[0m \u001b[0mcell\u001b[0m \u001b[0;32min\u001b[0m \u001b[0mselected_cells\u001b[0m\u001b[0;34m]\u001b[0m\u001b[0;34m)\u001b[0m\u001b[0;34m\u001b[0m\u001b[0;34m\u001b[0m\u001b[0m\n\u001b[0m\u001b[1;32m     76\u001b[0m \u001b[0;34m\u001b[0m\u001b[0m\n\u001b[1;32m     77\u001b[0m             \u001b[0;31m# Select gene expression data related to the current chromosome.\u001b[0m\u001b[0;34m\u001b[0m\u001b[0;34m\u001b[0m\u001b[0m\n",
            "\u001b[0;32m/usr/local/lib/python3.11/dist-packages/pandas/core/ops/common.py\u001b[0m in \u001b[0;36mnew_method\u001b[0;34m(self, other)\u001b[0m\n\u001b[1;32m     74\u001b[0m         \u001b[0mother\u001b[0m \u001b[0;34m=\u001b[0m \u001b[0mitem_from_zerodim\u001b[0m\u001b[0;34m(\u001b[0m\u001b[0mother\u001b[0m\u001b[0;34m)\u001b[0m\u001b[0;34m\u001b[0m\u001b[0;34m\u001b[0m\u001b[0m\n\u001b[1;32m     75\u001b[0m \u001b[0;34m\u001b[0m\u001b[0m\n\u001b[0;32m---> 76\u001b[0;31m         \u001b[0;32mreturn\u001b[0m \u001b[0mmethod\u001b[0m\u001b[0;34m(\u001b[0m\u001b[0mself\u001b[0m\u001b[0;34m,\u001b[0m \u001b[0mother\u001b[0m\u001b[0;34m)\u001b[0m\u001b[0;34m\u001b[0m\u001b[0;34m\u001b[0m\u001b[0m\n\u001b[0m\u001b[1;32m     77\u001b[0m \u001b[0;34m\u001b[0m\u001b[0m\n\u001b[1;32m     78\u001b[0m     \u001b[0;32mreturn\u001b[0m \u001b[0mnew_method\u001b[0m\u001b[0;34m\u001b[0m\u001b[0;34m\u001b[0m\u001b[0m\n",
            "\u001b[0;32m/usr/local/lib/python3.11/dist-packages/pandas/core/arraylike.py\u001b[0m in \u001b[0;36m__eq__\u001b[0;34m(self, other)\u001b[0m\n\u001b[1;32m     38\u001b[0m     \u001b[0;34m@\u001b[0m\u001b[0munpack_zerodim_and_defer\u001b[0m\u001b[0;34m(\u001b[0m\u001b[0;34m\"__eq__\"\u001b[0m\u001b[0;34m)\u001b[0m\u001b[0;34m\u001b[0m\u001b[0;34m\u001b[0m\u001b[0m\n\u001b[1;32m     39\u001b[0m     \u001b[0;32mdef\u001b[0m \u001b[0m__eq__\u001b[0m\u001b[0;34m(\u001b[0m\u001b[0mself\u001b[0m\u001b[0;34m,\u001b[0m \u001b[0mother\u001b[0m\u001b[0;34m)\u001b[0m\u001b[0;34m:\u001b[0m\u001b[0;34m\u001b[0m\u001b[0;34m\u001b[0m\u001b[0m\n\u001b[0;32m---> 40\u001b[0;31m         \u001b[0;32mreturn\u001b[0m \u001b[0mself\u001b[0m\u001b[0;34m.\u001b[0m\u001b[0m_cmp_method\u001b[0m\u001b[0;34m(\u001b[0m\u001b[0mother\u001b[0m\u001b[0;34m,\u001b[0m \u001b[0moperator\u001b[0m\u001b[0;34m.\u001b[0m\u001b[0meq\u001b[0m\u001b[0;34m)\u001b[0m\u001b[0;34m\u001b[0m\u001b[0;34m\u001b[0m\u001b[0m\n\u001b[0m\u001b[1;32m     41\u001b[0m \u001b[0;34m\u001b[0m\u001b[0m\n\u001b[1;32m     42\u001b[0m     \u001b[0;34m@\u001b[0m\u001b[0munpack_zerodim_and_defer\u001b[0m\u001b[0;34m(\u001b[0m\u001b[0;34m\"__ne__\"\u001b[0m\u001b[0;34m)\u001b[0m\u001b[0;34m\u001b[0m\u001b[0;34m\u001b[0m\u001b[0m\n",
            "\u001b[0;32m/usr/local/lib/python3.11/dist-packages/pandas/core/indexes/base.py\u001b[0m in \u001b[0;36m_cmp_method\u001b[0;34m(self, other, op)\u001b[0m\n\u001b[1;32m   7199\u001b[0m         \u001b[0;32melif\u001b[0m \u001b[0mis_object_dtype\u001b[0m\u001b[0;34m(\u001b[0m\u001b[0mself\u001b[0m\u001b[0;34m.\u001b[0m\u001b[0mdtype\u001b[0m\u001b[0;34m)\u001b[0m \u001b[0;32mand\u001b[0m \u001b[0;32mnot\u001b[0m \u001b[0misinstance\u001b[0m\u001b[0;34m(\u001b[0m\u001b[0mself\u001b[0m\u001b[0;34m,\u001b[0m \u001b[0mABCMultiIndex\u001b[0m\u001b[0;34m)\u001b[0m\u001b[0;34m:\u001b[0m\u001b[0;34m\u001b[0m\u001b[0;34m\u001b[0m\u001b[0m\n\u001b[1;32m   7200\u001b[0m             \u001b[0;31m# don't pass MultiIndex\u001b[0m\u001b[0;34m\u001b[0m\u001b[0;34m\u001b[0m\u001b[0m\n\u001b[0;32m-> 7201\u001b[0;31m             \u001b[0mresult\u001b[0m \u001b[0;34m=\u001b[0m \u001b[0mops\u001b[0m\u001b[0;34m.\u001b[0m\u001b[0mcomp_method_OBJECT_ARRAY\u001b[0m\u001b[0;34m(\u001b[0m\u001b[0mop\u001b[0m\u001b[0;34m,\u001b[0m \u001b[0mself\u001b[0m\u001b[0;34m.\u001b[0m\u001b[0m_values\u001b[0m\u001b[0;34m,\u001b[0m \u001b[0mother\u001b[0m\u001b[0;34m)\u001b[0m\u001b[0;34m\u001b[0m\u001b[0;34m\u001b[0m\u001b[0m\n\u001b[0m\u001b[1;32m   7202\u001b[0m \u001b[0;34m\u001b[0m\u001b[0m\n\u001b[1;32m   7203\u001b[0m         \u001b[0;32melse\u001b[0m\u001b[0;34m:\u001b[0m\u001b[0;34m\u001b[0m\u001b[0;34m\u001b[0m\u001b[0m\n",
            "\u001b[0;32m/usr/local/lib/python3.11/dist-packages/pandas/core/ops/array_ops.py\u001b[0m in \u001b[0;36mcomp_method_OBJECT_ARRAY\u001b[0;34m(op, x, y)\u001b[0m\n\u001b[1;32m    127\u001b[0m         \u001b[0mresult\u001b[0m \u001b[0;34m=\u001b[0m \u001b[0mlibops\u001b[0m\u001b[0;34m.\u001b[0m\u001b[0mvec_compare\u001b[0m\u001b[0;34m(\u001b[0m\u001b[0mx\u001b[0m\u001b[0;34m.\u001b[0m\u001b[0mravel\u001b[0m\u001b[0;34m(\u001b[0m\u001b[0;34m)\u001b[0m\u001b[0;34m,\u001b[0m \u001b[0my\u001b[0m\u001b[0;34m.\u001b[0m\u001b[0mravel\u001b[0m\u001b[0;34m(\u001b[0m\u001b[0;34m)\u001b[0m\u001b[0;34m,\u001b[0m \u001b[0mop\u001b[0m\u001b[0;34m)\u001b[0m\u001b[0;34m\u001b[0m\u001b[0;34m\u001b[0m\u001b[0m\n\u001b[1;32m    128\u001b[0m     \u001b[0;32melse\u001b[0m\u001b[0;34m:\u001b[0m\u001b[0;34m\u001b[0m\u001b[0;34m\u001b[0m\u001b[0m\n\u001b[0;32m--> 129\u001b[0;31m         \u001b[0mresult\u001b[0m \u001b[0;34m=\u001b[0m \u001b[0mlibops\u001b[0m\u001b[0;34m.\u001b[0m\u001b[0mscalar_compare\u001b[0m\u001b[0;34m(\u001b[0m\u001b[0mx\u001b[0m\u001b[0;34m.\u001b[0m\u001b[0mravel\u001b[0m\u001b[0;34m(\u001b[0m\u001b[0;34m)\u001b[0m\u001b[0;34m,\u001b[0m \u001b[0my\u001b[0m\u001b[0;34m,\u001b[0m \u001b[0mop\u001b[0m\u001b[0;34m)\u001b[0m\u001b[0;34m\u001b[0m\u001b[0;34m\u001b[0m\u001b[0m\n\u001b[0m\u001b[1;32m    130\u001b[0m     \u001b[0;32mreturn\u001b[0m \u001b[0mresult\u001b[0m\u001b[0;34m.\u001b[0m\u001b[0mreshape\u001b[0m\u001b[0;34m(\u001b[0m\u001b[0mx\u001b[0m\u001b[0;34m.\u001b[0m\u001b[0mshape\u001b[0m\u001b[0;34m)\u001b[0m\u001b[0;34m\u001b[0m\u001b[0;34m\u001b[0m\u001b[0m\n\u001b[1;32m    131\u001b[0m \u001b[0;34m\u001b[0m\u001b[0m\n",
            "\u001b[0;31mKeyboardInterrupt\u001b[0m: "
          ]
        }
      ],
      "source": [
        "ad_def = cna.find_cnas(\n",
        "    adata.copy(),\n",
        "    reference_key='cell_type',\n",
        "    reference_cat=[\n",
        "        'CD4 T cell','CD14 monocyte','B cell','CD8 T cell',\n",
        "        'NK cell','FCGR3A monocyte','Dendritic','Megakaryocyte'\n",
        "    ],\n",
        "    threshold=5,\n",
        "    min_cells=20,\n",
        "    window_size=100\n",
        ")"
      ]
    },
    {
      "cell_type": "code",
      "execution_count": null,
      "id": "58cde001-0c5a-4218-806e-51c2ab98abe2",
      "metadata": {
        "id": "58cde001-0c5a-4218-806e-51c2ab98abe2",
        "outputId": "20d39622-e1db-462c-fb7b-8d63d89e9f4d"
      },
      "outputs": [
        {
          "ename": "NameError",
          "evalue": "name 'ad_sim' is not defined",
          "output_type": "error",
          "traceback": [
            "\u001b[0;31m---------------------------------------------------------------------------\u001b[0m",
            "\u001b[0;31mNameError\u001b[0m                                 Traceback (most recent call last)",
            "Cell \u001b[0;32mIn[14], line 1\u001b[0m\n\u001b[0;32m----> 1\u001b[0m y_true \u001b[38;5;241m=\u001b[39m (ad_sim\u001b[38;5;241m.\u001b[39mobs[\u001b[38;5;124m'\u001b[39m\u001b[38;5;124msimulated_cnvs\u001b[39m\u001b[38;5;124m'\u001b[39m]\u001b[38;5;241m.\u001b[39mnotna()) \u001b[38;5;241m&\u001b[39m (ad_sim\u001b[38;5;241m.\u001b[39mobs[\u001b[38;5;124m'\u001b[39m\u001b[38;5;124msimulated_cnvs\u001b[39m\u001b[38;5;124m'\u001b[39m] \u001b[38;5;241m!=\u001b[39m \u001b[38;5;124m'\u001b[39m\u001b[38;5;124m'\u001b[39m)\n\u001b[1;32m      2\u001b[0m \u001b[38;5;66;03m#y_pred = (ad_def.obs['detect_CNA'].notna()) & (ad_def.obs['detect_CNA'] != '')\u001b[39;00m\n\u001b[1;32m      3\u001b[0m y_pred \u001b[38;5;241m=\u001b[39m ad_def\u001b[38;5;241m.\u001b[39mobs[\u001b[38;5;124m'\u001b[39m\u001b[38;5;124mdetect_CNA\u001b[39m\u001b[38;5;124m'\u001b[39m]\u001b[38;5;241m.\u001b[39mapply(\u001b[38;5;28;01mlambda\u001b[39;00m x: x \u001b[38;5;241m!=\u001b[39m \u001b[38;5;124m'\u001b[39m\u001b[38;5;124mnone\u001b[39m\u001b[38;5;124m'\u001b[39m \u001b[38;5;129;01mand\u001b[39;00m \u001b[38;5;28misinstance\u001b[39m(x, \u001b[38;5;28mstr\u001b[39m))\n",
            "\u001b[0;31mNameError\u001b[0m: name 'ad_sim' is not defined"
          ]
        }
      ],
      "source": [
        "y_true = (adata_sim.obs['simulated_cnvs'].notna()) & (adata_sim.obs['simulated_cnvs'] != '')\n",
        "#y_pred = (ad_def.obs['detect_CNA'].notna()) & (ad_def.obs['detect_CNA'] != '')\n",
        "y_pred = ad_def.obs['detect_CNA'].apply(lambda x: x != 'none' and isinstance(x, str))\n",
        "\n",
        "print(\"=== Cell-level Binary Classification Metrics ===\")\n",
        "print(\"Accuracy :\", accuracy_score(y_true, y_pred))\n",
        "print(\"Precision:\", precision_score(y_true, y_pred))\n",
        "print(\"Recall   :\", recall_score(y_true, y_pred))\n",
        "print(\"F1 Score :\", f1_score(y_true, y_pred))\n",
        "print(\"PR-AUC   :\", average_precision_score(y_true, y_pred))"
      ]
    },
    {
      "cell_type": "code",
      "execution_count": null,
      "id": "2dcfec10-2784-49ad-a196-371427c3567f",
      "metadata": {
        "id": "2dcfec10-2784-49ad-a196-371427c3567f"
      },
      "outputs": [],
      "source": []
    }
  ],
  "metadata": {
    "kernelspec": {
      "display_name": "Python 3 (ipykernel)",
      "language": "python",
      "name": "python3"
    },
    "language_info": {
      "codemirror_mode": {
        "name": "ipython",
        "version": 3
      },
      "file_extension": ".py",
      "mimetype": "text/x-python",
      "name": "python",
      "nbconvert_exporter": "python",
      "pygments_lexer": "ipython3",
      "version": "3.12.2"
    },
    "colab": {
      "provenance": []
    }
  },
  "nbformat": 4,
  "nbformat_minor": 5
}