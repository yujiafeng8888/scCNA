{
  "nbformat": 4,
  "nbformat_minor": 0,
  "metadata": {
    "colab": {
      "provenance": []
    },
    "kernelspec": {
      "name": "python3",
      "display_name": "Python 3"
    },
    "language_info": {
      "name": "python"
    }
  },
  "cells": [
    {
      "cell_type": "markdown",
      "source": [
        "**By using InferCNV, we can get the total CNV number is 810, as the following output shows:**\n",
        "\n",
        "STEP 19: Filter HMM predicted CNVs based on the Bayesian Network Model results and BayesMaxPNormal\n",
        "\n",
        "INFO [2025-05-07 17:41:32] Attempting to removing CNV(s) with a probability of being normal above  0.5\n",
        "\n",
        "INFO [2025-05-07 17:41:32] Removing  1  CNV(s) identified by the HMM.\n",
        "\n",
        "INFO [2025-05-07 17:41:32] Total CNV's after removing:  810\n",
        "\n",
        "INFO [2025-05-07 17:41:32] Reassigning CNVs based on state probabilities.\n",
        "\n",
        "INFO [2025-05-07 17:41:32] Changing the following CNV's states assigned by the HMM to the following based on the CNV's state probabilities.\n",
        "\n",
        "**From Task2A_Assess_performance.ipynb and InferCNV.ipynb, we can get the true and false number as follows:**\n",
        "\n",
        "InferCNV\n",
        "\n",
        "False    9499\n",
        "\n",
        "True     810\n",
        "\n",
        "simulated_cnvs\n",
        "\n",
        "False    6312\n",
        "\n",
        "True     3997\n",
        "\n",
        "**Now I will compare the performance of our method to InferCNV**"
      ],
      "metadata": {
        "id": "SAdDpk9E5mJe"
      }
    },
    {
      "cell_type": "code",
      "execution_count": 1,
      "metadata": {
        "colab": {
          "base_uri": "https://localhost:8080/"
        },
        "id": "DAkVS3oJ5l19",
        "outputId": "623fb3e4-b999-4206-a8b2-945fe9a7e7ad"
      },
      "outputs": [
        {
          "output_type": "stream",
          "name": "stdout",
          "text": [
            "=== Cell-level Binary Classification Metrics ===\n",
            "Accuracy : 0.6858085168299544\n",
            "Precision: 0.9679012345679012\n",
            "Recall   : 0.19614711033274956\n",
            "F1 Score : 0.326190971499896\n",
            "PR-AUC   : 0.5015204453222016\n"
          ]
        }
      ],
      "source": [
        "from sklearn.metrics import accuracy_score, precision_score, recall_score, f1_score, average_precision_score\n",
        "\n",
        "TP = 784\n",
        "FP = 26\n",
        "FN = 3213\n",
        "TN = 6286\n",
        "\n",
        "y_true = [1]*TP + [1]*FN + [0]*FP + [0]*TN\n",
        "y_pred = [1]*TP + [0]*FN + [1]*FP + [0]*TN\n",
        "\n",
        "print(\"=== Cell-level Binary Classification Metrics ===\")\n",
        "print(\"Accuracy :\", accuracy_score(y_true, y_pred))\n",
        "print(\"Precision:\", precision_score(y_true, y_pred))\n",
        "print(\"Recall   :\", recall_score(y_true, y_pred))\n",
        "print(\"F1 Score :\", f1_score(y_true, y_pred))\n",
        "print(\"PR-AUC   :\", average_precision_score(y_true, y_pred))\n"
      ]
    },
    {
      "cell_type": "code",
      "source": [
        "import pandas as pd\n",
        "\n",
        "\n",
        "y_true_series = pd.Series(y_true, name='simulated_cnvs')\n",
        "y_pred_series = pd.Series(y_pred, name='InferCVNV')\n",
        "\n",
        "print(y_pred_series.value_counts())\n",
        "print(y_true_series.value_counts())\n"
      ],
      "metadata": {
        "colab": {
          "base_uri": "https://localhost:8080/"
        },
        "id": "nxLoYJwCCwYR",
        "outputId": "ab6e8e7c-d105-48c6-cdb9-f5808a482582"
      },
      "execution_count": 5,
      "outputs": [
        {
          "output_type": "stream",
          "name": "stdout",
          "text": [
            "InferCVNV\n",
            "0    9499\n",
            "1     810\n",
            "Name: count, dtype: int64\n",
            "simulated_cnvs\n",
            "0    6312\n",
            "1    3997\n",
            "Name: count, dtype: int64\n"
          ]
        }
      ]
    }
  ]
}